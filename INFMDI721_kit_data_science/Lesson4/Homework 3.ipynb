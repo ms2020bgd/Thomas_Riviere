{
 "cells": [
  {
   "cell_type": "code",
   "execution_count": 53,
   "metadata": {
    "ExecuteTime": {
     "end_time": "2019-10-18T13:29:38.206253Z",
     "start_time": "2019-10-18T13:29:38.202284Z"
    }
   },
   "outputs": [],
   "source": [
    "import pandas as pd\n",
    "import requests\n",
    "import re\n",
    "import time"
   ]
  },
  {
   "cell_type": "code",
   "execution_count": 79,
   "metadata": {
    "ExecuteTime": {
     "end_time": "2019-10-18T13:44:26.995808Z",
     "start_time": "2019-10-18T13:44:26.983217Z"
    }
   },
   "outputs": [],
   "source": [
    "df = pd.read_csv(\"products.csv\", sep=\";\")"
   ]
  },
  {
   "cell_type": "code",
   "execution_count": 3,
   "metadata": {
    "ExecuteTime": {
     "end_time": "2019-10-18T13:03:48.763624Z",
     "start_time": "2019-10-18T13:03:48.744589Z"
    }
   },
   "outputs": [
    {
     "data": {
      "text/html": [
       "<div>\n",
       "<style scoped>\n",
       "    .dataframe tbody tr th:only-of-type {\n",
       "        vertical-align: middle;\n",
       "    }\n",
       "\n",
       "    .dataframe tbody tr th {\n",
       "        vertical-align: top;\n",
       "    }\n",
       "\n",
       "    .dataframe thead th {\n",
       "        text-align: right;\n",
       "    }\n",
       "</style>\n",
       "<table border=\"1\" class=\"dataframe\">\n",
       "  <thead>\n",
       "    <tr style=\"text-align: right;\">\n",
       "      <th></th>\n",
       "      <th>username</th>\n",
       "      <th>ip_address</th>\n",
       "      <th>product</th>\n",
       "      <th>price</th>\n",
       "      <th>infos</th>\n",
       "    </tr>\n",
       "  </thead>\n",
       "  <tbody>\n",
       "    <tr>\n",
       "      <td>0</td>\n",
       "      <td>ldrover0</td>\n",
       "      <td>666.666.666.666</td>\n",
       "      <td>Clam - Cherrystone</td>\n",
       "      <td>712.8</td>\n",
       "      <td>May contain sugar</td>\n",
       "    </tr>\n",
       "    <tr>\n",
       "      <td>1</td>\n",
       "      <td>kizakov1</td>\n",
       "      <td>nope</td>\n",
       "      <td>Soup - Campbells Bean Medley</td>\n",
       "      <td>379.26</td>\n",
       "      <td>Contains peanut and fish</td>\n",
       "    </tr>\n",
       "    <tr>\n",
       "      <td>2</td>\n",
       "      <td>abromet2</td>\n",
       "      <td>240.177.79.234</td>\n",
       "      <td>Island Oasis - Lemonade</td>\n",
       "      <td>305.96</td>\n",
       "      <td>Ingredients: mustard and fish</td>\n",
       "    </tr>\n",
       "    <tr>\n",
       "      <td>3</td>\n",
       "      <td>kkarolowski3</td>\n",
       "      <td>26.191.237.49</td>\n",
       "      <td>Water - Mineral, Natural</td>\n",
       "      <td>350.15</td>\n",
       "      <td>Contains gluten</td>\n",
       "    </tr>\n",
       "    <tr>\n",
       "      <td>4</td>\n",
       "      <td>mbuckney4</td>\n",
       "      <td>58.90.204.239</td>\n",
       "      <td>Radish - Pickled</td>\n",
       "      <td>949.79</td>\n",
       "      <td>May contain sugar, egg and fish</td>\n",
       "    </tr>\n",
       "    <tr>\n",
       "      <td>5</td>\n",
       "      <td>bsnozzwell5</td>\n",
       "      <td>226.52.32.70</td>\n",
       "      <td>Oil - Sesame</td>\n",
       "      <td>354.33 MGA</td>\n",
       "      <td>Ingredients: sugar and milk</td>\n",
       "    </tr>\n",
       "    <tr>\n",
       "      <td>6</td>\n",
       "      <td>afairholme6</td>\n",
       "      <td>127.197.204.119</td>\n",
       "      <td>Chicken - Tenderloin</td>\n",
       "      <td>484.83</td>\n",
       "      <td>May contain sugar</td>\n",
       "    </tr>\n",
       "    <tr>\n",
       "      <td>7</td>\n",
       "      <td>avowdon7</td>\n",
       "      <td>189.169.17.54</td>\n",
       "      <td>Dc Hikiage Hira Huba</td>\n",
       "      <td>111.56</td>\n",
       "      <td>Contains sugar</td>\n",
       "    </tr>\n",
       "    <tr>\n",
       "      <td>8</td>\n",
       "      <td>epridham8</td>\n",
       "      <td>187.129.113.105</td>\n",
       "      <td>Dried Figs</td>\n",
       "      <td>88.05</td>\n",
       "      <td>Ingredients: sugar, milk and fish</td>\n",
       "    </tr>\n",
       "    <tr>\n",
       "      <td>9</td>\n",
       "      <td>tkendrew9</td>\n",
       "      <td>22.32.234.215</td>\n",
       "      <td>Pop - Club Soda Can</td>\n",
       "      <td>861.25</td>\n",
       "      <td>May contain peanut, sugar, milk and fish</td>\n",
       "    </tr>\n",
       "  </tbody>\n",
       "</table>\n",
       "</div>"
      ],
      "text/plain": [
       "       username       ip_address                       product       price  \\\n",
       "0      ldrover0  666.666.666.666            Clam - Cherrystone       712.8   \n",
       "1      kizakov1             nope  Soup - Campbells Bean Medley      379.26   \n",
       "2      abromet2   240.177.79.234       Island Oasis - Lemonade      305.96   \n",
       "3  kkarolowski3    26.191.237.49      Water - Mineral, Natural      350.15   \n",
       "4     mbuckney4    58.90.204.239              Radish - Pickled      949.79   \n",
       "5   bsnozzwell5     226.52.32.70                  Oil - Sesame  354.33 MGA   \n",
       "6   afairholme6  127.197.204.119          Chicken - Tenderloin      484.83   \n",
       "7      avowdon7    189.169.17.54          Dc Hikiage Hira Huba      111.56   \n",
       "8     epridham8  187.129.113.105                    Dried Figs       88.05   \n",
       "9     tkendrew9    22.32.234.215           Pop - Club Soda Can      861.25   \n",
       "\n",
       "                                      infos  \n",
       "0                         May contain sugar  \n",
       "1                  Contains peanut and fish  \n",
       "2             Ingredients: mustard and fish  \n",
       "3                           Contains gluten  \n",
       "4           May contain sugar, egg and fish  \n",
       "5               Ingredients: sugar and milk  \n",
       "6                         May contain sugar  \n",
       "7                            Contains sugar  \n",
       "8         Ingredients: sugar, milk and fish  \n",
       "9  May contain peanut, sugar, milk and fish  "
      ]
     },
     "execution_count": 3,
     "metadata": {},
     "output_type": "execute_result"
    }
   ],
   "source": [
    "df.head(10)"
   ]
  },
  {
   "cell_type": "markdown",
   "metadata": {},
   "source": [
    "### On aimerait avoir une colonne de prix unifiés en euros. Problème: la currency n'est pas indiquée pour tous les produits: il va falloir essayer de \"deviner\" les currency manquantes, en se basant sur l'adresse IP de l'utilisateur."
   ]
  },
  {
   "cell_type": "code",
   "execution_count": 62,
   "metadata": {
    "ExecuteTime": {
     "end_time": "2019-10-18T13:33:48.590780Z",
     "start_time": "2019-10-18T13:33:48.584809Z"
    }
   },
   "outputs": [],
   "source": [
    "def get_country_ip(ip, currency=\"EUR\"):\n",
    "    url = f\"http://www.geoplugin.net/json.gp?ip={ip}&base_currency={currency}\"\n",
    "    resp = requests.get(url)\n",
    "    if resp.status_code != 200:\n",
    "        print(resp.status_code)\n",
    "        return 0\n",
    "    else:\n",
    "        data = resp.json()\n",
    "        return data['geoplugin_currencyConverter']"
   ]
  },
  {
   "cell_type": "code",
   "execution_count": 9,
   "metadata": {
    "ExecuteTime": {
     "end_time": "2019-10-18T13:04:35.726071Z",
     "start_time": "2019-10-18T13:04:35.721071Z"
    }
   },
   "outputs": [],
   "source": [
    "def get_currencies_rate():\n",
    "    # return all exchange rate based on USD\n",
    "    url = f\"http://www.apilayer.net/api/live?access_key=acdbfc1a4d1cc81cea718c28a71ddd18\"\n",
    "    resp = requests.get(url)\n",
    "    if resp.status_code != 200:\n",
    "        return 0\n",
    "    else:\n",
    "        return resp.json()['quotes']"
   ]
  },
  {
   "cell_type": "code",
   "execution_count": 10,
   "metadata": {
    "ExecuteTime": {
     "end_time": "2019-10-18T13:04:36.594479Z",
     "start_time": "2019-10-18T13:04:36.250835Z"
    }
   },
   "outputs": [],
   "source": [
    "currencies_rate = get_currencies_rate()"
   ]
  },
  {
   "cell_type": "code",
   "execution_count": 99,
   "metadata": {
    "ExecuteTime": {
     "end_time": "2019-10-17T22:17:42.046222Z",
     "start_time": "2019-10-17T22:17:42.043224Z"
    }
   },
   "outputs": [],
   "source": [
    "# ^(([0-9]|[1-9][0-9]|1[0-9]{2}|2[0-4][0-9]|25[0-5])\\.){3}([0-9]|[1-9][0-9]|1[0-9]{2}|2[0-4][0-9]|25[0-5])$"
   ]
  },
  {
   "cell_type": "code",
   "execution_count": 80,
   "metadata": {
    "ExecuteTime": {
     "end_time": "2019-10-18T13:44:36.865838Z",
     "start_time": "2019-10-18T13:44:36.860852Z"
    }
   },
   "outputs": [],
   "source": [
    "def compute_price_EUR(price, ip_address, currencies_rate):\n",
    "    elmnt = price.split(\" \")\n",
    "    ip_regex = \"^(([0-9]|[1-9][0-9]|1[0-9]{2}|2[0-4][0-9]|25[0-5])\\.){3}([0-9]|[1-9][0-9]|1[0-9]{2}|2[0-4][0-9]|25[0-5])$\"\n",
    "    if len(elmnt)>1:\n",
    "        currency = elmnt[1]\n",
    "        if currency == \"EUR\":\n",
    "            return float(elmnt[0])\n",
    "        else:\n",
    "            return float(elmnt[0])/(currencies_rate['USD'+currency]/currencies_rate['USDEUR'] )\n",
    "        \n",
    "    elif re.search(ip_regex, ip_address) is not None:\n",
    "        currency_rate = get_country_ip(ip_address)\n",
    "        # use to avoid to be blacklisted -> the API authorizes 120 queries/second max\n",
    "        time.sleep(.600)\n",
    "        if currency_rate !=0:\n",
    "            return float(price)/currency_rate\n",
    "        else:\n",
    "            return 0\n",
    "    else:\n",
    "        return 0\n",
    "    "
   ]
  },
  {
   "cell_type": "code",
   "execution_count": 81,
   "metadata": {
    "ExecuteTime": {
     "end_time": "2019-10-18T13:47:05.174552Z",
     "start_time": "2019-10-18T13:44:40.397789Z"
    }
   },
   "outputs": [],
   "source": [
    "df['pivot_price']=df.apply(lambda row: compute_price_EUR(row['price'], row['ip_address'], currencies_rate), axis=1)"
   ]
  },
  {
   "cell_type": "code",
   "execution_count": 82,
   "metadata": {
    "ExecuteTime": {
     "end_time": "2019-10-18T13:48:07.489778Z",
     "start_time": "2019-10-18T13:48:07.477264Z"
    }
   },
   "outputs": [
    {
     "data": {
      "text/html": [
       "<div>\n",
       "<style scoped>\n",
       "    .dataframe tbody tr th:only-of-type {\n",
       "        vertical-align: middle;\n",
       "    }\n",
       "\n",
       "    .dataframe tbody tr th {\n",
       "        vertical-align: top;\n",
       "    }\n",
       "\n",
       "    .dataframe thead th {\n",
       "        text-align: right;\n",
       "    }\n",
       "</style>\n",
       "<table border=\"1\" class=\"dataframe\">\n",
       "  <thead>\n",
       "    <tr style=\"text-align: right;\">\n",
       "      <th></th>\n",
       "      <th>username</th>\n",
       "      <th>ip_address</th>\n",
       "      <th>product</th>\n",
       "      <th>price</th>\n",
       "      <th>infos</th>\n",
       "      <th>pivot_price</th>\n",
       "    </tr>\n",
       "  </thead>\n",
       "  <tbody>\n",
       "    <tr>\n",
       "      <td>0</td>\n",
       "      <td>ldrover0</td>\n",
       "      <td>666.666.666.666</td>\n",
       "      <td>Clam - Cherrystone</td>\n",
       "      <td>712.8</td>\n",
       "      <td>May contain sugar</td>\n",
       "      <td>0.000000</td>\n",
       "    </tr>\n",
       "    <tr>\n",
       "      <td>1</td>\n",
       "      <td>kizakov1</td>\n",
       "      <td>nope</td>\n",
       "      <td>Soup - Campbells Bean Medley</td>\n",
       "      <td>379.26</td>\n",
       "      <td>Contains peanut and fish</td>\n",
       "      <td>0.000000</td>\n",
       "    </tr>\n",
       "    <tr>\n",
       "      <td>2</td>\n",
       "      <td>abromet2</td>\n",
       "      <td>240.177.79.234</td>\n",
       "      <td>Island Oasis - Lemonade</td>\n",
       "      <td>305.96</td>\n",
       "      <td>Ingredients: mustard and fish</td>\n",
       "      <td>0.000000</td>\n",
       "    </tr>\n",
       "    <tr>\n",
       "      <td>3</td>\n",
       "      <td>kkarolowski3</td>\n",
       "      <td>26.191.237.49</td>\n",
       "      <td>Water - Mineral, Natural</td>\n",
       "      <td>350.15</td>\n",
       "      <td>Contains gluten</td>\n",
       "      <td>314.713284</td>\n",
       "    </tr>\n",
       "    <tr>\n",
       "      <td>4</td>\n",
       "      <td>mbuckney4</td>\n",
       "      <td>58.90.204.239</td>\n",
       "      <td>Radish - Pickled</td>\n",
       "      <td>949.79</td>\n",
       "      <td>May contain sugar, egg and fish</td>\n",
       "      <td>7.865026</td>\n",
       "    </tr>\n",
       "    <tr>\n",
       "      <td>...</td>\n",
       "      <td>...</td>\n",
       "      <td>...</td>\n",
       "      <td>...</td>\n",
       "      <td>...</td>\n",
       "      <td>...</td>\n",
       "      <td>...</td>\n",
       "    </tr>\n",
       "    <tr>\n",
       "      <td>195</td>\n",
       "      <td>ccannop5f</td>\n",
       "      <td>174.5.73.129</td>\n",
       "      <td>Nantucket Orange Juice</td>\n",
       "      <td>713.6</td>\n",
       "      <td>Contains gluten, mustard, sugar, milk and fish</td>\n",
       "      <td>488.265481</td>\n",
       "    </tr>\n",
       "    <tr>\n",
       "      <td>196</td>\n",
       "      <td>lprovis5g</td>\n",
       "      <td>191.69.45.257</td>\n",
       "      <td>Jam - Strawberry, 20 Ml Jar</td>\n",
       "      <td>107.78</td>\n",
       "      <td>Contains gluten and sugar</td>\n",
       "      <td>0.000000</td>\n",
       "    </tr>\n",
       "    <tr>\n",
       "      <td>197</td>\n",
       "      <td>iollarenshaw5h</td>\n",
       "      <td>206.30.25.226</td>\n",
       "      <td>Juice - Apple, 341 Ml</td>\n",
       "      <td>447.17 RUB</td>\n",
       "      <td>May contain gluten and soja</td>\n",
       "      <td>6.277302</td>\n",
       "    </tr>\n",
       "    <tr>\n",
       "      <td>198</td>\n",
       "      <td>mjablonski5i</td>\n",
       "      <td>44.133.211.182</td>\n",
       "      <td>Mushroom - Chantrelle, Fresh</td>\n",
       "      <td>632.29</td>\n",
       "      <td>Ingredients: soja and sugar</td>\n",
       "      <td>568.299479</td>\n",
       "    </tr>\n",
       "    <tr>\n",
       "      <td>199</td>\n",
       "      <td>aoggers5j</td>\n",
       "      <td>220.67.127.345</td>\n",
       "      <td>Sambuca - Opal Nera</td>\n",
       "      <td>570.56</td>\n",
       "      <td>May contain gluten, sugar and egg</td>\n",
       "      <td>0.000000</td>\n",
       "    </tr>\n",
       "  </tbody>\n",
       "</table>\n",
       "<p>200 rows × 6 columns</p>\n",
       "</div>"
      ],
      "text/plain": [
       "           username       ip_address                       product  \\\n",
       "0          ldrover0  666.666.666.666            Clam - Cherrystone   \n",
       "1          kizakov1             nope  Soup - Campbells Bean Medley   \n",
       "2          abromet2   240.177.79.234       Island Oasis - Lemonade   \n",
       "3      kkarolowski3    26.191.237.49      Water - Mineral, Natural   \n",
       "4         mbuckney4    58.90.204.239              Radish - Pickled   \n",
       "..              ...              ...                           ...   \n",
       "195       ccannop5f     174.5.73.129        Nantucket Orange Juice   \n",
       "196       lprovis5g    191.69.45.257   Jam - Strawberry, 20 Ml Jar   \n",
       "197  iollarenshaw5h    206.30.25.226         Juice - Apple, 341 Ml   \n",
       "198    mjablonski5i   44.133.211.182  Mushroom - Chantrelle, Fresh   \n",
       "199       aoggers5j   220.67.127.345           Sambuca - Opal Nera   \n",
       "\n",
       "          price                                           infos  pivot_price  \n",
       "0         712.8                               May contain sugar     0.000000  \n",
       "1        379.26                        Contains peanut and fish     0.000000  \n",
       "2        305.96                   Ingredients: mustard and fish     0.000000  \n",
       "3        350.15                                 Contains gluten   314.713284  \n",
       "4        949.79                 May contain sugar, egg and fish     7.865026  \n",
       "..          ...                                             ...          ...  \n",
       "195       713.6  Contains gluten, mustard, sugar, milk and fish   488.265481  \n",
       "196      107.78                       Contains gluten and sugar     0.000000  \n",
       "197  447.17 RUB                     May contain gluten and soja     6.277302  \n",
       "198      632.29                     Ingredients: soja and sugar   568.299479  \n",
       "199      570.56               May contain gluten, sugar and egg     0.000000  \n",
       "\n",
       "[200 rows x 6 columns]"
      ]
     },
     "execution_count": 82,
     "metadata": {},
     "output_type": "execute_result"
    }
   ],
   "source": [
    "df"
   ]
  },
  {
   "cell_type": "code",
   "execution_count": 83,
   "metadata": {
    "ExecuteTime": {
     "end_time": "2019-10-18T13:48:26.394326Z",
     "start_time": "2019-10-18T13:48:26.389356Z"
    }
   },
   "outputs": [
    {
     "data": {
      "text/plain": [
       "159"
      ]
     },
     "execution_count": 83,
     "metadata": {},
     "output_type": "execute_result"
    }
   ],
   "source": [
    "cleaned_data = df.loc[df['pivot_price'] !=0 ]\n",
    "len(cleaned_data)"
   ]
  },
  {
   "cell_type": "markdown",
   "metadata": {},
   "source": [
    "We cannot manage to find the country currency for 41 purchase"
   ]
  },
  {
   "cell_type": "code",
   "execution_count": 69,
   "metadata": {
    "ExecuteTime": {
     "end_time": "2019-10-18T13:38:49.500263Z",
     "start_time": "2019-10-18T13:38:49.487709Z"
    }
   },
   "outputs": [
    {
     "data": {
      "text/html": [
       "<div>\n",
       "<style scoped>\n",
       "    .dataframe tbody tr th:only-of-type {\n",
       "        vertical-align: middle;\n",
       "    }\n",
       "\n",
       "    .dataframe tbody tr th {\n",
       "        vertical-align: top;\n",
       "    }\n",
       "\n",
       "    .dataframe thead th {\n",
       "        text-align: right;\n",
       "    }\n",
       "</style>\n",
       "<table border=\"1\" class=\"dataframe\">\n",
       "  <thead>\n",
       "    <tr style=\"text-align: right;\">\n",
       "      <th></th>\n",
       "      <th>username</th>\n",
       "      <th>ip_address</th>\n",
       "      <th>product</th>\n",
       "      <th>price</th>\n",
       "      <th>infos</th>\n",
       "      <th>pivot_price</th>\n",
       "    </tr>\n",
       "  </thead>\n",
       "  <tbody>\n",
       "    <tr>\n",
       "      <td>3</td>\n",
       "      <td>kkarolowski3</td>\n",
       "      <td>26.191.237.49</td>\n",
       "      <td>Water - Mineral, Natural</td>\n",
       "      <td>350.15</td>\n",
       "      <td>Contains gluten</td>\n",
       "      <td>314.713284</td>\n",
       "    </tr>\n",
       "    <tr>\n",
       "      <td>4</td>\n",
       "      <td>mbuckney4</td>\n",
       "      <td>58.90.204.239</td>\n",
       "      <td>Radish - Pickled</td>\n",
       "      <td>949.79</td>\n",
       "      <td>May contain sugar, egg and fish</td>\n",
       "      <td>7.865026</td>\n",
       "    </tr>\n",
       "    <tr>\n",
       "      <td>5</td>\n",
       "      <td>bsnozzwell5</td>\n",
       "      <td>226.52.32.70</td>\n",
       "      <td>Oil - Sesame</td>\n",
       "      <td>354.33 MGA</td>\n",
       "      <td>Ingredients: sugar and milk</td>\n",
       "      <td>0.087496</td>\n",
       "    </tr>\n",
       "    <tr>\n",
       "      <td>7</td>\n",
       "      <td>avowdon7</td>\n",
       "      <td>189.169.17.54</td>\n",
       "      <td>Dc Hikiage Hira Huba</td>\n",
       "      <td>111.56</td>\n",
       "      <td>Contains sugar</td>\n",
       "      <td>5.242235</td>\n",
       "    </tr>\n",
       "    <tr>\n",
       "      <td>8</td>\n",
       "      <td>epridham8</td>\n",
       "      <td>187.129.113.105</td>\n",
       "      <td>Dried Figs</td>\n",
       "      <td>88.05</td>\n",
       "      <td>Ingredients: sugar, milk and fish</td>\n",
       "      <td>4.120455</td>\n",
       "    </tr>\n",
       "    <tr>\n",
       "      <td>...</td>\n",
       "      <td>...</td>\n",
       "      <td>...</td>\n",
       "      <td>...</td>\n",
       "      <td>...</td>\n",
       "      <td>...</td>\n",
       "      <td>...</td>\n",
       "    </tr>\n",
       "    <tr>\n",
       "      <td>191</td>\n",
       "      <td>ecasserley5b</td>\n",
       "      <td>82.78.162.116</td>\n",
       "      <td>Cup - 8oz Coffee Perforated</td>\n",
       "      <td>714.56</td>\n",
       "      <td>Ingredients: sugar and fish</td>\n",
       "      <td>150.297625</td>\n",
       "    </tr>\n",
       "    <tr>\n",
       "      <td>193</td>\n",
       "      <td>tliddyard5d</td>\n",
       "      <td>93.22.46.177</td>\n",
       "      <td>Shrimp - Black Tiger 6 - 8</td>\n",
       "      <td>300.03</td>\n",
       "      <td>Ingredients: sugar, egg and fish</td>\n",
       "      <td>300.030000</td>\n",
       "    </tr>\n",
       "    <tr>\n",
       "      <td>195</td>\n",
       "      <td>ccannop5f</td>\n",
       "      <td>174.5.73.129</td>\n",
       "      <td>Nantucket Orange Juice</td>\n",
       "      <td>713.6</td>\n",
       "      <td>Contains gluten, mustard, sugar, milk and fish</td>\n",
       "      <td>488.265481</td>\n",
       "    </tr>\n",
       "    <tr>\n",
       "      <td>197</td>\n",
       "      <td>iollarenshaw5h</td>\n",
       "      <td>206.30.25.226</td>\n",
       "      <td>Juice - Apple, 341 Ml</td>\n",
       "      <td>447.17 RUB</td>\n",
       "      <td>May contain gluten and soja</td>\n",
       "      <td>6.277302</td>\n",
       "    </tr>\n",
       "    <tr>\n",
       "      <td>198</td>\n",
       "      <td>mjablonski5i</td>\n",
       "      <td>44.133.211.182</td>\n",
       "      <td>Mushroom - Chantrelle, Fresh</td>\n",
       "      <td>632.29</td>\n",
       "      <td>Ingredients: soja and sugar</td>\n",
       "      <td>568.299479</td>\n",
       "    </tr>\n",
       "  </tbody>\n",
       "</table>\n",
       "<p>159 rows × 6 columns</p>\n",
       "</div>"
      ],
      "text/plain": [
       "           username       ip_address                       product  \\\n",
       "3      kkarolowski3    26.191.237.49      Water - Mineral, Natural   \n",
       "4         mbuckney4    58.90.204.239              Radish - Pickled   \n",
       "5       bsnozzwell5     226.52.32.70                  Oil - Sesame   \n",
       "7          avowdon7    189.169.17.54          Dc Hikiage Hira Huba   \n",
       "8         epridham8  187.129.113.105                    Dried Figs   \n",
       "..              ...              ...                           ...   \n",
       "191    ecasserley5b    82.78.162.116   Cup - 8oz Coffee Perforated   \n",
       "193     tliddyard5d     93.22.46.177    Shrimp - Black Tiger 6 - 8   \n",
       "195       ccannop5f     174.5.73.129        Nantucket Orange Juice   \n",
       "197  iollarenshaw5h    206.30.25.226         Juice - Apple, 341 Ml   \n",
       "198    mjablonski5i   44.133.211.182  Mushroom - Chantrelle, Fresh   \n",
       "\n",
       "          price                                           infos  pivot_price  \n",
       "3        350.15                                 Contains gluten   314.713284  \n",
       "4        949.79                 May contain sugar, egg and fish     7.865026  \n",
       "5    354.33 MGA                     Ingredients: sugar and milk     0.087496  \n",
       "7        111.56                                  Contains sugar     5.242235  \n",
       "8         88.05               Ingredients: sugar, milk and fish     4.120455  \n",
       "..          ...                                             ...          ...  \n",
       "191      714.56                     Ingredients: sugar and fish   150.297625  \n",
       "193      300.03                Ingredients: sugar, egg and fish   300.030000  \n",
       "195       713.6  Contains gluten, mustard, sugar, milk and fish   488.265481  \n",
       "197  447.17 RUB                     May contain gluten and soja     6.277302  \n",
       "198      632.29                     Ingredients: soja and sugar   568.299479  \n",
       "\n",
       "[159 rows x 6 columns]"
      ]
     },
     "execution_count": 69,
     "metadata": {},
     "output_type": "execute_result"
    }
   ],
   "source": [
    "cleaned_data"
   ]
  },
  {
   "cell_type": "markdown",
   "metadata": {},
   "source": [
    "### La colonne \"infos\" liste des ingrédients présents dans le produit. On préfèrerait avoir une colonne de type bool par ingrédient, indiquant si le produit contient ou non cet ingrédient."
   ]
  },
  {
   "cell_type": "code",
   "execution_count": 84,
   "metadata": {
    "ExecuteTime": {
     "end_time": "2019-10-18T13:49:39.823057Z",
     "start_time": "2019-10-18T13:49:39.818055Z"
    }
   },
   "outputs": [
    {
     "data": {
      "text/plain": [
       "0                  May contain sugar\n",
       "1           Contains peanut and fish\n",
       "2      Ingredients: mustard and fish\n",
       "3                    Contains gluten\n",
       "4    May contain sugar, egg and fish\n",
       "Name: infos, dtype: object"
      ]
     },
     "execution_count": 84,
     "metadata": {},
     "output_type": "execute_result"
    }
   ],
   "source": [
    "df.infos.head()"
   ]
  },
  {
   "cell_type": "code",
   "execution_count": 85,
   "metadata": {
    "ExecuteTime": {
     "end_time": "2019-10-18T13:49:40.447660Z",
     "start_time": "2019-10-18T13:49:40.442658Z"
    }
   },
   "outputs": [],
   "source": [
    "# On place chaque mot dans une liste et on enlève les stops words\n",
    "def split_and_clean_words(ingredients):\n",
    "    list_ingred  = ingredients.replace(\",\", \"\").split(\" \")\n",
    "    stop_words = {\"May\", \"contain\", \"Contains\",\"Ingredients:\", \"and\"}\n",
    "    return list(set(list_ingred).difference(stop_words))\n",
    "\n",
    "# on effectue le traitement pour chaque ligne, la colonne infos est supprimée au profit de infos_list\n",
    "df['infos_list'] = df.pop('infos').apply(lambda ingredients: split_and_clean_words(ingredients) )"
   ]
  },
  {
   "cell_type": "code",
   "execution_count": 86,
   "metadata": {
    "ExecuteTime": {
     "end_time": "2019-10-18T13:49:42.337561Z",
     "start_time": "2019-10-18T13:49:42.327562Z"
    }
   },
   "outputs": [
    {
     "data": {
      "text/html": [
       "<div>\n",
       "<style scoped>\n",
       "    .dataframe tbody tr th:only-of-type {\n",
       "        vertical-align: middle;\n",
       "    }\n",
       "\n",
       "    .dataframe tbody tr th {\n",
       "        vertical-align: top;\n",
       "    }\n",
       "\n",
       "    .dataframe thead th {\n",
       "        text-align: right;\n",
       "    }\n",
       "</style>\n",
       "<table border=\"1\" class=\"dataframe\">\n",
       "  <thead>\n",
       "    <tr style=\"text-align: right;\">\n",
       "      <th></th>\n",
       "      <th>username</th>\n",
       "      <th>ip_address</th>\n",
       "      <th>product</th>\n",
       "      <th>price</th>\n",
       "      <th>pivot_price</th>\n",
       "      <th>infos_list</th>\n",
       "    </tr>\n",
       "  </thead>\n",
       "  <tbody>\n",
       "    <tr>\n",
       "      <td>0</td>\n",
       "      <td>ldrover0</td>\n",
       "      <td>666.666.666.666</td>\n",
       "      <td>Clam - Cherrystone</td>\n",
       "      <td>712.8</td>\n",
       "      <td>0.000000</td>\n",
       "      <td>[sugar]</td>\n",
       "    </tr>\n",
       "    <tr>\n",
       "      <td>1</td>\n",
       "      <td>kizakov1</td>\n",
       "      <td>nope</td>\n",
       "      <td>Soup - Campbells Bean Medley</td>\n",
       "      <td>379.26</td>\n",
       "      <td>0.000000</td>\n",
       "      <td>[peanut, fish]</td>\n",
       "    </tr>\n",
       "    <tr>\n",
       "      <td>2</td>\n",
       "      <td>abromet2</td>\n",
       "      <td>240.177.79.234</td>\n",
       "      <td>Island Oasis - Lemonade</td>\n",
       "      <td>305.96</td>\n",
       "      <td>0.000000</td>\n",
       "      <td>[fish, mustard]</td>\n",
       "    </tr>\n",
       "    <tr>\n",
       "      <td>3</td>\n",
       "      <td>kkarolowski3</td>\n",
       "      <td>26.191.237.49</td>\n",
       "      <td>Water - Mineral, Natural</td>\n",
       "      <td>350.15</td>\n",
       "      <td>314.713284</td>\n",
       "      <td>[gluten]</td>\n",
       "    </tr>\n",
       "    <tr>\n",
       "      <td>4</td>\n",
       "      <td>mbuckney4</td>\n",
       "      <td>58.90.204.239</td>\n",
       "      <td>Radish - Pickled</td>\n",
       "      <td>949.79</td>\n",
       "      <td>7.865026</td>\n",
       "      <td>[egg, sugar, fish]</td>\n",
       "    </tr>\n",
       "  </tbody>\n",
       "</table>\n",
       "</div>"
      ],
      "text/plain": [
       "       username       ip_address                       product   price  \\\n",
       "0      ldrover0  666.666.666.666            Clam - Cherrystone   712.8   \n",
       "1      kizakov1             nope  Soup - Campbells Bean Medley  379.26   \n",
       "2      abromet2   240.177.79.234       Island Oasis - Lemonade  305.96   \n",
       "3  kkarolowski3    26.191.237.49      Water - Mineral, Natural  350.15   \n",
       "4     mbuckney4    58.90.204.239              Radish - Pickled  949.79   \n",
       "\n",
       "   pivot_price          infos_list  \n",
       "0     0.000000             [sugar]  \n",
       "1     0.000000      [peanut, fish]  \n",
       "2     0.000000     [fish, mustard]  \n",
       "3   314.713284            [gluten]  \n",
       "4     7.865026  [egg, sugar, fish]  "
      ]
     },
     "execution_count": 86,
     "metadata": {},
     "output_type": "execute_result"
    }
   ],
   "source": [
    "df.head()"
   ]
  },
  {
   "cell_type": "code",
   "execution_count": 87,
   "metadata": {
    "ExecuteTime": {
     "end_time": "2019-10-18T13:49:44.744422Z",
     "start_time": "2019-10-18T13:49:44.737455Z"
    }
   },
   "outputs": [],
   "source": [
    "from sklearn.preprocessing import MultiLabelBinarizer\n",
    "\n",
    "# On importe ce  module de sklearn qui permet d'encoder avec des 1 et des 0 les \n",
    "# valeurs contenues dans des listes dans autant de colonnes qu'il y a de valeurs différentes\n",
    "mlb = MultiLabelBinarizer()\n",
    "df = df.join(pd.DataFrame(mlb.fit_transform(df.pop('infos_list')),\n",
    "                          columns=mlb.classes_,\n",
    "                          index=df.index).replace({1: True, 0: False}))\n",
    "# la fonction replace permet de remplacer les 1 par True et 0 par False, comme noussouhaitions avoir des \n",
    "# colonnes de booléens"
   ]
  },
  {
   "cell_type": "code",
   "execution_count": 88,
   "metadata": {
    "ExecuteTime": {
     "end_time": "2019-10-18T13:49:46.259126Z",
     "start_time": "2019-10-18T13:49:46.245130Z"
    }
   },
   "outputs": [
    {
     "data": {
      "text/html": [
       "<div>\n",
       "<style scoped>\n",
       "    .dataframe tbody tr th:only-of-type {\n",
       "        vertical-align: middle;\n",
       "    }\n",
       "\n",
       "    .dataframe tbody tr th {\n",
       "        vertical-align: top;\n",
       "    }\n",
       "\n",
       "    .dataframe thead th {\n",
       "        text-align: right;\n",
       "    }\n",
       "</style>\n",
       "<table border=\"1\" class=\"dataframe\">\n",
       "  <thead>\n",
       "    <tr style=\"text-align: right;\">\n",
       "      <th></th>\n",
       "      <th>username</th>\n",
       "      <th>ip_address</th>\n",
       "      <th>product</th>\n",
       "      <th>price</th>\n",
       "      <th>pivot_price</th>\n",
       "      <th>egg</th>\n",
       "      <th>fish</th>\n",
       "      <th>gluten</th>\n",
       "      <th>milk</th>\n",
       "      <th>mustard</th>\n",
       "      <th>peanut</th>\n",
       "      <th>soja</th>\n",
       "      <th>sugar</th>\n",
       "    </tr>\n",
       "  </thead>\n",
       "  <tbody>\n",
       "    <tr>\n",
       "      <td>0</td>\n",
       "      <td>ldrover0</td>\n",
       "      <td>666.666.666.666</td>\n",
       "      <td>Clam - Cherrystone</td>\n",
       "      <td>712.8</td>\n",
       "      <td>0.000000</td>\n",
       "      <td>False</td>\n",
       "      <td>False</td>\n",
       "      <td>False</td>\n",
       "      <td>False</td>\n",
       "      <td>False</td>\n",
       "      <td>False</td>\n",
       "      <td>False</td>\n",
       "      <td>True</td>\n",
       "    </tr>\n",
       "    <tr>\n",
       "      <td>1</td>\n",
       "      <td>kizakov1</td>\n",
       "      <td>nope</td>\n",
       "      <td>Soup - Campbells Bean Medley</td>\n",
       "      <td>379.26</td>\n",
       "      <td>0.000000</td>\n",
       "      <td>False</td>\n",
       "      <td>True</td>\n",
       "      <td>False</td>\n",
       "      <td>False</td>\n",
       "      <td>False</td>\n",
       "      <td>True</td>\n",
       "      <td>False</td>\n",
       "      <td>False</td>\n",
       "    </tr>\n",
       "    <tr>\n",
       "      <td>2</td>\n",
       "      <td>abromet2</td>\n",
       "      <td>240.177.79.234</td>\n",
       "      <td>Island Oasis - Lemonade</td>\n",
       "      <td>305.96</td>\n",
       "      <td>0.000000</td>\n",
       "      <td>False</td>\n",
       "      <td>True</td>\n",
       "      <td>False</td>\n",
       "      <td>False</td>\n",
       "      <td>True</td>\n",
       "      <td>False</td>\n",
       "      <td>False</td>\n",
       "      <td>False</td>\n",
       "    </tr>\n",
       "    <tr>\n",
       "      <td>3</td>\n",
       "      <td>kkarolowski3</td>\n",
       "      <td>26.191.237.49</td>\n",
       "      <td>Water - Mineral, Natural</td>\n",
       "      <td>350.15</td>\n",
       "      <td>314.713284</td>\n",
       "      <td>False</td>\n",
       "      <td>False</td>\n",
       "      <td>True</td>\n",
       "      <td>False</td>\n",
       "      <td>False</td>\n",
       "      <td>False</td>\n",
       "      <td>False</td>\n",
       "      <td>False</td>\n",
       "    </tr>\n",
       "    <tr>\n",
       "      <td>4</td>\n",
       "      <td>mbuckney4</td>\n",
       "      <td>58.90.204.239</td>\n",
       "      <td>Radish - Pickled</td>\n",
       "      <td>949.79</td>\n",
       "      <td>7.865026</td>\n",
       "      <td>True</td>\n",
       "      <td>True</td>\n",
       "      <td>False</td>\n",
       "      <td>False</td>\n",
       "      <td>False</td>\n",
       "      <td>False</td>\n",
       "      <td>False</td>\n",
       "      <td>True</td>\n",
       "    </tr>\n",
       "  </tbody>\n",
       "</table>\n",
       "</div>"
      ],
      "text/plain": [
       "       username       ip_address                       product   price  \\\n",
       "0      ldrover0  666.666.666.666            Clam - Cherrystone   712.8   \n",
       "1      kizakov1             nope  Soup - Campbells Bean Medley  379.26   \n",
       "2      abromet2   240.177.79.234       Island Oasis - Lemonade  305.96   \n",
       "3  kkarolowski3    26.191.237.49      Water - Mineral, Natural  350.15   \n",
       "4     mbuckney4    58.90.204.239              Radish - Pickled  949.79   \n",
       "\n",
       "   pivot_price    egg   fish  gluten   milk  mustard  peanut   soja  sugar  \n",
       "0     0.000000  False  False   False  False    False   False  False   True  \n",
       "1     0.000000  False   True   False  False    False    True  False  False  \n",
       "2     0.000000  False   True   False  False     True   False  False  False  \n",
       "3   314.713284  False  False    True  False    False   False  False  False  \n",
       "4     7.865026   True   True   False  False    False   False  False   True  "
      ]
     },
     "execution_count": 88,
     "metadata": {},
     "output_type": "execute_result"
    }
   ],
   "source": [
    "df.head()"
   ]
  }
 ],
 "metadata": {
  "kernelspec": {
   "display_name": "Python 3",
   "language": "python",
   "name": "python3"
  },
  "language_info": {
   "codemirror_mode": {
    "name": "ipython",
    "version": 3
   },
   "file_extension": ".py",
   "mimetype": "text/x-python",
   "name": "python",
   "nbconvert_exporter": "python",
   "pygments_lexer": "ipython3",
   "version": "3.6.9"
  }
 },
 "nbformat": 4,
 "nbformat_minor": 2
}
