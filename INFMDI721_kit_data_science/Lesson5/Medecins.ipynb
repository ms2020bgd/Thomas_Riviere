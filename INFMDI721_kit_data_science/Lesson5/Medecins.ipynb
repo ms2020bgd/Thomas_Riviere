{
 "cells": [
  {
   "cell_type": "code",
   "execution_count": 81,
   "metadata": {
    "ExecuteTime": {
     "end_time": "2019-11-06T22:21:42.455771Z",
     "start_time": "2019-11-06T22:21:41.631947Z"
    }
   },
   "outputs": [],
   "source": [
    "import pandas as pd\n",
    "\n",
    "specialiste = pd.read_excel ('Honoraires_totaux_des_professionnels_de_sante_par_departement_en_2017.xls', sheet_name='Spécialistes')\n",
    "generalistes = pd.read_excel ('Honoraires_totaux_des_professionnels_de_sante_par_departement_en_2017.xls', sheet_name='Généralistes et MEP')\n",
    "dentiste = pd.read_excel ('Honoraires_totaux_des_professionnels_de_sante_par_departement_en_2017.xls', sheet_name='Dentistes et ODF')\n"
   ]
  },
  {
   "cell_type": "code",
   "execution_count": 82,
   "metadata": {
    "ExecuteTime": {
     "end_time": "2019-11-06T22:21:42.461620Z",
     "start_time": "2019-11-06T22:21:42.456621Z"
    }
   },
   "outputs": [],
   "source": [
    "specialiste['CAT'] = \"specialistes\"\n",
    "generalistes['CAT'] = \"generalistes\"\n",
    "dentiste['CAT'] = \"dentistes\""
   ]
  },
  {
   "cell_type": "code",
   "execution_count": 83,
   "metadata": {
    "ExecuteTime": {
     "end_time": "2019-11-06T22:21:42.481612Z",
     "start_time": "2019-11-06T22:21:42.462585Z"
    }
   },
   "outputs": [],
   "source": [
    "specialiste = specialiste.rename(columns={\"Spécialistes\": \"SPECIALITE\"})\n",
    "generalistes = generalistes.rename(columns={\"Généralistes et compétences MEP\": \"SPECIALITE\"})\n",
    "dentiste = dentiste.rename(columns={\"Chirurgiens-dentistes et ODF\": \"SPECIALITE\"})"
   ]
  },
  {
   "cell_type": "code",
   "execution_count": 84,
   "metadata": {
    "ExecuteTime": {
     "end_time": "2019-11-06T22:21:42.485586Z",
     "start_time": "2019-11-06T22:21:42.482609Z"
    }
   },
   "outputs": [],
   "source": [
    "frames = [specialiste, generalistes, dentiste]"
   ]
  },
  {
   "cell_type": "code",
   "execution_count": 85,
   "metadata": {
    "ExecuteTime": {
     "end_time": "2019-11-06T22:21:42.496613Z",
     "start_time": "2019-11-06T22:21:42.487586Z"
    }
   },
   "outputs": [],
   "source": [
    "df = pd.concat(frames, ignore_index=True, sort=False)"
   ]
  },
  {
   "cell_type": "code",
   "execution_count": 86,
   "metadata": {
    "ExecuteTime": {
     "end_time": "2019-11-06T22:21:42.506586Z",
     "start_time": "2019-11-06T22:21:42.498612Z"
    }
   },
   "outputs": [],
   "source": [
    "df = df.rename(columns={\"HONORAIRES SANS DEPASSEMENT (Euros)\": \"HONORAIRES_SANS_DEP\", \"DEPASSEMENTS (Euros)\": \"DEPASSEMENTS\", \"FRAIS DE DEPLACEMENT (Euros)\": \"FRAIS_DEPLMT\", \"TOTAL DES HONORAIRES (Euros)\": \"TOTAL_HONORAIRES\"})"
   ]
  },
  {
   "cell_type": "code",
   "execution_count": 87,
   "metadata": {
    "ExecuteTime": {
     "end_time": "2019-11-06T22:21:42.658804Z",
     "start_time": "2019-11-06T22:21:42.654809Z"
    }
   },
   "outputs": [
    {
     "data": {
      "text/plain": [
       "Index(['SPECIALITE', 'DEPARTEMENT', 'EFFECTIFS', 'HONORAIRES_SANS_DEP',\n",
       "       'DEPASSEMENTS', 'FRAIS_DEPLMT', 'TOTAL_HONORAIRES', 'CAT'],\n",
       "      dtype='object')"
      ]
     },
     "execution_count": 87,
     "metadata": {},
     "output_type": "execute_result"
    }
   ],
   "source": [
    "df.columns"
   ]
  },
  {
   "cell_type": "code",
   "execution_count": 88,
   "metadata": {
    "ExecuteTime": {
     "end_time": "2019-11-06T22:21:43.213731Z",
     "start_time": "2019-11-06T22:21:43.183607Z"
    }
   },
   "outputs": [],
   "source": [
    "df = df[~df['SPECIALITE'].str.contains(\"TOTAL|total\")]\n",
    "df = df[~df['DEPARTEMENT'].str.contains(\"TOTAL|total\")]\n",
    "df = df[df.EFFECTIFS >10]"
   ]
  },
  {
   "cell_type": "code",
   "execution_count": 89,
   "metadata": {
    "ExecuteTime": {
     "end_time": "2019-11-06T22:21:43.718163Z",
     "start_time": "2019-11-06T22:21:43.711931Z"
    }
   },
   "outputs": [],
   "source": [
    "df[\"HONORAIRES_SANS_DEP\"] = df[\"HONORAIRES_SANS_DEP\"].astype(int)\n",
    "df[\"DEPASSEMENTS\"] = df[\"DEPASSEMENTS\"].astype(int)\n",
    "df[\"FRAIS_DEPLMT\"] = df[\"FRAIS_DEPLMT\"].astype(int)\n",
    "df[\"TOTAL_HONORAIRES\"] = df[\"TOTAL_HONORAIRES\"].astype(int)"
   ]
  },
  {
   "cell_type": "code",
   "execution_count": 90,
   "metadata": {
    "ExecuteTime": {
     "end_time": "2019-11-06T22:21:44.850740Z",
     "start_time": "2019-11-06T22:21:44.836737Z"
    },
    "scrolled": true
   },
   "outputs": [
    {
     "data": {
      "text/html": [
       "<div>\n",
       "<style scoped>\n",
       "    .dataframe tbody tr th:only-of-type {\n",
       "        vertical-align: middle;\n",
       "    }\n",
       "\n",
       "    .dataframe tbody tr th {\n",
       "        vertical-align: top;\n",
       "    }\n",
       "\n",
       "    .dataframe thead th {\n",
       "        text-align: right;\n",
       "    }\n",
       "</style>\n",
       "<table border=\"1\" class=\"dataframe\">\n",
       "  <thead>\n",
       "    <tr style=\"text-align: right;\">\n",
       "      <th></th>\n",
       "      <th>SPECIALITE</th>\n",
       "      <th>DEPARTEMENT</th>\n",
       "      <th>EFFECTIFS</th>\n",
       "      <th>HONORAIRES_SANS_DEP</th>\n",
       "      <th>DEPASSEMENTS</th>\n",
       "      <th>FRAIS_DEPLMT</th>\n",
       "      <th>TOTAL_HONORAIRES</th>\n",
       "    </tr>\n",
       "  </thead>\n",
       "  <tbody>\n",
       "    <tr>\n",
       "      <td>0</td>\n",
       "      <td>02- Anesthésie-réanimation chirurgicale</td>\n",
       "      <td>01- Ain</td>\n",
       "      <td>17</td>\n",
       "      <td>4675795</td>\n",
       "      <td>2548194</td>\n",
       "      <td>0</td>\n",
       "      <td>7223990</td>\n",
       "    </tr>\n",
       "    <tr>\n",
       "      <td>1</td>\n",
       "      <td>02- Anesthésie-réanimation chirurgicale</td>\n",
       "      <td>02- Aisne</td>\n",
       "      <td>18</td>\n",
       "      <td>5196860</td>\n",
       "      <td>388808</td>\n",
       "      <td>0</td>\n",
       "      <td>5585668</td>\n",
       "    </tr>\n",
       "    <tr>\n",
       "      <td>2</td>\n",
       "      <td>02- Anesthésie-réanimation chirurgicale</td>\n",
       "      <td>03- Allier</td>\n",
       "      <td>17</td>\n",
       "      <td>4738207</td>\n",
       "      <td>530489</td>\n",
       "      <td>0</td>\n",
       "      <td>5268697</td>\n",
       "    </tr>\n",
       "    <tr>\n",
       "      <td>5</td>\n",
       "      <td>02- Anesthésie-réanimation chirurgicale</td>\n",
       "      <td>06- Alpes-Maritimes</td>\n",
       "      <td>108</td>\n",
       "      <td>25614553</td>\n",
       "      <td>11165710</td>\n",
       "      <td>0</td>\n",
       "      <td>36780264</td>\n",
       "    </tr>\n",
       "    <tr>\n",
       "      <td>6</td>\n",
       "      <td>02- Anesthésie-réanimation chirurgicale</td>\n",
       "      <td>07- Ardèche</td>\n",
       "      <td>21</td>\n",
       "      <td>5613968</td>\n",
       "      <td>798986</td>\n",
       "      <td>0</td>\n",
       "      <td>6412955</td>\n",
       "    </tr>\n",
       "    <tr>\n",
       "      <td>...</td>\n",
       "      <td>...</td>\n",
       "      <td>...</td>\n",
       "      <td>...</td>\n",
       "      <td>...</td>\n",
       "      <td>...</td>\n",
       "      <td>...</td>\n",
       "      <td>...</td>\n",
       "    </tr>\n",
       "    <tr>\n",
       "      <td>13092</td>\n",
       "      <td>36- Chirurgiens-dentistes, spécialistes O.D.F.</td>\n",
       "      <td>92- Hauts-de-Seine</td>\n",
       "      <td>84</td>\n",
       "      <td>11335296</td>\n",
       "      <td>33706544</td>\n",
       "      <td>0</td>\n",
       "      <td>45041841</td>\n",
       "    </tr>\n",
       "    <tr>\n",
       "      <td>13093</td>\n",
       "      <td>36- Chirurgiens-dentistes, spécialistes O.D.F.</td>\n",
       "      <td>93- Seine-St-Denis</td>\n",
       "      <td>31</td>\n",
       "      <td>4764196</td>\n",
       "      <td>10755229</td>\n",
       "      <td>0</td>\n",
       "      <td>15519425</td>\n",
       "    </tr>\n",
       "    <tr>\n",
       "      <td>13094</td>\n",
       "      <td>36- Chirurgiens-dentistes, spécialistes O.D.F.</td>\n",
       "      <td>94- Val-de-Marne</td>\n",
       "      <td>45</td>\n",
       "      <td>6401482</td>\n",
       "      <td>16523542</td>\n",
       "      <td>0</td>\n",
       "      <td>22925025</td>\n",
       "    </tr>\n",
       "    <tr>\n",
       "      <td>13095</td>\n",
       "      <td>36- Chirurgiens-dentistes, spécialistes O.D.F.</td>\n",
       "      <td>95- Val-d'Oise</td>\n",
       "      <td>26</td>\n",
       "      <td>5353708</td>\n",
       "      <td>13496683</td>\n",
       "      <td>0</td>\n",
       "      <td>18850392</td>\n",
       "    </tr>\n",
       "    <tr>\n",
       "      <td>13100</td>\n",
       "      <td>36- Chirurgiens-dentistes, spécialistes O.D.F.</td>\n",
       "      <td>974- Réunion</td>\n",
       "      <td>18</td>\n",
       "      <td>4017097</td>\n",
       "      <td>6318516</td>\n",
       "      <td>0</td>\n",
       "      <td>10335613</td>\n",
       "    </tr>\n",
       "  </tbody>\n",
       "</table>\n",
       "<p>1762 rows × 7 columns</p>\n",
       "</div>"
      ],
      "text/plain": [
       "                                           SPECIALITE          DEPARTEMENT  \\\n",
       "0             02- Anesthésie-réanimation chirurgicale              01- Ain   \n",
       "1             02- Anesthésie-réanimation chirurgicale            02- Aisne   \n",
       "2             02- Anesthésie-réanimation chirurgicale           03- Allier   \n",
       "5             02- Anesthésie-réanimation chirurgicale  06- Alpes-Maritimes   \n",
       "6             02- Anesthésie-réanimation chirurgicale          07- Ardèche   \n",
       "...                                               ...                  ...   \n",
       "13092  36- Chirurgiens-dentistes, spécialistes O.D.F.   92- Hauts-de-Seine   \n",
       "13093  36- Chirurgiens-dentistes, spécialistes O.D.F.   93- Seine-St-Denis   \n",
       "13094  36- Chirurgiens-dentistes, spécialistes O.D.F.     94- Val-de-Marne   \n",
       "13095  36- Chirurgiens-dentistes, spécialistes O.D.F.       95- Val-d'Oise   \n",
       "13100  36- Chirurgiens-dentistes, spécialistes O.D.F.         974- Réunion   \n",
       "\n",
       "       EFFECTIFS  HONORAIRES_SANS_DEP  DEPASSEMENTS  FRAIS_DEPLMT  \\\n",
       "0             17              4675795       2548194             0   \n",
       "1             18              5196860        388808             0   \n",
       "2             17              4738207        530489             0   \n",
       "5            108             25614553      11165710             0   \n",
       "6             21              5613968        798986             0   \n",
       "...          ...                  ...           ...           ...   \n",
       "13092         84             11335296      33706544             0   \n",
       "13093         31              4764196      10755229             0   \n",
       "13094         45              6401482      16523542             0   \n",
       "13095         26              5353708      13496683             0   \n",
       "13100         18              4017097       6318516             0   \n",
       "\n",
       "       TOTAL_HONORAIRES  \n",
       "0               7223990  \n",
       "1               5585668  \n",
       "2               5268697  \n",
       "5              36780264  \n",
       "6               6412955  \n",
       "...                 ...  \n",
       "13092          45041841  \n",
       "13093          15519425  \n",
       "13094          22925025  \n",
       "13095          18850392  \n",
       "13100          10335613  \n",
       "\n",
       "[1762 rows x 7 columns]"
      ]
     },
     "execution_count": 90,
     "metadata": {},
     "output_type": "execute_result"
    }
   ],
   "source": [
    "df[['SPECIALITE', 'DEPARTEMENT', 'EFFECTIFS', 'HONORAIRES_SANS_DEP',\n",
    "       'DEPASSEMENTS', 'FRAIS_DEPLMT', 'TOTAL_HONORAIRES']]"
   ]
  },
  {
   "cell_type": "code",
   "execution_count": 69,
   "metadata": {
    "ExecuteTime": {
     "end_time": "2019-11-06T22:18:48.339333Z",
     "start_time": "2019-11-06T22:18:48.334331Z"
    }
   },
   "outputs": [
    {
     "data": {
      "text/plain": [
       "Index(['SPECIALITE', 'DEPARTEMENT', 'EFFECTIFS', 'HONORAIRES_SANS_DEP',\n",
       "       'DEPASSEMENTS', 'FRAIS_DEPLMT', 'TOTAL_HONORAIRES', 'CAT'],\n",
       "      dtype='object')"
      ]
     },
     "execution_count": 69,
     "metadata": {},
     "output_type": "execute_result"
    }
   ],
   "source": [
    "df.columns"
   ]
  },
  {
   "cell_type": "markdown",
   "metadata": {},
   "source": [
    "## Quelle sont les spécialités qui ont le plus de dépassements d'honoraire par médecin ?"
   ]
  },
  {
   "cell_type": "code",
   "execution_count": 71,
   "metadata": {
    "ExecuteTime": {
     "end_time": "2019-11-06T22:18:51.172715Z",
     "start_time": "2019-11-06T22:18:51.148326Z"
    },
    "scrolled": true
   },
   "outputs": [
    {
     "data": {
      "text/html": [
       "<div>\n",
       "<style scoped>\n",
       "    .dataframe tbody tr th:only-of-type {\n",
       "        vertical-align: middle;\n",
       "    }\n",
       "\n",
       "    .dataframe tbody tr th {\n",
       "        vertical-align: top;\n",
       "    }\n",
       "\n",
       "    .dataframe thead th {\n",
       "        text-align: right;\n",
       "    }\n",
       "</style>\n",
       "<table border=\"1\" class=\"dataframe\">\n",
       "  <thead>\n",
       "    <tr style=\"text-align: right;\">\n",
       "      <th></th>\n",
       "      <th>HONORAIRES_SANS_DEP</th>\n",
       "      <th>DEPASSEMENTS</th>\n",
       "      <th>FRAIS_DEPLMT</th>\n",
       "      <th>TOTAL_HONORAIRES</th>\n",
       "    </tr>\n",
       "    <tr>\n",
       "      <th>SPECIALITE</th>\n",
       "      <th></th>\n",
       "      <th></th>\n",
       "      <th></th>\n",
       "      <th></th>\n",
       "    </tr>\n",
       "  </thead>\n",
       "  <tbody>\n",
       "    <tr>\n",
       "      <td>36- Chirurgiens-dentistes, spécialistes O.D.F.</td>\n",
       "      <td>1.868620e+05</td>\n",
       "      <td>363624.512574</td>\n",
       "      <td>0.000535</td>\n",
       "      <td>5.504865e+05</td>\n",
       "    </tr>\n",
       "    <tr>\n",
       "      <td>10- Neurochirurgie</td>\n",
       "      <td>2.481200e+05</td>\n",
       "      <td>200947.426667</td>\n",
       "      <td>0.040000</td>\n",
       "      <td>4.490675e+05</td>\n",
       "    </tr>\n",
       "    <tr>\n",
       "      <td>41- Chirurgie orthopédique et traumatologie</td>\n",
       "      <td>2.436266e+05</td>\n",
       "      <td>132609.702254</td>\n",
       "      <td>0.509996</td>\n",
       "      <td>3.762368e+05</td>\n",
       "    </tr>\n",
       "    <tr>\n",
       "      <td>45- Chirurgie maxillo-faciale et stomatologie</td>\n",
       "      <td>1.895125e+05</td>\n",
       "      <td>128141.224490</td>\n",
       "      <td>0.000000</td>\n",
       "      <td>3.176538e+05</td>\n",
       "    </tr>\n",
       "    <tr>\n",
       "      <td>18- Stomatologie</td>\n",
       "      <td>1.238133e+05</td>\n",
       "      <td>126220.185759</td>\n",
       "      <td>0.693498</td>\n",
       "      <td>2.500342e+05</td>\n",
       "    </tr>\n",
       "    <tr>\n",
       "      <td>19- Chirurgiens-dentistes</td>\n",
       "      <td>1.249196e+05</td>\n",
       "      <td>119733.164138</td>\n",
       "      <td>0.329535</td>\n",
       "      <td>2.446531e+05</td>\n",
       "    </tr>\n",
       "    <tr>\n",
       "      <td>16- Chirurgie urologique</td>\n",
       "      <td>2.100266e+05</td>\n",
       "      <td>106175.844353</td>\n",
       "      <td>0.078512</td>\n",
       "      <td>3.162026e+05</td>\n",
       "    </tr>\n",
       "    <tr>\n",
       "      <td>46- Chirurgie plastique reconstructrice et esthétique</td>\n",
       "      <td>7.122125e+04</td>\n",
       "      <td>104052.293173</td>\n",
       "      <td>0.010040</td>\n",
       "      <td>1.752736e+05</td>\n",
       "    </tr>\n",
       "    <tr>\n",
       "      <td>48- Chirurgie vasculaire</td>\n",
       "      <td>1.965920e+05</td>\n",
       "      <td>103438.138889</td>\n",
       "      <td>0.027778</td>\n",
       "      <td>3.000302e+05</td>\n",
       "    </tr>\n",
       "    <tr>\n",
       "      <td>74- Oncologie radiothérapique</td>\n",
       "      <td>1.800588e+06</td>\n",
       "      <td>103161.688889</td>\n",
       "      <td>0.000000</td>\n",
       "      <td>1.903750e+06</td>\n",
       "    </tr>\n",
       "    <tr>\n",
       "      <td>49- Chirurgie viscérale et digestive</td>\n",
       "      <td>1.866646e+05</td>\n",
       "      <td>103054.259740</td>\n",
       "      <td>0.038961</td>\n",
       "      <td>2.897189e+05</td>\n",
       "    </tr>\n",
       "    <tr>\n",
       "      <td>15- Ophtalmologie</td>\n",
       "      <td>2.874420e+05</td>\n",
       "      <td>101126.006852</td>\n",
       "      <td>0.163351</td>\n",
       "      <td>3.885682e+05</td>\n",
       "    </tr>\n",
       "    <tr>\n",
       "      <td>43- Chirurgie infantile</td>\n",
       "      <td>1.040809e+05</td>\n",
       "      <td>91739.454545</td>\n",
       "      <td>0.000000</td>\n",
       "      <td>1.958204e+05</td>\n",
       "    </tr>\n",
       "    <tr>\n",
       "      <td>04- Chirurgie générale</td>\n",
       "      <td>1.788073e+05</td>\n",
       "      <td>87997.212022</td>\n",
       "      <td>3.050273</td>\n",
       "      <td>2.668076e+05</td>\n",
       "    </tr>\n",
       "    <tr>\n",
       "      <td>02- Anesthésie-réanimation chirurgicale</td>\n",
       "      <td>2.796681e+05</td>\n",
       "      <td>78643.677624</td>\n",
       "      <td>0.198674</td>\n",
       "      <td>3.583120e+05</td>\n",
       "    </tr>\n",
       "    <tr>\n",
       "      <td>79- Gynécologie obstétrique et gynécologie médicale</td>\n",
       "      <td>1.490647e+05</td>\n",
       "      <td>75402.992593</td>\n",
       "      <td>0.000000</td>\n",
       "      <td>2.244677e+05</td>\n",
       "    </tr>\n",
       "    <tr>\n",
       "      <td>07- Gynécologie obstétrique</td>\n",
       "      <td>1.644767e+05</td>\n",
       "      <td>74255.195473</td>\n",
       "      <td>0.208407</td>\n",
       "      <td>2.387321e+05</td>\n",
       "    </tr>\n",
       "    <tr>\n",
       "      <td>73- Oncologie médicale</td>\n",
       "      <td>1.010233e+05</td>\n",
       "      <td>58518.692308</td>\n",
       "      <td>0.000000</td>\n",
       "      <td>1.595420e+05</td>\n",
       "    </tr>\n",
       "    <tr>\n",
       "      <td>47- Chirurgie thoracique et cardio-vasculaire</td>\n",
       "      <td>3.335168e+05</td>\n",
       "      <td>58025.137255</td>\n",
       "      <td>0.000000</td>\n",
       "      <td>3.915419e+05</td>\n",
       "    </tr>\n",
       "    <tr>\n",
       "      <td>11- Oto-rhino-laryngologie</td>\n",
       "      <td>1.780519e+05</td>\n",
       "      <td>53263.973808</td>\n",
       "      <td>0.124149</td>\n",
       "      <td>2.313161e+05</td>\n",
       "    </tr>\n",
       "    <tr>\n",
       "      <td>09- Médecine interne</td>\n",
       "      <td>7.639843e+04</td>\n",
       "      <td>49741.919118</td>\n",
       "      <td>41.330882</td>\n",
       "      <td>1.261817e+05</td>\n",
       "    </tr>\n",
       "    <tr>\n",
       "      <td>34-Gériatrie</td>\n",
       "      <td>2.723509e+04</td>\n",
       "      <td>46550.818182</td>\n",
       "      <td>802.272727</td>\n",
       "      <td>7.458827e+04</td>\n",
       "    </tr>\n",
       "    <tr>\n",
       "      <td>72- Phlébologie</td>\n",
       "      <td>5.278407e+04</td>\n",
       "      <td>44606.400000</td>\n",
       "      <td>0.000000</td>\n",
       "      <td>9.739047e+04</td>\n",
       "    </tr>\n",
       "    <tr>\n",
       "      <td>75- Psychiatrie de l'enfant et de l'adolescent</td>\n",
       "      <td>4.658364e+04</td>\n",
       "      <td>41754.272727</td>\n",
       "      <td>0.000000</td>\n",
       "      <td>8.833800e+04</td>\n",
       "    </tr>\n",
       "    <tr>\n",
       "      <td>70- Gynécologie médicale</td>\n",
       "      <td>1.025213e+05</td>\n",
       "      <td>39747.619102</td>\n",
       "      <td>0.078251</td>\n",
       "      <td>1.422690e+05</td>\n",
       "    </tr>\n",
       "    <tr>\n",
       "      <td>31- Médecine Physique et de Réadaptation</td>\n",
       "      <td>1.198723e+05</td>\n",
       "      <td>38648.619289</td>\n",
       "      <td>1.619289</td>\n",
       "      <td>1.585225e+05</td>\n",
       "    </tr>\n",
       "    <tr>\n",
       "      <td>06- Radiodiagnostic et imagerie médicale</td>\n",
       "      <td>4.726986e+05</td>\n",
       "      <td>38535.410832</td>\n",
       "      <td>2.331572</td>\n",
       "      <td>5.112364e+05</td>\n",
       "    </tr>\n",
       "    <tr>\n",
       "      <td>42- Endocrinologie et métabolisme</td>\n",
       "      <td>8.520410e+04</td>\n",
       "      <td>35508.031189</td>\n",
       "      <td>0.070175</td>\n",
       "      <td>1.207122e+05</td>\n",
       "    </tr>\n",
       "    <tr>\n",
       "      <td>41- Acupuncture et Médecine Générale</td>\n",
       "      <td>8.784098e+04</td>\n",
       "      <td>35251.893029</td>\n",
       "      <td>96.313702</td>\n",
       "      <td>1.231892e+05</td>\n",
       "    </tr>\n",
       "    <tr>\n",
       "      <td>14- Rhumatologie</td>\n",
       "      <td>1.480906e+05</td>\n",
       "      <td>34549.626920</td>\n",
       "      <td>1.644477</td>\n",
       "      <td>1.826419e+05</td>\n",
       "    </tr>\n",
       "    <tr>\n",
       "      <td>05- Dermato-vénéréologie</td>\n",
       "      <td>1.304625e+05</td>\n",
       "      <td>34072.605861</td>\n",
       "      <td>0.623077</td>\n",
       "      <td>1.645358e+05</td>\n",
       "    </tr>\n",
       "    <tr>\n",
       "      <td>08- Gastro-entérologie et hépatologie</td>\n",
       "      <td>2.069253e+05</td>\n",
       "      <td>32846.008734</td>\n",
       "      <td>0.069323</td>\n",
       "      <td>2.397714e+05</td>\n",
       "    </tr>\n",
       "    <tr>\n",
       "      <td>12- Pédiatrie</td>\n",
       "      <td>1.186386e+05</td>\n",
       "      <td>26492.923515</td>\n",
       "      <td>5.550041</td>\n",
       "      <td>1.451371e+05</td>\n",
       "    </tr>\n",
       "    <tr>\n",
       "      <td>62- Maladie du diabète et de la nutrition, diététique</td>\n",
       "      <td>6.077596e+04</td>\n",
       "      <td>25072.142857</td>\n",
       "      <td>0.000000</td>\n",
       "      <td>8.584814e+04</td>\n",
       "    </tr>\n",
       "    <tr>\n",
       "      <td>42- Allergologie et Médecine Générale</td>\n",
       "      <td>1.115977e+05</td>\n",
       "      <td>24516.046154</td>\n",
       "      <td>15.800000</td>\n",
       "      <td>1.361296e+05</td>\n",
       "    </tr>\n",
       "    <tr>\n",
       "      <td>33- Psychiatrie</td>\n",
       "      <td>1.061203e+05</td>\n",
       "      <td>22086.793480</td>\n",
       "      <td>3.986475</td>\n",
       "      <td>1.282111e+05</td>\n",
       "    </tr>\n",
       "    <tr>\n",
       "      <td>60- Homéopathie et Médecine Générale</td>\n",
       "      <td>9.098607e+04</td>\n",
       "      <td>21903.000000</td>\n",
       "      <td>233.312500</td>\n",
       "      <td>1.131224e+05</td>\n",
       "    </tr>\n",
       "    <tr>\n",
       "      <td>37- Anatomo-cyto-pathologie</td>\n",
       "      <td>5.261366e+05</td>\n",
       "      <td>20759.257534</td>\n",
       "      <td>152.969863</td>\n",
       "      <td>5.470489e+05</td>\n",
       "    </tr>\n",
       "    <tr>\n",
       "      <td>32- Neurologie</td>\n",
       "      <td>1.720866e+05</td>\n",
       "      <td>18064.287478</td>\n",
       "      <td>0.768959</td>\n",
       "      <td>1.901517e+05</td>\n",
       "    </tr>\n",
       "    <tr>\n",
       "      <td>01- M.E.P.</td>\n",
       "      <td>1.357145e+05</td>\n",
       "      <td>16870.010434</td>\n",
       "      <td>401.026239</td>\n",
       "      <td>1.529856e+05</td>\n",
       "    </tr>\n",
       "    <tr>\n",
       "      <td>44- Angiologie et Médecine Générale</td>\n",
       "      <td>1.885834e+05</td>\n",
       "      <td>15516.750000</td>\n",
       "      <td>10.893617</td>\n",
       "      <td>2.041111e+05</td>\n",
       "    </tr>\n",
       "    <tr>\n",
       "      <td>05- Angiologie</td>\n",
       "      <td>1.746987e+05</td>\n",
       "      <td>13765.545994</td>\n",
       "      <td>0.267062</td>\n",
       "      <td>1.884646e+05</td>\n",
       "    </tr>\n",
       "    <tr>\n",
       "      <td>66- Médecine physique et Médecine Générale</td>\n",
       "      <td>1.545981e+05</td>\n",
       "      <td>13503.729167</td>\n",
       "      <td>576.152778</td>\n",
       "      <td>1.686781e+05</td>\n",
       "    </tr>\n",
       "    <tr>\n",
       "      <td>17- Neuropsychiatrie</td>\n",
       "      <td>4.705688e+04</td>\n",
       "      <td>11950.581395</td>\n",
       "      <td>3.093023</td>\n",
       "      <td>5.901056e+04</td>\n",
       "    </tr>\n",
       "    <tr>\n",
       "      <td>03- Pathologie cardio-vasculaire</td>\n",
       "      <td>2.588678e+05</td>\n",
       "      <td>11820.978413</td>\n",
       "      <td>3.094636</td>\n",
       "      <td>2.706919e+05</td>\n",
       "    </tr>\n",
       "    <tr>\n",
       "      <td>13- Pneumologie</td>\n",
       "      <td>2.064294e+05</td>\n",
       "      <td>11143.561060</td>\n",
       "      <td>0.627880</td>\n",
       "      <td>2.175736e+05</td>\n",
       "    </tr>\n",
       "    <tr>\n",
       "      <td>72- Médecine nucléaire</td>\n",
       "      <td>6.128495e+05</td>\n",
       "      <td>10438.775510</td>\n",
       "      <td>0.000000</td>\n",
       "      <td>6.232883e+05</td>\n",
       "    </tr>\n",
       "    <tr>\n",
       "      <td>92- Médecine d'urgence et Médecine Générale</td>\n",
       "      <td>1.445149e+05</td>\n",
       "      <td>7589.387187</td>\n",
       "      <td>593.459610</td>\n",
       "      <td>1.526978e+05</td>\n",
       "    </tr>\n",
       "    <tr>\n",
       "      <td>01- OMNIPRATICIENS</td>\n",
       "      <td>1.535684e+05</td>\n",
       "      <td>4169.578252</td>\n",
       "      <td>647.522578</td>\n",
       "      <td>1.583855e+05</td>\n",
       "    </tr>\n",
       "    <tr>\n",
       "      <td>01- Médecine générale</td>\n",
       "      <td>1.557241e+05</td>\n",
       "      <td>2589.037079</td>\n",
       "      <td>677.802983</td>\n",
       "      <td>1.589909e+05</td>\n",
       "    </tr>\n",
       "    <tr>\n",
       "      <td>93- SOS Médecins</td>\n",
       "      <td>1.842819e+05</td>\n",
       "      <td>2262.601504</td>\n",
       "      <td>3173.165414</td>\n",
       "      <td>1.897177e+05</td>\n",
       "    </tr>\n",
       "    <tr>\n",
       "      <td>35- Néphrologie</td>\n",
       "      <td>2.636340e+05</td>\n",
       "      <td>1609.157480</td>\n",
       "      <td>2.090551</td>\n",
       "      <td>2.652452e+05</td>\n",
       "    </tr>\n",
       "    <tr>\n",
       "      <td>57- Gériatrie</td>\n",
       "      <td>1.343544e+05</td>\n",
       "      <td>1018.454545</td>\n",
       "      <td>541.363636</td>\n",
       "      <td>1.359144e+05</td>\n",
       "    </tr>\n",
       "    <tr>\n",
       "      <td>86- Thermalisme et Médecine Générale</td>\n",
       "      <td>1.889797e+05</td>\n",
       "      <td>174.700000</td>\n",
       "      <td>373.466667</td>\n",
       "      <td>1.895279e+05</td>\n",
       "    </tr>\n",
       "    <tr>\n",
       "      <td>38- Médecins biologistes</td>\n",
       "      <td>5.493010e+03</td>\n",
       "      <td>61.638743</td>\n",
       "      <td>676.562827</td>\n",
       "      <td>6.231251e+03</td>\n",
       "    </tr>\n",
       "  </tbody>\n",
       "</table>\n",
       "</div>"
      ],
      "text/plain": [
       "                                                    HONORAIRES_SANS_DEP  \\\n",
       "SPECIALITE                                                                \n",
       "36- Chirurgiens-dentistes, spécialistes O.D.F.             1.868620e+05   \n",
       "10- Neurochirurgie                                         2.481200e+05   \n",
       "41- Chirurgie orthopédique et traumatologie                2.436266e+05   \n",
       "45- Chirurgie maxillo-faciale et stomatologie              1.895125e+05   \n",
       "18- Stomatologie                                           1.238133e+05   \n",
       "19- Chirurgiens-dentistes                                  1.249196e+05   \n",
       "16- Chirurgie urologique                                   2.100266e+05   \n",
       "46- Chirurgie plastique reconstructrice et esth...         7.122125e+04   \n",
       "48- Chirurgie vasculaire                                   1.965920e+05   \n",
       "74- Oncologie radiothérapique                              1.800588e+06   \n",
       "49- Chirurgie viscérale et digestive                       1.866646e+05   \n",
       "15- Ophtalmologie                                          2.874420e+05   \n",
       "43- Chirurgie infantile                                    1.040809e+05   \n",
       "04- Chirurgie générale                                     1.788073e+05   \n",
       "02- Anesthésie-réanimation chirurgicale                    2.796681e+05   \n",
       "79- Gynécologie obstétrique et gynécologie médi...         1.490647e+05   \n",
       "07- Gynécologie obstétrique                                1.644767e+05   \n",
       "73- Oncologie médicale                                     1.010233e+05   \n",
       "47- Chirurgie thoracique et cardio-vasculaire              3.335168e+05   \n",
       "11- Oto-rhino-laryngologie                                 1.780519e+05   \n",
       "09- Médecine interne                                       7.639843e+04   \n",
       "34-Gériatrie                                               2.723509e+04   \n",
       "72- Phlébologie                                            5.278407e+04   \n",
       "75- Psychiatrie de l'enfant et de l'adolescent             4.658364e+04   \n",
       "70- Gynécologie médicale                                   1.025213e+05   \n",
       "31- Médecine Physique et de Réadaptation                   1.198723e+05   \n",
       "06- Radiodiagnostic et imagerie médicale                   4.726986e+05   \n",
       "42- Endocrinologie et métabolisme                          8.520410e+04   \n",
       "41- Acupuncture et Médecine Générale                       8.784098e+04   \n",
       "14- Rhumatologie                                           1.480906e+05   \n",
       "05- Dermato-vénéréologie                                   1.304625e+05   \n",
       "08- Gastro-entérologie et hépatologie                      2.069253e+05   \n",
       "12- Pédiatrie                                              1.186386e+05   \n",
       "62- Maladie du diabète et de la nutrition, diét...         6.077596e+04   \n",
       "42- Allergologie et Médecine Générale                      1.115977e+05   \n",
       "33- Psychiatrie                                            1.061203e+05   \n",
       "60- Homéopathie et Médecine Générale                       9.098607e+04   \n",
       "37- Anatomo-cyto-pathologie                                5.261366e+05   \n",
       "32- Neurologie                                             1.720866e+05   \n",
       "01- M.E.P.                                                 1.357145e+05   \n",
       "44- Angiologie et Médecine Générale                        1.885834e+05   \n",
       "05- Angiologie                                             1.746987e+05   \n",
       "66- Médecine physique et Médecine Générale                 1.545981e+05   \n",
       "17- Neuropsychiatrie                                       4.705688e+04   \n",
       "03- Pathologie cardio-vasculaire                           2.588678e+05   \n",
       "13- Pneumologie                                            2.064294e+05   \n",
       "72- Médecine nucléaire                                     6.128495e+05   \n",
       "92- Médecine d'urgence et Médecine Générale                1.445149e+05   \n",
       "01- OMNIPRATICIENS                                         1.535684e+05   \n",
       "01- Médecine générale                                      1.557241e+05   \n",
       "93- SOS Médecins                                           1.842819e+05   \n",
       "35- Néphrologie                                            2.636340e+05   \n",
       "57- Gériatrie                                              1.343544e+05   \n",
       "86- Thermalisme et Médecine Générale                       1.889797e+05   \n",
       "38- Médecins biologistes                                   5.493010e+03   \n",
       "\n",
       "                                                     DEPASSEMENTS  \\\n",
       "SPECIALITE                                                          \n",
       "36- Chirurgiens-dentistes, spécialistes O.D.F.      363624.512574   \n",
       "10- Neurochirurgie                                  200947.426667   \n",
       "41- Chirurgie orthopédique et traumatologie         132609.702254   \n",
       "45- Chirurgie maxillo-faciale et stomatologie       128141.224490   \n",
       "18- Stomatologie                                    126220.185759   \n",
       "19- Chirurgiens-dentistes                           119733.164138   \n",
       "16- Chirurgie urologique                            106175.844353   \n",
       "46- Chirurgie plastique reconstructrice et esth...  104052.293173   \n",
       "48- Chirurgie vasculaire                            103438.138889   \n",
       "74- Oncologie radiothérapique                       103161.688889   \n",
       "49- Chirurgie viscérale et digestive                103054.259740   \n",
       "15- Ophtalmologie                                   101126.006852   \n",
       "43- Chirurgie infantile                              91739.454545   \n",
       "04- Chirurgie générale                               87997.212022   \n",
       "02- Anesthésie-réanimation chirurgicale              78643.677624   \n",
       "79- Gynécologie obstétrique et gynécologie médi...   75402.992593   \n",
       "07- Gynécologie obstétrique                          74255.195473   \n",
       "73- Oncologie médicale                               58518.692308   \n",
       "47- Chirurgie thoracique et cardio-vasculaire        58025.137255   \n",
       "11- Oto-rhino-laryngologie                           53263.973808   \n",
       "09- Médecine interne                                 49741.919118   \n",
       "34-Gériatrie                                         46550.818182   \n",
       "72- Phlébologie                                      44606.400000   \n",
       "75- Psychiatrie de l'enfant et de l'adolescent       41754.272727   \n",
       "70- Gynécologie médicale                             39747.619102   \n",
       "31- Médecine Physique et de Réadaptation             38648.619289   \n",
       "06- Radiodiagnostic et imagerie médicale             38535.410832   \n",
       "42- Endocrinologie et métabolisme                    35508.031189   \n",
       "41- Acupuncture et Médecine Générale                 35251.893029   \n",
       "14- Rhumatologie                                     34549.626920   \n",
       "05- Dermato-vénéréologie                             34072.605861   \n",
       "08- Gastro-entérologie et hépatologie                32846.008734   \n",
       "12- Pédiatrie                                        26492.923515   \n",
       "62- Maladie du diabète et de la nutrition, diét...   25072.142857   \n",
       "42- Allergologie et Médecine Générale                24516.046154   \n",
       "33- Psychiatrie                                      22086.793480   \n",
       "60- Homéopathie et Médecine Générale                 21903.000000   \n",
       "37- Anatomo-cyto-pathologie                          20759.257534   \n",
       "32- Neurologie                                       18064.287478   \n",
       "01- M.E.P.                                           16870.010434   \n",
       "44- Angiologie et Médecine Générale                  15516.750000   \n",
       "05- Angiologie                                       13765.545994   \n",
       "66- Médecine physique et Médecine Générale           13503.729167   \n",
       "17- Neuropsychiatrie                                 11950.581395   \n",
       "03- Pathologie cardio-vasculaire                     11820.978413   \n",
       "13- Pneumologie                                      11143.561060   \n",
       "72- Médecine nucléaire                               10438.775510   \n",
       "92- Médecine d'urgence et Médecine Générale           7589.387187   \n",
       "01- OMNIPRATICIENS                                    4169.578252   \n",
       "01- Médecine générale                                 2589.037079   \n",
       "93- SOS Médecins                                      2262.601504   \n",
       "35- Néphrologie                                       1609.157480   \n",
       "57- Gériatrie                                         1018.454545   \n",
       "86- Thermalisme et Médecine Générale                   174.700000   \n",
       "38- Médecins biologistes                                61.638743   \n",
       "\n",
       "                                                    FRAIS_DEPLMT  \\\n",
       "SPECIALITE                                                         \n",
       "36- Chirurgiens-dentistes, spécialistes O.D.F.          0.000535   \n",
       "10- Neurochirurgie                                      0.040000   \n",
       "41- Chirurgie orthopédique et traumatologie             0.509996   \n",
       "45- Chirurgie maxillo-faciale et stomatologie           0.000000   \n",
       "18- Stomatologie                                        0.693498   \n",
       "19- Chirurgiens-dentistes                               0.329535   \n",
       "16- Chirurgie urologique                                0.078512   \n",
       "46- Chirurgie plastique reconstructrice et esth...      0.010040   \n",
       "48- Chirurgie vasculaire                                0.027778   \n",
       "74- Oncologie radiothérapique                           0.000000   \n",
       "49- Chirurgie viscérale et digestive                    0.038961   \n",
       "15- Ophtalmologie                                       0.163351   \n",
       "43- Chirurgie infantile                                 0.000000   \n",
       "04- Chirurgie générale                                  3.050273   \n",
       "02- Anesthésie-réanimation chirurgicale                 0.198674   \n",
       "79- Gynécologie obstétrique et gynécologie médi...      0.000000   \n",
       "07- Gynécologie obstétrique                             0.208407   \n",
       "73- Oncologie médicale                                  0.000000   \n",
       "47- Chirurgie thoracique et cardio-vasculaire           0.000000   \n",
       "11- Oto-rhino-laryngologie                              0.124149   \n",
       "09- Médecine interne                                   41.330882   \n",
       "34-Gériatrie                                          802.272727   \n",
       "72- Phlébologie                                         0.000000   \n",
       "75- Psychiatrie de l'enfant et de l'adolescent          0.000000   \n",
       "70- Gynécologie médicale                                0.078251   \n",
       "31- Médecine Physique et de Réadaptation                1.619289   \n",
       "06- Radiodiagnostic et imagerie médicale                2.331572   \n",
       "42- Endocrinologie et métabolisme                       0.070175   \n",
       "41- Acupuncture et Médecine Générale                   96.313702   \n",
       "14- Rhumatologie                                        1.644477   \n",
       "05- Dermato-vénéréologie                                0.623077   \n",
       "08- Gastro-entérologie et hépatologie                   0.069323   \n",
       "12- Pédiatrie                                           5.550041   \n",
       "62- Maladie du diabète et de la nutrition, diét...      0.000000   \n",
       "42- Allergologie et Médecine Générale                  15.800000   \n",
       "33- Psychiatrie                                         3.986475   \n",
       "60- Homéopathie et Médecine Générale                  233.312500   \n",
       "37- Anatomo-cyto-pathologie                           152.969863   \n",
       "32- Neurologie                                          0.768959   \n",
       "01- M.E.P.                                            401.026239   \n",
       "44- Angiologie et Médecine Générale                    10.893617   \n",
       "05- Angiologie                                          0.267062   \n",
       "66- Médecine physique et Médecine Générale            576.152778   \n",
       "17- Neuropsychiatrie                                    3.093023   \n",
       "03- Pathologie cardio-vasculaire                        3.094636   \n",
       "13- Pneumologie                                         0.627880   \n",
       "72- Médecine nucléaire                                  0.000000   \n",
       "92- Médecine d'urgence et Médecine Générale           593.459610   \n",
       "01- OMNIPRATICIENS                                    647.522578   \n",
       "01- Médecine générale                                 677.802983   \n",
       "93- SOS Médecins                                     3173.165414   \n",
       "35- Néphrologie                                         2.090551   \n",
       "57- Gériatrie                                         541.363636   \n",
       "86- Thermalisme et Médecine Générale                  373.466667   \n",
       "38- Médecins biologistes                              676.562827   \n",
       "\n",
       "                                                    TOTAL_HONORAIRES  \n",
       "SPECIALITE                                                            \n",
       "36- Chirurgiens-dentistes, spécialistes O.D.F.          5.504865e+05  \n",
       "10- Neurochirurgie                                      4.490675e+05  \n",
       "41- Chirurgie orthopédique et traumatologie             3.762368e+05  \n",
       "45- Chirurgie maxillo-faciale et stomatologie           3.176538e+05  \n",
       "18- Stomatologie                                        2.500342e+05  \n",
       "19- Chirurgiens-dentistes                               2.446531e+05  \n",
       "16- Chirurgie urologique                                3.162026e+05  \n",
       "46- Chirurgie plastique reconstructrice et esth...      1.752736e+05  \n",
       "48- Chirurgie vasculaire                                3.000302e+05  \n",
       "74- Oncologie radiothérapique                           1.903750e+06  \n",
       "49- Chirurgie viscérale et digestive                    2.897189e+05  \n",
       "15- Ophtalmologie                                       3.885682e+05  \n",
       "43- Chirurgie infantile                                 1.958204e+05  \n",
       "04- Chirurgie générale                                  2.668076e+05  \n",
       "02- Anesthésie-réanimation chirurgicale                 3.583120e+05  \n",
       "79- Gynécologie obstétrique et gynécologie médi...      2.244677e+05  \n",
       "07- Gynécologie obstétrique                             2.387321e+05  \n",
       "73- Oncologie médicale                                  1.595420e+05  \n",
       "47- Chirurgie thoracique et cardio-vasculaire           3.915419e+05  \n",
       "11- Oto-rhino-laryngologie                              2.313161e+05  \n",
       "09- Médecine interne                                    1.261817e+05  \n",
       "34-Gériatrie                                            7.458827e+04  \n",
       "72- Phlébologie                                         9.739047e+04  \n",
       "75- Psychiatrie de l'enfant et de l'adolescent          8.833800e+04  \n",
       "70- Gynécologie médicale                                1.422690e+05  \n",
       "31- Médecine Physique et de Réadaptation                1.585225e+05  \n",
       "06- Radiodiagnostic et imagerie médicale                5.112364e+05  \n",
       "42- Endocrinologie et métabolisme                       1.207122e+05  \n",
       "41- Acupuncture et Médecine Générale                    1.231892e+05  \n",
       "14- Rhumatologie                                        1.826419e+05  \n",
       "05- Dermato-vénéréologie                                1.645358e+05  \n",
       "08- Gastro-entérologie et hépatologie                   2.397714e+05  \n",
       "12- Pédiatrie                                           1.451371e+05  \n",
       "62- Maladie du diabète et de la nutrition, diét...      8.584814e+04  \n",
       "42- Allergologie et Médecine Générale                   1.361296e+05  \n",
       "33- Psychiatrie                                         1.282111e+05  \n",
       "60- Homéopathie et Médecine Générale                    1.131224e+05  \n",
       "37- Anatomo-cyto-pathologie                             5.470489e+05  \n",
       "32- Neurologie                                          1.901517e+05  \n",
       "01- M.E.P.                                              1.529856e+05  \n",
       "44- Angiologie et Médecine Générale                     2.041111e+05  \n",
       "05- Angiologie                                          1.884646e+05  \n",
       "66- Médecine physique et Médecine Générale              1.686781e+05  \n",
       "17- Neuropsychiatrie                                    5.901056e+04  \n",
       "03- Pathologie cardio-vasculaire                        2.706919e+05  \n",
       "13- Pneumologie                                         2.175736e+05  \n",
       "72- Médecine nucléaire                                  6.232883e+05  \n",
       "92- Médecine d'urgence et Médecine Générale             1.526978e+05  \n",
       "01- OMNIPRATICIENS                                      1.583855e+05  \n",
       "01- Médecine générale                                   1.589909e+05  \n",
       "93- SOS Médecins                                        1.897177e+05  \n",
       "35- Néphrologie                                         2.652452e+05  \n",
       "57- Gériatrie                                           1.359144e+05  \n",
       "86- Thermalisme et Médecine Générale                    1.895279e+05  \n",
       "38- Médecins biologistes                                6.231251e+03  "
      ]
     },
     "execution_count": 71,
     "metadata": {},
     "output_type": "execute_result"
    }
   ],
   "source": [
    "# Quelle est la spécialité qui a le plus de dépassement d'honoraire par médecin ?\n",
    "df_spe = df[['SPECIALITE', 'DEPARTEMENT', 'EFFECTIFS', 'HONORAIRES_SANS_DEP',\n",
    "       'DEPASSEMENTS', 'FRAIS_DEPLMT', 'TOTAL_HONORAIRES']].groupby(['SPECIALITE']).sum()\n",
    "df_spe_sorted = df_spe.div(df_spe.EFFECTIFS, axis=0).drop(columns='EFFECTIFS').sort_values(by = \"DEPASSEMENTS\", ascending=False)\n",
    "df_spe_sorted"
   ]
  },
  {
   "cell_type": "code",
   "execution_count": 72,
   "metadata": {
    "ExecuteTime": {
     "end_time": "2019-11-06T22:18:56.747476Z",
     "start_time": "2019-11-06T22:18:56.737473Z"
    }
   },
   "outputs": [
    {
     "data": {
      "text/html": [
       "<div>\n",
       "<style scoped>\n",
       "    .dataframe tbody tr th:only-of-type {\n",
       "        vertical-align: middle;\n",
       "    }\n",
       "\n",
       "    .dataframe tbody tr th {\n",
       "        vertical-align: top;\n",
       "    }\n",
       "\n",
       "    .dataframe thead th {\n",
       "        text-align: right;\n",
       "    }\n",
       "</style>\n",
       "<table border=\"1\" class=\"dataframe\">\n",
       "  <thead>\n",
       "    <tr style=\"text-align: right;\">\n",
       "      <th></th>\n",
       "      <th>SPECIALITE</th>\n",
       "      <th>HONORAIRES_SANS_DEP</th>\n",
       "      <th>DEPASSEMENTS</th>\n",
       "      <th>FRAIS_DEPLMT</th>\n",
       "      <th>TOTAL_HONORAIRES</th>\n",
       "    </tr>\n",
       "  </thead>\n",
       "  <tbody>\n",
       "    <tr>\n",
       "      <td>0</td>\n",
       "      <td>36- Chirurgiens-dentistes, spécialistes O.D.F.</td>\n",
       "      <td>186861.992509</td>\n",
       "      <td>363624.512574</td>\n",
       "      <td>0.000535</td>\n",
       "      <td>550486.523274</td>\n",
       "    </tr>\n",
       "    <tr>\n",
       "      <td>1</td>\n",
       "      <td>10- Neurochirurgie</td>\n",
       "      <td>248119.986667</td>\n",
       "      <td>200947.426667</td>\n",
       "      <td>0.040000</td>\n",
       "      <td>449067.506667</td>\n",
       "    </tr>\n",
       "    <tr>\n",
       "      <td>2</td>\n",
       "      <td>41- Chirurgie orthopédique et traumatologie</td>\n",
       "      <td>243626.622714</td>\n",
       "      <td>132609.702254</td>\n",
       "      <td>0.509996</td>\n",
       "      <td>376236.849851</td>\n",
       "    </tr>\n",
       "    <tr>\n",
       "      <td>3</td>\n",
       "      <td>45- Chirurgie maxillo-faciale et stomatologie</td>\n",
       "      <td>189512.530612</td>\n",
       "      <td>128141.224490</td>\n",
       "      <td>0.000000</td>\n",
       "      <td>317653.795918</td>\n",
       "    </tr>\n",
       "    <tr>\n",
       "      <td>4</td>\n",
       "      <td>18- Stomatologie</td>\n",
       "      <td>123813.300310</td>\n",
       "      <td>126220.185759</td>\n",
       "      <td>0.693498</td>\n",
       "      <td>250034.198142</td>\n",
       "    </tr>\n",
       "  </tbody>\n",
       "</table>\n",
       "</div>"
      ],
      "text/plain": [
       "                                       SPECIALITE  HONORAIRES_SANS_DEP  \\\n",
       "0  36- Chirurgiens-dentistes, spécialistes O.D.F.        186861.992509   \n",
       "1                              10- Neurochirurgie        248119.986667   \n",
       "2     41- Chirurgie orthopédique et traumatologie        243626.622714   \n",
       "3   45- Chirurgie maxillo-faciale et stomatologie        189512.530612   \n",
       "4                                18- Stomatologie        123813.300310   \n",
       "\n",
       "    DEPASSEMENTS  FRAIS_DEPLMT  TOTAL_HONORAIRES  \n",
       "0  363624.512574      0.000535     550486.523274  \n",
       "1  200947.426667      0.040000     449067.506667  \n",
       "2  132609.702254      0.509996     376236.849851  \n",
       "3  128141.224490      0.000000     317653.795918  \n",
       "4  126220.185759      0.693498     250034.198142  "
      ]
     },
     "execution_count": 72,
     "metadata": {},
     "output_type": "execute_result"
    }
   ],
   "source": [
    "df_spe_sorted.head().reset_index()"
   ]
  },
  {
   "cell_type": "markdown",
   "metadata": {
    "ExecuteTime": {
     "end_time": "2019-11-04T21:25:11.837188Z",
     "start_time": "2019-11-04T21:25:11.834135Z"
    }
   },
   "source": [
    "#### TOP 10 des spécialités ayant le plus de dépassements d'honoraires"
   ]
  },
  {
   "cell_type": "code",
   "execution_count": 73,
   "metadata": {
    "ExecuteTime": {
     "end_time": "2019-11-06T22:18:58.863089Z",
     "start_time": "2019-11-06T22:18:58.630057Z"
    }
   },
   "outputs": [
    {
     "data": {
      "application/vnd.plotly.v1+json": {
       "config": {
        "plotlyServerURL": "https://plot.ly"
       },
       "data": [
        {
         "alignmentgroup": "True",
         "hoverlabel": {
          "namelength": 0
         },
         "hovertemplate": "SPECIALITE=%{x}<br>DEPASSEMENTS=%{y}",
         "legendgroup": "",
         "marker": {
          "color": "#636efa"
         },
         "name": "",
         "offsetgroup": "",
         "orientation": "v",
         "showlegend": false,
         "textposition": "auto",
         "type": "bar",
         "x": [
          "36- Chirurgiens-dentistes, spécialistes O.D.F.",
          "10- Neurochirurgie",
          "41- Chirurgie orthopédique et traumatologie",
          "45- Chirurgie maxillo-faciale et stomatologie",
          "18- Stomatologie",
          "19- Chirurgiens-dentistes",
          "16- Chirurgie urologique",
          "46- Chirurgie plastique reconstructrice et esthétique",
          "48- Chirurgie vasculaire",
          "74- Oncologie radiothérapique"
         ],
         "xaxis": "x",
         "y": [
          363624.51257356873,
          200947.42666666667,
          132609.70225435984,
          128141.22448979592,
          126220.18575851394,
          119733.1641376546,
          106175.84435261707,
          104052.29317269077,
          103438.13888888889,
          103161.6888888889
         ],
         "yaxis": "y"
        }
       ],
       "layout": {
        "barmode": "relative",
        "height": 600,
        "legend": {
         "tracegroupgap": 0
        },
        "margin": {
         "t": 60
        },
        "template": {
         "data": {
          "bar": [
           {
            "error_x": {
             "color": "#2a3f5f"
            },
            "error_y": {
             "color": "#2a3f5f"
            },
            "marker": {
             "line": {
              "color": "#E5ECF6",
              "width": 0.5
             }
            },
            "type": "bar"
           }
          ],
          "barpolar": [
           {
            "marker": {
             "line": {
              "color": "#E5ECF6",
              "width": 0.5
             }
            },
            "type": "barpolar"
           }
          ],
          "carpet": [
           {
            "aaxis": {
             "endlinecolor": "#2a3f5f",
             "gridcolor": "white",
             "linecolor": "white",
             "minorgridcolor": "white",
             "startlinecolor": "#2a3f5f"
            },
            "baxis": {
             "endlinecolor": "#2a3f5f",
             "gridcolor": "white",
             "linecolor": "white",
             "minorgridcolor": "white",
             "startlinecolor": "#2a3f5f"
            },
            "type": "carpet"
           }
          ],
          "choropleth": [
           {
            "colorbar": {
             "outlinewidth": 0,
             "ticks": ""
            },
            "type": "choropleth"
           }
          ],
          "contour": [
           {
            "colorbar": {
             "outlinewidth": 0,
             "ticks": ""
            },
            "colorscale": [
             [
              0,
              "#0d0887"
             ],
             [
              0.1111111111111111,
              "#46039f"
             ],
             [
              0.2222222222222222,
              "#7201a8"
             ],
             [
              0.3333333333333333,
              "#9c179e"
             ],
             [
              0.4444444444444444,
              "#bd3786"
             ],
             [
              0.5555555555555556,
              "#d8576b"
             ],
             [
              0.6666666666666666,
              "#ed7953"
             ],
             [
              0.7777777777777778,
              "#fb9f3a"
             ],
             [
              0.8888888888888888,
              "#fdca26"
             ],
             [
              1,
              "#f0f921"
             ]
            ],
            "type": "contour"
           }
          ],
          "contourcarpet": [
           {
            "colorbar": {
             "outlinewidth": 0,
             "ticks": ""
            },
            "type": "contourcarpet"
           }
          ],
          "heatmap": [
           {
            "colorbar": {
             "outlinewidth": 0,
             "ticks": ""
            },
            "colorscale": [
             [
              0,
              "#0d0887"
             ],
             [
              0.1111111111111111,
              "#46039f"
             ],
             [
              0.2222222222222222,
              "#7201a8"
             ],
             [
              0.3333333333333333,
              "#9c179e"
             ],
             [
              0.4444444444444444,
              "#bd3786"
             ],
             [
              0.5555555555555556,
              "#d8576b"
             ],
             [
              0.6666666666666666,
              "#ed7953"
             ],
             [
              0.7777777777777778,
              "#fb9f3a"
             ],
             [
              0.8888888888888888,
              "#fdca26"
             ],
             [
              1,
              "#f0f921"
             ]
            ],
            "type": "heatmap"
           }
          ],
          "heatmapgl": [
           {
            "colorbar": {
             "outlinewidth": 0,
             "ticks": ""
            },
            "colorscale": [
             [
              0,
              "#0d0887"
             ],
             [
              0.1111111111111111,
              "#46039f"
             ],
             [
              0.2222222222222222,
              "#7201a8"
             ],
             [
              0.3333333333333333,
              "#9c179e"
             ],
             [
              0.4444444444444444,
              "#bd3786"
             ],
             [
              0.5555555555555556,
              "#d8576b"
             ],
             [
              0.6666666666666666,
              "#ed7953"
             ],
             [
              0.7777777777777778,
              "#fb9f3a"
             ],
             [
              0.8888888888888888,
              "#fdca26"
             ],
             [
              1,
              "#f0f921"
             ]
            ],
            "type": "heatmapgl"
           }
          ],
          "histogram": [
           {
            "marker": {
             "colorbar": {
              "outlinewidth": 0,
              "ticks": ""
             }
            },
            "type": "histogram"
           }
          ],
          "histogram2d": [
           {
            "colorbar": {
             "outlinewidth": 0,
             "ticks": ""
            },
            "colorscale": [
             [
              0,
              "#0d0887"
             ],
             [
              0.1111111111111111,
              "#46039f"
             ],
             [
              0.2222222222222222,
              "#7201a8"
             ],
             [
              0.3333333333333333,
              "#9c179e"
             ],
             [
              0.4444444444444444,
              "#bd3786"
             ],
             [
              0.5555555555555556,
              "#d8576b"
             ],
             [
              0.6666666666666666,
              "#ed7953"
             ],
             [
              0.7777777777777778,
              "#fb9f3a"
             ],
             [
              0.8888888888888888,
              "#fdca26"
             ],
             [
              1,
              "#f0f921"
             ]
            ],
            "type": "histogram2d"
           }
          ],
          "histogram2dcontour": [
           {
            "colorbar": {
             "outlinewidth": 0,
             "ticks": ""
            },
            "colorscale": [
             [
              0,
              "#0d0887"
             ],
             [
              0.1111111111111111,
              "#46039f"
             ],
             [
              0.2222222222222222,
              "#7201a8"
             ],
             [
              0.3333333333333333,
              "#9c179e"
             ],
             [
              0.4444444444444444,
              "#bd3786"
             ],
             [
              0.5555555555555556,
              "#d8576b"
             ],
             [
              0.6666666666666666,
              "#ed7953"
             ],
             [
              0.7777777777777778,
              "#fb9f3a"
             ],
             [
              0.8888888888888888,
              "#fdca26"
             ],
             [
              1,
              "#f0f921"
             ]
            ],
            "type": "histogram2dcontour"
           }
          ],
          "mesh3d": [
           {
            "colorbar": {
             "outlinewidth": 0,
             "ticks": ""
            },
            "type": "mesh3d"
           }
          ],
          "parcoords": [
           {
            "line": {
             "colorbar": {
              "outlinewidth": 0,
              "ticks": ""
             }
            },
            "type": "parcoords"
           }
          ],
          "scatter": [
           {
            "marker": {
             "colorbar": {
              "outlinewidth": 0,
              "ticks": ""
             }
            },
            "type": "scatter"
           }
          ],
          "scatter3d": [
           {
            "line": {
             "colorbar": {
              "outlinewidth": 0,
              "ticks": ""
             }
            },
            "marker": {
             "colorbar": {
              "outlinewidth": 0,
              "ticks": ""
             }
            },
            "type": "scatter3d"
           }
          ],
          "scattercarpet": [
           {
            "marker": {
             "colorbar": {
              "outlinewidth": 0,
              "ticks": ""
             }
            },
            "type": "scattercarpet"
           }
          ],
          "scattergeo": [
           {
            "marker": {
             "colorbar": {
              "outlinewidth": 0,
              "ticks": ""
             }
            },
            "type": "scattergeo"
           }
          ],
          "scattergl": [
           {
            "marker": {
             "colorbar": {
              "outlinewidth": 0,
              "ticks": ""
             }
            },
            "type": "scattergl"
           }
          ],
          "scattermapbox": [
           {
            "marker": {
             "colorbar": {
              "outlinewidth": 0,
              "ticks": ""
             }
            },
            "type": "scattermapbox"
           }
          ],
          "scatterpolar": [
           {
            "marker": {
             "colorbar": {
              "outlinewidth": 0,
              "ticks": ""
             }
            },
            "type": "scatterpolar"
           }
          ],
          "scatterpolargl": [
           {
            "marker": {
             "colorbar": {
              "outlinewidth": 0,
              "ticks": ""
             }
            },
            "type": "scatterpolargl"
           }
          ],
          "scatterternary": [
           {
            "marker": {
             "colorbar": {
              "outlinewidth": 0,
              "ticks": ""
             }
            },
            "type": "scatterternary"
           }
          ],
          "surface": [
           {
            "colorbar": {
             "outlinewidth": 0,
             "ticks": ""
            },
            "colorscale": [
             [
              0,
              "#0d0887"
             ],
             [
              0.1111111111111111,
              "#46039f"
             ],
             [
              0.2222222222222222,
              "#7201a8"
             ],
             [
              0.3333333333333333,
              "#9c179e"
             ],
             [
              0.4444444444444444,
              "#bd3786"
             ],
             [
              0.5555555555555556,
              "#d8576b"
             ],
             [
              0.6666666666666666,
              "#ed7953"
             ],
             [
              0.7777777777777778,
              "#fb9f3a"
             ],
             [
              0.8888888888888888,
              "#fdca26"
             ],
             [
              1,
              "#f0f921"
             ]
            ],
            "type": "surface"
           }
          ],
          "table": [
           {
            "cells": {
             "fill": {
              "color": "#EBF0F8"
             },
             "line": {
              "color": "white"
             }
            },
            "header": {
             "fill": {
              "color": "#C8D4E3"
             },
             "line": {
              "color": "white"
             }
            },
            "type": "table"
           }
          ]
         },
         "layout": {
          "annotationdefaults": {
           "arrowcolor": "#2a3f5f",
           "arrowhead": 0,
           "arrowwidth": 1
          },
          "colorscale": {
           "diverging": [
            [
             0,
             "#8e0152"
            ],
            [
             0.1,
             "#c51b7d"
            ],
            [
             0.2,
             "#de77ae"
            ],
            [
             0.3,
             "#f1b6da"
            ],
            [
             0.4,
             "#fde0ef"
            ],
            [
             0.5,
             "#f7f7f7"
            ],
            [
             0.6,
             "#e6f5d0"
            ],
            [
             0.7,
             "#b8e186"
            ],
            [
             0.8,
             "#7fbc41"
            ],
            [
             0.9,
             "#4d9221"
            ],
            [
             1,
             "#276419"
            ]
           ],
           "sequential": [
            [
             0,
             "#0d0887"
            ],
            [
             0.1111111111111111,
             "#46039f"
            ],
            [
             0.2222222222222222,
             "#7201a8"
            ],
            [
             0.3333333333333333,
             "#9c179e"
            ],
            [
             0.4444444444444444,
             "#bd3786"
            ],
            [
             0.5555555555555556,
             "#d8576b"
            ],
            [
             0.6666666666666666,
             "#ed7953"
            ],
            [
             0.7777777777777778,
             "#fb9f3a"
            ],
            [
             0.8888888888888888,
             "#fdca26"
            ],
            [
             1,
             "#f0f921"
            ]
           ],
           "sequentialminus": [
            [
             0,
             "#0d0887"
            ],
            [
             0.1111111111111111,
             "#46039f"
            ],
            [
             0.2222222222222222,
             "#7201a8"
            ],
            [
             0.3333333333333333,
             "#9c179e"
            ],
            [
             0.4444444444444444,
             "#bd3786"
            ],
            [
             0.5555555555555556,
             "#d8576b"
            ],
            [
             0.6666666666666666,
             "#ed7953"
            ],
            [
             0.7777777777777778,
             "#fb9f3a"
            ],
            [
             0.8888888888888888,
             "#fdca26"
            ],
            [
             1,
             "#f0f921"
            ]
           ]
          },
          "colorway": [
           "#636efa",
           "#EF553B",
           "#00cc96",
           "#ab63fa",
           "#FFA15A",
           "#19d3f3",
           "#FF6692",
           "#B6E880",
           "#FF97FF",
           "#FECB52"
          ],
          "font": {
           "color": "#2a3f5f"
          },
          "geo": {
           "bgcolor": "white",
           "lakecolor": "white",
           "landcolor": "#E5ECF6",
           "showlakes": true,
           "showland": true,
           "subunitcolor": "white"
          },
          "hoverlabel": {
           "align": "left"
          },
          "hovermode": "closest",
          "mapbox": {
           "style": "light"
          },
          "paper_bgcolor": "white",
          "plot_bgcolor": "#E5ECF6",
          "polar": {
           "angularaxis": {
            "gridcolor": "white",
            "linecolor": "white",
            "ticks": ""
           },
           "bgcolor": "#E5ECF6",
           "radialaxis": {
            "gridcolor": "white",
            "linecolor": "white",
            "ticks": ""
           }
          },
          "scene": {
           "xaxis": {
            "backgroundcolor": "#E5ECF6",
            "gridcolor": "white",
            "gridwidth": 2,
            "linecolor": "white",
            "showbackground": true,
            "ticks": "",
            "zerolinecolor": "white"
           },
           "yaxis": {
            "backgroundcolor": "#E5ECF6",
            "gridcolor": "white",
            "gridwidth": 2,
            "linecolor": "white",
            "showbackground": true,
            "ticks": "",
            "zerolinecolor": "white"
           },
           "zaxis": {
            "backgroundcolor": "#E5ECF6",
            "gridcolor": "white",
            "gridwidth": 2,
            "linecolor": "white",
            "showbackground": true,
            "ticks": "",
            "zerolinecolor": "white"
           }
          },
          "shapedefaults": {
           "line": {
            "color": "#2a3f5f"
           }
          },
          "ternary": {
           "aaxis": {
            "gridcolor": "white",
            "linecolor": "white",
            "ticks": ""
           },
           "baxis": {
            "gridcolor": "white",
            "linecolor": "white",
            "ticks": ""
           },
           "bgcolor": "#E5ECF6",
           "caxis": {
            "gridcolor": "white",
            "linecolor": "white",
            "ticks": ""
           }
          },
          "title": {
           "x": 0.05
          },
          "xaxis": {
           "automargin": true,
           "gridcolor": "white",
           "linecolor": "white",
           "ticks": "",
           "zerolinecolor": "white",
           "zerolinewidth": 2
          },
          "yaxis": {
           "automargin": true,
           "gridcolor": "white",
           "linecolor": "white",
           "ticks": "",
           "zerolinecolor": "white",
           "zerolinewidth": 2
          }
         }
        },
        "xaxis": {
         "anchor": "y",
         "domain": [
          0,
          0.98
         ],
         "title": {
          "text": "SPECIALITE"
         }
        },
        "yaxis": {
         "anchor": "x",
         "domain": [
          0,
          1
         ],
         "title": {
          "text": "DEPASSEMENTS"
         }
        }
       }
      },
      "text/html": [
       "<div>\n",
       "        \n",
       "        \n",
       "            <div id=\"1c5cb6a9-5601-4bf9-b902-8d4b5e8e0563\" class=\"plotly-graph-div\" style=\"height:600px; width:100%;\"></div>\n",
       "            <script type=\"text/javascript\">\n",
       "                require([\"plotly\"], function(Plotly) {\n",
       "                    window.PLOTLYENV=window.PLOTLYENV || {};\n",
       "                    \n",
       "                if (document.getElementById(\"1c5cb6a9-5601-4bf9-b902-8d4b5e8e0563\")) {\n",
       "                    Plotly.newPlot(\n",
       "                        '1c5cb6a9-5601-4bf9-b902-8d4b5e8e0563',\n",
       "                        [{\"alignmentgroup\": \"True\", \"hoverlabel\": {\"namelength\": 0}, \"hovertemplate\": \"SPECIALITE=%{x}<br>DEPASSEMENTS=%{y}\", \"legendgroup\": \"\", \"marker\": {\"color\": \"#636efa\"}, \"name\": \"\", \"offsetgroup\": \"\", \"orientation\": \"v\", \"showlegend\": false, \"textposition\": \"auto\", \"type\": \"bar\", \"x\": [\"36- Chirurgiens-dentistes, sp\\u00e9cialistes O.D.F.\", \"10- Neurochirurgie\", \"41- Chirurgie orthop\\u00e9dique et traumatologie\", \"45- Chirurgie maxillo-faciale et stomatologie\", \"18- Stomatologie\", \"19- Chirurgiens-dentistes\", \"16- Chirurgie urologique\", \"46- Chirurgie plastique reconstructrice et esth\\u00e9tique\", \"48- Chirurgie vasculaire\", \"74- Oncologie radioth\\u00e9rapique\"], \"xaxis\": \"x\", \"y\": [363624.51257356873, 200947.42666666667, 132609.70225435984, 128141.22448979592, 126220.18575851394, 119733.1641376546, 106175.84435261707, 104052.29317269077, 103438.13888888889, 103161.6888888889], \"yaxis\": \"y\"}],\n",
       "                        {\"barmode\": \"relative\", \"height\": 600, \"legend\": {\"tracegroupgap\": 0}, \"margin\": {\"t\": 60}, \"template\": {\"data\": {\"bar\": [{\"error_x\": {\"color\": \"#2a3f5f\"}, \"error_y\": {\"color\": \"#2a3f5f\"}, \"marker\": {\"line\": {\"color\": \"#E5ECF6\", \"width\": 0.5}}, \"type\": \"bar\"}], \"barpolar\": [{\"marker\": {\"line\": {\"color\": \"#E5ECF6\", \"width\": 0.5}}, \"type\": \"barpolar\"}], \"carpet\": [{\"aaxis\": {\"endlinecolor\": \"#2a3f5f\", \"gridcolor\": \"white\", \"linecolor\": \"white\", \"minorgridcolor\": \"white\", \"startlinecolor\": \"#2a3f5f\"}, \"baxis\": {\"endlinecolor\": \"#2a3f5f\", \"gridcolor\": \"white\", \"linecolor\": \"white\", \"minorgridcolor\": \"white\", \"startlinecolor\": \"#2a3f5f\"}, \"type\": \"carpet\"}], \"choropleth\": [{\"colorbar\": {\"outlinewidth\": 0, \"ticks\": \"\"}, \"type\": \"choropleth\"}], \"contour\": [{\"colorbar\": {\"outlinewidth\": 0, \"ticks\": \"\"}, \"colorscale\": [[0.0, \"#0d0887\"], [0.1111111111111111, \"#46039f\"], [0.2222222222222222, \"#7201a8\"], [0.3333333333333333, \"#9c179e\"], [0.4444444444444444, \"#bd3786\"], [0.5555555555555556, \"#d8576b\"], [0.6666666666666666, \"#ed7953\"], [0.7777777777777778, \"#fb9f3a\"], [0.8888888888888888, \"#fdca26\"], [1.0, \"#f0f921\"]], \"type\": \"contour\"}], \"contourcarpet\": [{\"colorbar\": {\"outlinewidth\": 0, \"ticks\": \"\"}, \"type\": \"contourcarpet\"}], \"heatmap\": [{\"colorbar\": {\"outlinewidth\": 0, \"ticks\": \"\"}, \"colorscale\": [[0.0, \"#0d0887\"], [0.1111111111111111, \"#46039f\"], [0.2222222222222222, \"#7201a8\"], [0.3333333333333333, \"#9c179e\"], [0.4444444444444444, \"#bd3786\"], [0.5555555555555556, \"#d8576b\"], [0.6666666666666666, \"#ed7953\"], [0.7777777777777778, \"#fb9f3a\"], [0.8888888888888888, \"#fdca26\"], [1.0, \"#f0f921\"]], \"type\": \"heatmap\"}], \"heatmapgl\": [{\"colorbar\": {\"outlinewidth\": 0, \"ticks\": \"\"}, \"colorscale\": [[0.0, \"#0d0887\"], [0.1111111111111111, \"#46039f\"], [0.2222222222222222, \"#7201a8\"], [0.3333333333333333, \"#9c179e\"], [0.4444444444444444, \"#bd3786\"], [0.5555555555555556, \"#d8576b\"], [0.6666666666666666, \"#ed7953\"], [0.7777777777777778, \"#fb9f3a\"], [0.8888888888888888, \"#fdca26\"], [1.0, \"#f0f921\"]], \"type\": \"heatmapgl\"}], \"histogram\": [{\"marker\": {\"colorbar\": {\"outlinewidth\": 0, \"ticks\": \"\"}}, \"type\": \"histogram\"}], \"histogram2d\": [{\"colorbar\": {\"outlinewidth\": 0, \"ticks\": \"\"}, \"colorscale\": [[0.0, \"#0d0887\"], [0.1111111111111111, \"#46039f\"], [0.2222222222222222, \"#7201a8\"], [0.3333333333333333, \"#9c179e\"], [0.4444444444444444, \"#bd3786\"], [0.5555555555555556, \"#d8576b\"], [0.6666666666666666, \"#ed7953\"], [0.7777777777777778, \"#fb9f3a\"], [0.8888888888888888, \"#fdca26\"], [1.0, \"#f0f921\"]], \"type\": \"histogram2d\"}], \"histogram2dcontour\": [{\"colorbar\": {\"outlinewidth\": 0, \"ticks\": \"\"}, \"colorscale\": [[0.0, \"#0d0887\"], [0.1111111111111111, \"#46039f\"], [0.2222222222222222, \"#7201a8\"], [0.3333333333333333, \"#9c179e\"], [0.4444444444444444, \"#bd3786\"], [0.5555555555555556, \"#d8576b\"], [0.6666666666666666, \"#ed7953\"], [0.7777777777777778, \"#fb9f3a\"], [0.8888888888888888, \"#fdca26\"], [1.0, \"#f0f921\"]], \"type\": \"histogram2dcontour\"}], \"mesh3d\": [{\"colorbar\": {\"outlinewidth\": 0, \"ticks\": \"\"}, \"type\": \"mesh3d\"}], \"parcoords\": [{\"line\": {\"colorbar\": {\"outlinewidth\": 0, \"ticks\": \"\"}}, \"type\": \"parcoords\"}], \"scatter\": [{\"marker\": {\"colorbar\": {\"outlinewidth\": 0, \"ticks\": \"\"}}, \"type\": \"scatter\"}], \"scatter3d\": [{\"line\": {\"colorbar\": {\"outlinewidth\": 0, \"ticks\": \"\"}}, \"marker\": {\"colorbar\": {\"outlinewidth\": 0, \"ticks\": \"\"}}, \"type\": \"scatter3d\"}], \"scattercarpet\": [{\"marker\": {\"colorbar\": {\"outlinewidth\": 0, \"ticks\": \"\"}}, \"type\": \"scattercarpet\"}], \"scattergeo\": [{\"marker\": {\"colorbar\": {\"outlinewidth\": 0, \"ticks\": \"\"}}, \"type\": \"scattergeo\"}], \"scattergl\": [{\"marker\": {\"colorbar\": {\"outlinewidth\": 0, \"ticks\": \"\"}}, \"type\": \"scattergl\"}], \"scattermapbox\": [{\"marker\": {\"colorbar\": {\"outlinewidth\": 0, \"ticks\": \"\"}}, \"type\": \"scattermapbox\"}], \"scatterpolar\": [{\"marker\": {\"colorbar\": {\"outlinewidth\": 0, \"ticks\": \"\"}}, \"type\": \"scatterpolar\"}], \"scatterpolargl\": [{\"marker\": {\"colorbar\": {\"outlinewidth\": 0, \"ticks\": \"\"}}, \"type\": \"scatterpolargl\"}], \"scatterternary\": [{\"marker\": {\"colorbar\": {\"outlinewidth\": 0, \"ticks\": \"\"}}, \"type\": \"scatterternary\"}], \"surface\": [{\"colorbar\": {\"outlinewidth\": 0, \"ticks\": \"\"}, \"colorscale\": [[0.0, \"#0d0887\"], [0.1111111111111111, \"#46039f\"], [0.2222222222222222, \"#7201a8\"], [0.3333333333333333, \"#9c179e\"], [0.4444444444444444, \"#bd3786\"], [0.5555555555555556, \"#d8576b\"], [0.6666666666666666, \"#ed7953\"], [0.7777777777777778, \"#fb9f3a\"], [0.8888888888888888, \"#fdca26\"], [1.0, \"#f0f921\"]], \"type\": \"surface\"}], \"table\": [{\"cells\": {\"fill\": {\"color\": \"#EBF0F8\"}, \"line\": {\"color\": \"white\"}}, \"header\": {\"fill\": {\"color\": \"#C8D4E3\"}, \"line\": {\"color\": \"white\"}}, \"type\": \"table\"}]}, \"layout\": {\"annotationdefaults\": {\"arrowcolor\": \"#2a3f5f\", \"arrowhead\": 0, \"arrowwidth\": 1}, \"colorscale\": {\"diverging\": [[0, \"#8e0152\"], [0.1, \"#c51b7d\"], [0.2, \"#de77ae\"], [0.3, \"#f1b6da\"], [0.4, \"#fde0ef\"], [0.5, \"#f7f7f7\"], [0.6, \"#e6f5d0\"], [0.7, \"#b8e186\"], [0.8, \"#7fbc41\"], [0.9, \"#4d9221\"], [1, \"#276419\"]], \"sequential\": [[0.0, \"#0d0887\"], [0.1111111111111111, \"#46039f\"], [0.2222222222222222, \"#7201a8\"], [0.3333333333333333, \"#9c179e\"], [0.4444444444444444, \"#bd3786\"], [0.5555555555555556, \"#d8576b\"], [0.6666666666666666, \"#ed7953\"], [0.7777777777777778, \"#fb9f3a\"], [0.8888888888888888, \"#fdca26\"], [1.0, \"#f0f921\"]], \"sequentialminus\": [[0.0, \"#0d0887\"], [0.1111111111111111, \"#46039f\"], [0.2222222222222222, \"#7201a8\"], [0.3333333333333333, \"#9c179e\"], [0.4444444444444444, \"#bd3786\"], [0.5555555555555556, \"#d8576b\"], [0.6666666666666666, \"#ed7953\"], [0.7777777777777778, \"#fb9f3a\"], [0.8888888888888888, \"#fdca26\"], [1.0, \"#f0f921\"]]}, \"colorway\": [\"#636efa\", \"#EF553B\", \"#00cc96\", \"#ab63fa\", \"#FFA15A\", \"#19d3f3\", \"#FF6692\", \"#B6E880\", \"#FF97FF\", \"#FECB52\"], \"font\": {\"color\": \"#2a3f5f\"}, \"geo\": {\"bgcolor\": \"white\", \"lakecolor\": \"white\", \"landcolor\": \"#E5ECF6\", \"showlakes\": true, \"showland\": true, \"subunitcolor\": \"white\"}, \"hoverlabel\": {\"align\": \"left\"}, \"hovermode\": \"closest\", \"mapbox\": {\"style\": \"light\"}, \"paper_bgcolor\": \"white\", \"plot_bgcolor\": \"#E5ECF6\", \"polar\": {\"angularaxis\": {\"gridcolor\": \"white\", \"linecolor\": \"white\", \"ticks\": \"\"}, \"bgcolor\": \"#E5ECF6\", \"radialaxis\": {\"gridcolor\": \"white\", \"linecolor\": \"white\", \"ticks\": \"\"}}, \"scene\": {\"xaxis\": {\"backgroundcolor\": \"#E5ECF6\", \"gridcolor\": \"white\", \"gridwidth\": 2, \"linecolor\": \"white\", \"showbackground\": true, \"ticks\": \"\", \"zerolinecolor\": \"white\"}, \"yaxis\": {\"backgroundcolor\": \"#E5ECF6\", \"gridcolor\": \"white\", \"gridwidth\": 2, \"linecolor\": \"white\", \"showbackground\": true, \"ticks\": \"\", \"zerolinecolor\": \"white\"}, \"zaxis\": {\"backgroundcolor\": \"#E5ECF6\", \"gridcolor\": \"white\", \"gridwidth\": 2, \"linecolor\": \"white\", \"showbackground\": true, \"ticks\": \"\", \"zerolinecolor\": \"white\"}}, \"shapedefaults\": {\"line\": {\"color\": \"#2a3f5f\"}}, \"ternary\": {\"aaxis\": {\"gridcolor\": \"white\", \"linecolor\": \"white\", \"ticks\": \"\"}, \"baxis\": {\"gridcolor\": \"white\", \"linecolor\": \"white\", \"ticks\": \"\"}, \"bgcolor\": \"#E5ECF6\", \"caxis\": {\"gridcolor\": \"white\", \"linecolor\": \"white\", \"ticks\": \"\"}}, \"title\": {\"x\": 0.05}, \"xaxis\": {\"automargin\": true, \"gridcolor\": \"white\", \"linecolor\": \"white\", \"ticks\": \"\", \"zerolinecolor\": \"white\", \"zerolinewidth\": 2}, \"yaxis\": {\"automargin\": true, \"gridcolor\": \"white\", \"linecolor\": \"white\", \"ticks\": \"\", \"zerolinecolor\": \"white\", \"zerolinewidth\": 2}}}, \"xaxis\": {\"anchor\": \"y\", \"domain\": [0.0, 0.98], \"title\": {\"text\": \"SPECIALITE\"}}, \"yaxis\": {\"anchor\": \"x\", \"domain\": [0.0, 1.0], \"title\": {\"text\": \"DEPASSEMENTS\"}}},\n",
       "                        {\"responsive\": true}\n",
       "                    ).then(function(){\n",
       "                            \n",
       "var gd = document.getElementById('1c5cb6a9-5601-4bf9-b902-8d4b5e8e0563');\n",
       "var x = new MutationObserver(function (mutations, observer) {{\n",
       "        var display = window.getComputedStyle(gd).display;\n",
       "        if (!display || display === 'none') {{\n",
       "            console.log([gd, 'removed!']);\n",
       "            Plotly.purge(gd);\n",
       "            observer.disconnect();\n",
       "        }}\n",
       "}});\n",
       "\n",
       "// Listen for the removal of the full notebook cells\n",
       "var notebookContainer = gd.closest('#notebook-container');\n",
       "if (notebookContainer) {{\n",
       "    x.observe(notebookContainer, {childList: true});\n",
       "}}\n",
       "\n",
       "// Listen for the clearing of the current output cell\n",
       "var outputEl = gd.closest('.output');\n",
       "if (outputEl) {{\n",
       "    x.observe(outputEl, {childList: true});\n",
       "}}\n",
       "\n",
       "                        })\n",
       "                };\n",
       "                });\n",
       "            </script>\n",
       "        </div>"
      ]
     },
     "metadata": {},
     "output_type": "display_data"
    }
   ],
   "source": [
    "import plotly.express as px\n",
    "fig = px.bar(df_spe_sorted.head(10).reset_index(), x='SPECIALITE', y='DEPASSEMENTS')\n",
    "fig.show()"
   ]
  },
  {
   "cell_type": "markdown",
   "metadata": {},
   "source": [
    "### Quelles sont les spécialités qui ont le plus fort taux de dépassements d'honoraire par médecin sur le total des honoraires ?"
   ]
  },
  {
   "cell_type": "code",
   "execution_count": 74,
   "metadata": {
    "ExecuteTime": {
     "end_time": "2019-11-06T22:18:59.659303Z",
     "start_time": "2019-11-06T22:18:59.651298Z"
    },
    "scrolled": true
   },
   "outputs": [],
   "source": [
    "df_spe_sorted = df_spe.div(df_spe.EFFECTIFS, axis=0).drop(columns='EFFECTIFS')\n",
    "df_spe_rate_sorted = df_spe_sorted.div(df_spe_sorted.TOTAL_HONORAIRES*0.01, axis=0).sort_values(by = \"DEPASSEMENTS\", ascending=False)"
   ]
  },
  {
   "cell_type": "markdown",
   "metadata": {},
   "source": [
    "## TOP 10 "
   ]
  },
  {
   "cell_type": "code",
   "execution_count": 75,
   "metadata": {
    "ExecuteTime": {
     "end_time": "2019-11-06T22:19:01.292208Z",
     "start_time": "2019-11-06T22:19:01.071655Z"
    }
   },
   "outputs": [
    {
     "data": {
      "application/vnd.plotly.v1+json": {
       "config": {
        "plotlyServerURL": "https://plot.ly"
       },
       "data": [
        {
         "alignmentgroup": "True",
         "hoverlabel": {
          "namelength": 0
         },
         "hovertemplate": "SPECIALITE=%{x}<br>DEPASSEMENTS=%{y}",
         "legendgroup": "",
         "marker": {
          "color": "#636efa"
         },
         "name": "",
         "offsetgroup": "",
         "orientation": "v",
         "showlegend": false,
         "textposition": "auto",
         "type": "bar",
         "x": [
          "36- Chirurgiens-dentistes, spécialistes O.D.F.",
          "34-Gériatrie",
          "46- Chirurgie plastique reconstructrice et esthétique",
          "18- Stomatologie",
          "19- Chirurgiens-dentistes",
          "75- Psychiatrie de l'enfant et de l'adolescent",
          "43- Chirurgie infantile",
          "72- Phlébologie",
          "10- Neurochirurgie",
          "45- Chirurgie maxillo-faciale et stomatologie"
         ],
         "xaxis": "x",
         "y": [
          66.05511619260145,
          62.410371603627674,
          59.36564597012154,
          50.481168854598536,
          48.939971589747266,
          47.26649089550672,
          46.84878162917405,
          45.80160823407083,
          44.74771024032823,
          40.33990027392163
         ],
         "yaxis": "y"
        }
       ],
       "layout": {
        "barmode": "relative",
        "height": 600,
        "legend": {
         "tracegroupgap": 0
        },
        "margin": {
         "t": 60
        },
        "template": {
         "data": {
          "bar": [
           {
            "error_x": {
             "color": "#2a3f5f"
            },
            "error_y": {
             "color": "#2a3f5f"
            },
            "marker": {
             "line": {
              "color": "#E5ECF6",
              "width": 0.5
             }
            },
            "type": "bar"
           }
          ],
          "barpolar": [
           {
            "marker": {
             "line": {
              "color": "#E5ECF6",
              "width": 0.5
             }
            },
            "type": "barpolar"
           }
          ],
          "carpet": [
           {
            "aaxis": {
             "endlinecolor": "#2a3f5f",
             "gridcolor": "white",
             "linecolor": "white",
             "minorgridcolor": "white",
             "startlinecolor": "#2a3f5f"
            },
            "baxis": {
             "endlinecolor": "#2a3f5f",
             "gridcolor": "white",
             "linecolor": "white",
             "minorgridcolor": "white",
             "startlinecolor": "#2a3f5f"
            },
            "type": "carpet"
           }
          ],
          "choropleth": [
           {
            "colorbar": {
             "outlinewidth": 0,
             "ticks": ""
            },
            "type": "choropleth"
           }
          ],
          "contour": [
           {
            "colorbar": {
             "outlinewidth": 0,
             "ticks": ""
            },
            "colorscale": [
             [
              0,
              "#0d0887"
             ],
             [
              0.1111111111111111,
              "#46039f"
             ],
             [
              0.2222222222222222,
              "#7201a8"
             ],
             [
              0.3333333333333333,
              "#9c179e"
             ],
             [
              0.4444444444444444,
              "#bd3786"
             ],
             [
              0.5555555555555556,
              "#d8576b"
             ],
             [
              0.6666666666666666,
              "#ed7953"
             ],
             [
              0.7777777777777778,
              "#fb9f3a"
             ],
             [
              0.8888888888888888,
              "#fdca26"
             ],
             [
              1,
              "#f0f921"
             ]
            ],
            "type": "contour"
           }
          ],
          "contourcarpet": [
           {
            "colorbar": {
             "outlinewidth": 0,
             "ticks": ""
            },
            "type": "contourcarpet"
           }
          ],
          "heatmap": [
           {
            "colorbar": {
             "outlinewidth": 0,
             "ticks": ""
            },
            "colorscale": [
             [
              0,
              "#0d0887"
             ],
             [
              0.1111111111111111,
              "#46039f"
             ],
             [
              0.2222222222222222,
              "#7201a8"
             ],
             [
              0.3333333333333333,
              "#9c179e"
             ],
             [
              0.4444444444444444,
              "#bd3786"
             ],
             [
              0.5555555555555556,
              "#d8576b"
             ],
             [
              0.6666666666666666,
              "#ed7953"
             ],
             [
              0.7777777777777778,
              "#fb9f3a"
             ],
             [
              0.8888888888888888,
              "#fdca26"
             ],
             [
              1,
              "#f0f921"
             ]
            ],
            "type": "heatmap"
           }
          ],
          "heatmapgl": [
           {
            "colorbar": {
             "outlinewidth": 0,
             "ticks": ""
            },
            "colorscale": [
             [
              0,
              "#0d0887"
             ],
             [
              0.1111111111111111,
              "#46039f"
             ],
             [
              0.2222222222222222,
              "#7201a8"
             ],
             [
              0.3333333333333333,
              "#9c179e"
             ],
             [
              0.4444444444444444,
              "#bd3786"
             ],
             [
              0.5555555555555556,
              "#d8576b"
             ],
             [
              0.6666666666666666,
              "#ed7953"
             ],
             [
              0.7777777777777778,
              "#fb9f3a"
             ],
             [
              0.8888888888888888,
              "#fdca26"
             ],
             [
              1,
              "#f0f921"
             ]
            ],
            "type": "heatmapgl"
           }
          ],
          "histogram": [
           {
            "marker": {
             "colorbar": {
              "outlinewidth": 0,
              "ticks": ""
             }
            },
            "type": "histogram"
           }
          ],
          "histogram2d": [
           {
            "colorbar": {
             "outlinewidth": 0,
             "ticks": ""
            },
            "colorscale": [
             [
              0,
              "#0d0887"
             ],
             [
              0.1111111111111111,
              "#46039f"
             ],
             [
              0.2222222222222222,
              "#7201a8"
             ],
             [
              0.3333333333333333,
              "#9c179e"
             ],
             [
              0.4444444444444444,
              "#bd3786"
             ],
             [
              0.5555555555555556,
              "#d8576b"
             ],
             [
              0.6666666666666666,
              "#ed7953"
             ],
             [
              0.7777777777777778,
              "#fb9f3a"
             ],
             [
              0.8888888888888888,
              "#fdca26"
             ],
             [
              1,
              "#f0f921"
             ]
            ],
            "type": "histogram2d"
           }
          ],
          "histogram2dcontour": [
           {
            "colorbar": {
             "outlinewidth": 0,
             "ticks": ""
            },
            "colorscale": [
             [
              0,
              "#0d0887"
             ],
             [
              0.1111111111111111,
              "#46039f"
             ],
             [
              0.2222222222222222,
              "#7201a8"
             ],
             [
              0.3333333333333333,
              "#9c179e"
             ],
             [
              0.4444444444444444,
              "#bd3786"
             ],
             [
              0.5555555555555556,
              "#d8576b"
             ],
             [
              0.6666666666666666,
              "#ed7953"
             ],
             [
              0.7777777777777778,
              "#fb9f3a"
             ],
             [
              0.8888888888888888,
              "#fdca26"
             ],
             [
              1,
              "#f0f921"
             ]
            ],
            "type": "histogram2dcontour"
           }
          ],
          "mesh3d": [
           {
            "colorbar": {
             "outlinewidth": 0,
             "ticks": ""
            },
            "type": "mesh3d"
           }
          ],
          "parcoords": [
           {
            "line": {
             "colorbar": {
              "outlinewidth": 0,
              "ticks": ""
             }
            },
            "type": "parcoords"
           }
          ],
          "scatter": [
           {
            "marker": {
             "colorbar": {
              "outlinewidth": 0,
              "ticks": ""
             }
            },
            "type": "scatter"
           }
          ],
          "scatter3d": [
           {
            "line": {
             "colorbar": {
              "outlinewidth": 0,
              "ticks": ""
             }
            },
            "marker": {
             "colorbar": {
              "outlinewidth": 0,
              "ticks": ""
             }
            },
            "type": "scatter3d"
           }
          ],
          "scattercarpet": [
           {
            "marker": {
             "colorbar": {
              "outlinewidth": 0,
              "ticks": ""
             }
            },
            "type": "scattercarpet"
           }
          ],
          "scattergeo": [
           {
            "marker": {
             "colorbar": {
              "outlinewidth": 0,
              "ticks": ""
             }
            },
            "type": "scattergeo"
           }
          ],
          "scattergl": [
           {
            "marker": {
             "colorbar": {
              "outlinewidth": 0,
              "ticks": ""
             }
            },
            "type": "scattergl"
           }
          ],
          "scattermapbox": [
           {
            "marker": {
             "colorbar": {
              "outlinewidth": 0,
              "ticks": ""
             }
            },
            "type": "scattermapbox"
           }
          ],
          "scatterpolar": [
           {
            "marker": {
             "colorbar": {
              "outlinewidth": 0,
              "ticks": ""
             }
            },
            "type": "scatterpolar"
           }
          ],
          "scatterpolargl": [
           {
            "marker": {
             "colorbar": {
              "outlinewidth": 0,
              "ticks": ""
             }
            },
            "type": "scatterpolargl"
           }
          ],
          "scatterternary": [
           {
            "marker": {
             "colorbar": {
              "outlinewidth": 0,
              "ticks": ""
             }
            },
            "type": "scatterternary"
           }
          ],
          "surface": [
           {
            "colorbar": {
             "outlinewidth": 0,
             "ticks": ""
            },
            "colorscale": [
             [
              0,
              "#0d0887"
             ],
             [
              0.1111111111111111,
              "#46039f"
             ],
             [
              0.2222222222222222,
              "#7201a8"
             ],
             [
              0.3333333333333333,
              "#9c179e"
             ],
             [
              0.4444444444444444,
              "#bd3786"
             ],
             [
              0.5555555555555556,
              "#d8576b"
             ],
             [
              0.6666666666666666,
              "#ed7953"
             ],
             [
              0.7777777777777778,
              "#fb9f3a"
             ],
             [
              0.8888888888888888,
              "#fdca26"
             ],
             [
              1,
              "#f0f921"
             ]
            ],
            "type": "surface"
           }
          ],
          "table": [
           {
            "cells": {
             "fill": {
              "color": "#EBF0F8"
             },
             "line": {
              "color": "white"
             }
            },
            "header": {
             "fill": {
              "color": "#C8D4E3"
             },
             "line": {
              "color": "white"
             }
            },
            "type": "table"
           }
          ]
         },
         "layout": {
          "annotationdefaults": {
           "arrowcolor": "#2a3f5f",
           "arrowhead": 0,
           "arrowwidth": 1
          },
          "colorscale": {
           "diverging": [
            [
             0,
             "#8e0152"
            ],
            [
             0.1,
             "#c51b7d"
            ],
            [
             0.2,
             "#de77ae"
            ],
            [
             0.3,
             "#f1b6da"
            ],
            [
             0.4,
             "#fde0ef"
            ],
            [
             0.5,
             "#f7f7f7"
            ],
            [
             0.6,
             "#e6f5d0"
            ],
            [
             0.7,
             "#b8e186"
            ],
            [
             0.8,
             "#7fbc41"
            ],
            [
             0.9,
             "#4d9221"
            ],
            [
             1,
             "#276419"
            ]
           ],
           "sequential": [
            [
             0,
             "#0d0887"
            ],
            [
             0.1111111111111111,
             "#46039f"
            ],
            [
             0.2222222222222222,
             "#7201a8"
            ],
            [
             0.3333333333333333,
             "#9c179e"
            ],
            [
             0.4444444444444444,
             "#bd3786"
            ],
            [
             0.5555555555555556,
             "#d8576b"
            ],
            [
             0.6666666666666666,
             "#ed7953"
            ],
            [
             0.7777777777777778,
             "#fb9f3a"
            ],
            [
             0.8888888888888888,
             "#fdca26"
            ],
            [
             1,
             "#f0f921"
            ]
           ],
           "sequentialminus": [
            [
             0,
             "#0d0887"
            ],
            [
             0.1111111111111111,
             "#46039f"
            ],
            [
             0.2222222222222222,
             "#7201a8"
            ],
            [
             0.3333333333333333,
             "#9c179e"
            ],
            [
             0.4444444444444444,
             "#bd3786"
            ],
            [
             0.5555555555555556,
             "#d8576b"
            ],
            [
             0.6666666666666666,
             "#ed7953"
            ],
            [
             0.7777777777777778,
             "#fb9f3a"
            ],
            [
             0.8888888888888888,
             "#fdca26"
            ],
            [
             1,
             "#f0f921"
            ]
           ]
          },
          "colorway": [
           "#636efa",
           "#EF553B",
           "#00cc96",
           "#ab63fa",
           "#FFA15A",
           "#19d3f3",
           "#FF6692",
           "#B6E880",
           "#FF97FF",
           "#FECB52"
          ],
          "font": {
           "color": "#2a3f5f"
          },
          "geo": {
           "bgcolor": "white",
           "lakecolor": "white",
           "landcolor": "#E5ECF6",
           "showlakes": true,
           "showland": true,
           "subunitcolor": "white"
          },
          "hoverlabel": {
           "align": "left"
          },
          "hovermode": "closest",
          "mapbox": {
           "style": "light"
          },
          "paper_bgcolor": "white",
          "plot_bgcolor": "#E5ECF6",
          "polar": {
           "angularaxis": {
            "gridcolor": "white",
            "linecolor": "white",
            "ticks": ""
           },
           "bgcolor": "#E5ECF6",
           "radialaxis": {
            "gridcolor": "white",
            "linecolor": "white",
            "ticks": ""
           }
          },
          "scene": {
           "xaxis": {
            "backgroundcolor": "#E5ECF6",
            "gridcolor": "white",
            "gridwidth": 2,
            "linecolor": "white",
            "showbackground": true,
            "ticks": "",
            "zerolinecolor": "white"
           },
           "yaxis": {
            "backgroundcolor": "#E5ECF6",
            "gridcolor": "white",
            "gridwidth": 2,
            "linecolor": "white",
            "showbackground": true,
            "ticks": "",
            "zerolinecolor": "white"
           },
           "zaxis": {
            "backgroundcolor": "#E5ECF6",
            "gridcolor": "white",
            "gridwidth": 2,
            "linecolor": "white",
            "showbackground": true,
            "ticks": "",
            "zerolinecolor": "white"
           }
          },
          "shapedefaults": {
           "line": {
            "color": "#2a3f5f"
           }
          },
          "ternary": {
           "aaxis": {
            "gridcolor": "white",
            "linecolor": "white",
            "ticks": ""
           },
           "baxis": {
            "gridcolor": "white",
            "linecolor": "white",
            "ticks": ""
           },
           "bgcolor": "#E5ECF6",
           "caxis": {
            "gridcolor": "white",
            "linecolor": "white",
            "ticks": ""
           }
          },
          "title": {
           "x": 0.05
          },
          "xaxis": {
           "automargin": true,
           "gridcolor": "white",
           "linecolor": "white",
           "ticks": "",
           "zerolinecolor": "white",
           "zerolinewidth": 2
          },
          "yaxis": {
           "automargin": true,
           "gridcolor": "white",
           "linecolor": "white",
           "ticks": "",
           "zerolinecolor": "white",
           "zerolinewidth": 2
          }
         }
        },
        "xaxis": {
         "anchor": "y",
         "domain": [
          0,
          0.98
         ],
         "title": {
          "text": "SPECIALITE"
         }
        },
        "yaxis": {
         "anchor": "x",
         "domain": [
          0,
          1
         ],
         "title": {
          "text": "DEPASSEMENTS"
         }
        }
       }
      },
      "text/html": [
       "<div>\n",
       "        \n",
       "        \n",
       "            <div id=\"025e6dc7-73be-4b61-b635-c58581185eda\" class=\"plotly-graph-div\" style=\"height:600px; width:100%;\"></div>\n",
       "            <script type=\"text/javascript\">\n",
       "                require([\"plotly\"], function(Plotly) {\n",
       "                    window.PLOTLYENV=window.PLOTLYENV || {};\n",
       "                    \n",
       "                if (document.getElementById(\"025e6dc7-73be-4b61-b635-c58581185eda\")) {\n",
       "                    Plotly.newPlot(\n",
       "                        '025e6dc7-73be-4b61-b635-c58581185eda',\n",
       "                        [{\"alignmentgroup\": \"True\", \"hoverlabel\": {\"namelength\": 0}, \"hovertemplate\": \"SPECIALITE=%{x}<br>DEPASSEMENTS=%{y}\", \"legendgroup\": \"\", \"marker\": {\"color\": \"#636efa\"}, \"name\": \"\", \"offsetgroup\": \"\", \"orientation\": \"v\", \"showlegend\": false, \"textposition\": \"auto\", \"type\": \"bar\", \"x\": [\"36- Chirurgiens-dentistes, sp\\u00e9cialistes O.D.F.\", \"34-G\\u00e9riatrie\", \"46- Chirurgie plastique reconstructrice et esth\\u00e9tique\", \"18- Stomatologie\", \"19- Chirurgiens-dentistes\", \"75- Psychiatrie de l'enfant et de l'adolescent\", \"43- Chirurgie infantile\", \"72- Phl\\u00e9bologie\", \"10- Neurochirurgie\", \"45- Chirurgie maxillo-faciale et stomatologie\"], \"xaxis\": \"x\", \"y\": [66.05511619260145, 62.410371603627674, 59.36564597012154, 50.481168854598536, 48.939971589747266, 47.26649089550672, 46.84878162917405, 45.80160823407083, 44.74771024032823, 40.33990027392163], \"yaxis\": \"y\"}],\n",
       "                        {\"barmode\": \"relative\", \"height\": 600, \"legend\": {\"tracegroupgap\": 0}, \"margin\": {\"t\": 60}, \"template\": {\"data\": {\"bar\": [{\"error_x\": {\"color\": \"#2a3f5f\"}, \"error_y\": {\"color\": \"#2a3f5f\"}, \"marker\": {\"line\": {\"color\": \"#E5ECF6\", \"width\": 0.5}}, \"type\": \"bar\"}], \"barpolar\": [{\"marker\": {\"line\": {\"color\": \"#E5ECF6\", \"width\": 0.5}}, \"type\": \"barpolar\"}], \"carpet\": [{\"aaxis\": {\"endlinecolor\": \"#2a3f5f\", \"gridcolor\": \"white\", \"linecolor\": \"white\", \"minorgridcolor\": \"white\", \"startlinecolor\": \"#2a3f5f\"}, \"baxis\": {\"endlinecolor\": \"#2a3f5f\", \"gridcolor\": \"white\", \"linecolor\": \"white\", \"minorgridcolor\": \"white\", \"startlinecolor\": \"#2a3f5f\"}, \"type\": \"carpet\"}], \"choropleth\": [{\"colorbar\": {\"outlinewidth\": 0, \"ticks\": \"\"}, \"type\": \"choropleth\"}], \"contour\": [{\"colorbar\": {\"outlinewidth\": 0, \"ticks\": \"\"}, \"colorscale\": [[0.0, \"#0d0887\"], [0.1111111111111111, \"#46039f\"], [0.2222222222222222, \"#7201a8\"], [0.3333333333333333, \"#9c179e\"], [0.4444444444444444, \"#bd3786\"], [0.5555555555555556, \"#d8576b\"], [0.6666666666666666, \"#ed7953\"], [0.7777777777777778, \"#fb9f3a\"], [0.8888888888888888, \"#fdca26\"], [1.0, \"#f0f921\"]], \"type\": \"contour\"}], \"contourcarpet\": [{\"colorbar\": {\"outlinewidth\": 0, \"ticks\": \"\"}, \"type\": \"contourcarpet\"}], \"heatmap\": [{\"colorbar\": {\"outlinewidth\": 0, \"ticks\": \"\"}, \"colorscale\": [[0.0, \"#0d0887\"], [0.1111111111111111, \"#46039f\"], [0.2222222222222222, \"#7201a8\"], [0.3333333333333333, \"#9c179e\"], [0.4444444444444444, \"#bd3786\"], [0.5555555555555556, \"#d8576b\"], [0.6666666666666666, \"#ed7953\"], [0.7777777777777778, \"#fb9f3a\"], [0.8888888888888888, \"#fdca26\"], [1.0, \"#f0f921\"]], \"type\": \"heatmap\"}], \"heatmapgl\": [{\"colorbar\": {\"outlinewidth\": 0, \"ticks\": \"\"}, \"colorscale\": [[0.0, \"#0d0887\"], [0.1111111111111111, \"#46039f\"], [0.2222222222222222, \"#7201a8\"], [0.3333333333333333, \"#9c179e\"], [0.4444444444444444, \"#bd3786\"], [0.5555555555555556, \"#d8576b\"], [0.6666666666666666, \"#ed7953\"], [0.7777777777777778, \"#fb9f3a\"], [0.8888888888888888, \"#fdca26\"], [1.0, \"#f0f921\"]], \"type\": \"heatmapgl\"}], \"histogram\": [{\"marker\": {\"colorbar\": {\"outlinewidth\": 0, \"ticks\": \"\"}}, \"type\": \"histogram\"}], \"histogram2d\": [{\"colorbar\": {\"outlinewidth\": 0, \"ticks\": \"\"}, \"colorscale\": [[0.0, \"#0d0887\"], [0.1111111111111111, \"#46039f\"], [0.2222222222222222, \"#7201a8\"], [0.3333333333333333, \"#9c179e\"], [0.4444444444444444, \"#bd3786\"], [0.5555555555555556, \"#d8576b\"], [0.6666666666666666, \"#ed7953\"], [0.7777777777777778, \"#fb9f3a\"], [0.8888888888888888, \"#fdca26\"], [1.0, \"#f0f921\"]], \"type\": \"histogram2d\"}], \"histogram2dcontour\": [{\"colorbar\": {\"outlinewidth\": 0, \"ticks\": \"\"}, \"colorscale\": [[0.0, \"#0d0887\"], [0.1111111111111111, \"#46039f\"], [0.2222222222222222, \"#7201a8\"], [0.3333333333333333, \"#9c179e\"], [0.4444444444444444, \"#bd3786\"], [0.5555555555555556, \"#d8576b\"], [0.6666666666666666, \"#ed7953\"], [0.7777777777777778, \"#fb9f3a\"], [0.8888888888888888, \"#fdca26\"], [1.0, \"#f0f921\"]], \"type\": \"histogram2dcontour\"}], \"mesh3d\": [{\"colorbar\": {\"outlinewidth\": 0, \"ticks\": \"\"}, \"type\": \"mesh3d\"}], \"parcoords\": [{\"line\": {\"colorbar\": {\"outlinewidth\": 0, \"ticks\": \"\"}}, \"type\": \"parcoords\"}], \"scatter\": [{\"marker\": {\"colorbar\": {\"outlinewidth\": 0, \"ticks\": \"\"}}, \"type\": \"scatter\"}], \"scatter3d\": [{\"line\": {\"colorbar\": {\"outlinewidth\": 0, \"ticks\": \"\"}}, \"marker\": {\"colorbar\": {\"outlinewidth\": 0, \"ticks\": \"\"}}, \"type\": \"scatter3d\"}], \"scattercarpet\": [{\"marker\": {\"colorbar\": {\"outlinewidth\": 0, \"ticks\": \"\"}}, \"type\": \"scattercarpet\"}], \"scattergeo\": [{\"marker\": {\"colorbar\": {\"outlinewidth\": 0, \"ticks\": \"\"}}, \"type\": \"scattergeo\"}], \"scattergl\": [{\"marker\": {\"colorbar\": {\"outlinewidth\": 0, \"ticks\": \"\"}}, \"type\": \"scattergl\"}], \"scattermapbox\": [{\"marker\": {\"colorbar\": {\"outlinewidth\": 0, \"ticks\": \"\"}}, \"type\": \"scattermapbox\"}], \"scatterpolar\": [{\"marker\": {\"colorbar\": {\"outlinewidth\": 0, \"ticks\": \"\"}}, \"type\": \"scatterpolar\"}], \"scatterpolargl\": [{\"marker\": {\"colorbar\": {\"outlinewidth\": 0, \"ticks\": \"\"}}, \"type\": \"scatterpolargl\"}], \"scatterternary\": [{\"marker\": {\"colorbar\": {\"outlinewidth\": 0, \"ticks\": \"\"}}, \"type\": \"scatterternary\"}], \"surface\": [{\"colorbar\": {\"outlinewidth\": 0, \"ticks\": \"\"}, \"colorscale\": [[0.0, \"#0d0887\"], [0.1111111111111111, \"#46039f\"], [0.2222222222222222, \"#7201a8\"], [0.3333333333333333, \"#9c179e\"], [0.4444444444444444, \"#bd3786\"], [0.5555555555555556, \"#d8576b\"], [0.6666666666666666, \"#ed7953\"], [0.7777777777777778, \"#fb9f3a\"], [0.8888888888888888, \"#fdca26\"], [1.0, \"#f0f921\"]], \"type\": \"surface\"}], \"table\": [{\"cells\": {\"fill\": {\"color\": \"#EBF0F8\"}, \"line\": {\"color\": \"white\"}}, \"header\": {\"fill\": {\"color\": \"#C8D4E3\"}, \"line\": {\"color\": \"white\"}}, \"type\": \"table\"}]}, \"layout\": {\"annotationdefaults\": {\"arrowcolor\": \"#2a3f5f\", \"arrowhead\": 0, \"arrowwidth\": 1}, \"colorscale\": {\"diverging\": [[0, \"#8e0152\"], [0.1, \"#c51b7d\"], [0.2, \"#de77ae\"], [0.3, \"#f1b6da\"], [0.4, \"#fde0ef\"], [0.5, \"#f7f7f7\"], [0.6, \"#e6f5d0\"], [0.7, \"#b8e186\"], [0.8, \"#7fbc41\"], [0.9, \"#4d9221\"], [1, \"#276419\"]], \"sequential\": [[0.0, \"#0d0887\"], [0.1111111111111111, \"#46039f\"], [0.2222222222222222, \"#7201a8\"], [0.3333333333333333, \"#9c179e\"], [0.4444444444444444, \"#bd3786\"], [0.5555555555555556, \"#d8576b\"], [0.6666666666666666, \"#ed7953\"], [0.7777777777777778, \"#fb9f3a\"], [0.8888888888888888, \"#fdca26\"], [1.0, \"#f0f921\"]], \"sequentialminus\": [[0.0, \"#0d0887\"], [0.1111111111111111, \"#46039f\"], [0.2222222222222222, \"#7201a8\"], [0.3333333333333333, \"#9c179e\"], [0.4444444444444444, \"#bd3786\"], [0.5555555555555556, \"#d8576b\"], [0.6666666666666666, \"#ed7953\"], [0.7777777777777778, \"#fb9f3a\"], [0.8888888888888888, \"#fdca26\"], [1.0, \"#f0f921\"]]}, \"colorway\": [\"#636efa\", \"#EF553B\", \"#00cc96\", \"#ab63fa\", \"#FFA15A\", \"#19d3f3\", \"#FF6692\", \"#B6E880\", \"#FF97FF\", \"#FECB52\"], \"font\": {\"color\": \"#2a3f5f\"}, \"geo\": {\"bgcolor\": \"white\", \"lakecolor\": \"white\", \"landcolor\": \"#E5ECF6\", \"showlakes\": true, \"showland\": true, \"subunitcolor\": \"white\"}, \"hoverlabel\": {\"align\": \"left\"}, \"hovermode\": \"closest\", \"mapbox\": {\"style\": \"light\"}, \"paper_bgcolor\": \"white\", \"plot_bgcolor\": \"#E5ECF6\", \"polar\": {\"angularaxis\": {\"gridcolor\": \"white\", \"linecolor\": \"white\", \"ticks\": \"\"}, \"bgcolor\": \"#E5ECF6\", \"radialaxis\": {\"gridcolor\": \"white\", \"linecolor\": \"white\", \"ticks\": \"\"}}, \"scene\": {\"xaxis\": {\"backgroundcolor\": \"#E5ECF6\", \"gridcolor\": \"white\", \"gridwidth\": 2, \"linecolor\": \"white\", \"showbackground\": true, \"ticks\": \"\", \"zerolinecolor\": \"white\"}, \"yaxis\": {\"backgroundcolor\": \"#E5ECF6\", \"gridcolor\": \"white\", \"gridwidth\": 2, \"linecolor\": \"white\", \"showbackground\": true, \"ticks\": \"\", \"zerolinecolor\": \"white\"}, \"zaxis\": {\"backgroundcolor\": \"#E5ECF6\", \"gridcolor\": \"white\", \"gridwidth\": 2, \"linecolor\": \"white\", \"showbackground\": true, \"ticks\": \"\", \"zerolinecolor\": \"white\"}}, \"shapedefaults\": {\"line\": {\"color\": \"#2a3f5f\"}}, \"ternary\": {\"aaxis\": {\"gridcolor\": \"white\", \"linecolor\": \"white\", \"ticks\": \"\"}, \"baxis\": {\"gridcolor\": \"white\", \"linecolor\": \"white\", \"ticks\": \"\"}, \"bgcolor\": \"#E5ECF6\", \"caxis\": {\"gridcolor\": \"white\", \"linecolor\": \"white\", \"ticks\": \"\"}}, \"title\": {\"x\": 0.05}, \"xaxis\": {\"automargin\": true, \"gridcolor\": \"white\", \"linecolor\": \"white\", \"ticks\": \"\", \"zerolinecolor\": \"white\", \"zerolinewidth\": 2}, \"yaxis\": {\"automargin\": true, \"gridcolor\": \"white\", \"linecolor\": \"white\", \"ticks\": \"\", \"zerolinecolor\": \"white\", \"zerolinewidth\": 2}}}, \"xaxis\": {\"anchor\": \"y\", \"domain\": [0.0, 0.98], \"title\": {\"text\": \"SPECIALITE\"}}, \"yaxis\": {\"anchor\": \"x\", \"domain\": [0.0, 1.0], \"title\": {\"text\": \"DEPASSEMENTS\"}}},\n",
       "                        {\"responsive\": true}\n",
       "                    ).then(function(){\n",
       "                            \n",
       "var gd = document.getElementById('025e6dc7-73be-4b61-b635-c58581185eda');\n",
       "var x = new MutationObserver(function (mutations, observer) {{\n",
       "        var display = window.getComputedStyle(gd).display;\n",
       "        if (!display || display === 'none') {{\n",
       "            console.log([gd, 'removed!']);\n",
       "            Plotly.purge(gd);\n",
       "            observer.disconnect();\n",
       "        }}\n",
       "}});\n",
       "\n",
       "// Listen for the removal of the full notebook cells\n",
       "var notebookContainer = gd.closest('#notebook-container');\n",
       "if (notebookContainer) {{\n",
       "    x.observe(notebookContainer, {childList: true});\n",
       "}}\n",
       "\n",
       "// Listen for the clearing of the current output cell\n",
       "var outputEl = gd.closest('.output');\n",
       "if (outputEl) {{\n",
       "    x.observe(outputEl, {childList: true});\n",
       "}}\n",
       "\n",
       "                        })\n",
       "                };\n",
       "                });\n",
       "            </script>\n",
       "        </div>"
      ]
     },
     "metadata": {},
     "output_type": "display_data"
    }
   ],
   "source": [
    "fig = px.bar(df_spe_rate_sorted.head(10).reset_index(), x='SPECIALITE', y='DEPASSEMENTS')\n",
    "fig.show()"
   ]
  },
  {
   "cell_type": "markdown",
   "metadata": {},
   "source": [
    "### Quelles sont les spécialités qui ont le plus bas taux de dépassements d'honoraire par médecin sur le total des honoraires ?"
   ]
  },
  {
   "cell_type": "code",
   "execution_count": 76,
   "metadata": {
    "ExecuteTime": {
     "end_time": "2019-11-06T22:19:02.944608Z",
     "start_time": "2019-11-06T22:19:02.717061Z"
    }
   },
   "outputs": [
    {
     "data": {
      "application/vnd.plotly.v1+json": {
       "config": {
        "plotlyServerURL": "https://plot.ly"
       },
       "data": [
        {
         "alignmentgroup": "True",
         "hoverlabel": {
          "namelength": 0
         },
         "hovertemplate": "SPECIALITE=%{x}<br>DEPASSEMENTS=%{y}",
         "legendgroup": "",
         "marker": {
          "color": "#636efa"
         },
         "name": "",
         "offsetgroup": "",
         "orientation": "v",
         "showlegend": false,
         "textposition": "auto",
         "type": "bar",
         "x": [
          "03- Pathologie cardio-vasculaire",
          "37- Anatomo-cyto-pathologie",
          "01- OMNIPRATICIENS",
          "72- Médecine nucléaire",
          "01- Médecine générale",
          "93- SOS Médecins",
          "38- Médecins biologistes",
          "57- Gériatrie",
          "35- Néphrologie",
          "86- Thermalisme et Médecine Générale"
         ],
         "xaxis": "x",
         "y": [
          4.3669498464635215,
          3.7947720260278968,
          2.632550844634852,
          1.6747908484189202,
          1.6284180106243444,
          1.1926146633709909,
          0.9891872498779585,
          0.749335477285831,
          0.6066678335163561,
          0.09217638631280033
         ],
         "yaxis": "y"
        }
       ],
       "layout": {
        "barmode": "relative",
        "height": 600,
        "legend": {
         "tracegroupgap": 0
        },
        "margin": {
         "t": 60
        },
        "template": {
         "data": {
          "bar": [
           {
            "error_x": {
             "color": "#2a3f5f"
            },
            "error_y": {
             "color": "#2a3f5f"
            },
            "marker": {
             "line": {
              "color": "#E5ECF6",
              "width": 0.5
             }
            },
            "type": "bar"
           }
          ],
          "barpolar": [
           {
            "marker": {
             "line": {
              "color": "#E5ECF6",
              "width": 0.5
             }
            },
            "type": "barpolar"
           }
          ],
          "carpet": [
           {
            "aaxis": {
             "endlinecolor": "#2a3f5f",
             "gridcolor": "white",
             "linecolor": "white",
             "minorgridcolor": "white",
             "startlinecolor": "#2a3f5f"
            },
            "baxis": {
             "endlinecolor": "#2a3f5f",
             "gridcolor": "white",
             "linecolor": "white",
             "minorgridcolor": "white",
             "startlinecolor": "#2a3f5f"
            },
            "type": "carpet"
           }
          ],
          "choropleth": [
           {
            "colorbar": {
             "outlinewidth": 0,
             "ticks": ""
            },
            "type": "choropleth"
           }
          ],
          "contour": [
           {
            "colorbar": {
             "outlinewidth": 0,
             "ticks": ""
            },
            "colorscale": [
             [
              0,
              "#0d0887"
             ],
             [
              0.1111111111111111,
              "#46039f"
             ],
             [
              0.2222222222222222,
              "#7201a8"
             ],
             [
              0.3333333333333333,
              "#9c179e"
             ],
             [
              0.4444444444444444,
              "#bd3786"
             ],
             [
              0.5555555555555556,
              "#d8576b"
             ],
             [
              0.6666666666666666,
              "#ed7953"
             ],
             [
              0.7777777777777778,
              "#fb9f3a"
             ],
             [
              0.8888888888888888,
              "#fdca26"
             ],
             [
              1,
              "#f0f921"
             ]
            ],
            "type": "contour"
           }
          ],
          "contourcarpet": [
           {
            "colorbar": {
             "outlinewidth": 0,
             "ticks": ""
            },
            "type": "contourcarpet"
           }
          ],
          "heatmap": [
           {
            "colorbar": {
             "outlinewidth": 0,
             "ticks": ""
            },
            "colorscale": [
             [
              0,
              "#0d0887"
             ],
             [
              0.1111111111111111,
              "#46039f"
             ],
             [
              0.2222222222222222,
              "#7201a8"
             ],
             [
              0.3333333333333333,
              "#9c179e"
             ],
             [
              0.4444444444444444,
              "#bd3786"
             ],
             [
              0.5555555555555556,
              "#d8576b"
             ],
             [
              0.6666666666666666,
              "#ed7953"
             ],
             [
              0.7777777777777778,
              "#fb9f3a"
             ],
             [
              0.8888888888888888,
              "#fdca26"
             ],
             [
              1,
              "#f0f921"
             ]
            ],
            "type": "heatmap"
           }
          ],
          "heatmapgl": [
           {
            "colorbar": {
             "outlinewidth": 0,
             "ticks": ""
            },
            "colorscale": [
             [
              0,
              "#0d0887"
             ],
             [
              0.1111111111111111,
              "#46039f"
             ],
             [
              0.2222222222222222,
              "#7201a8"
             ],
             [
              0.3333333333333333,
              "#9c179e"
             ],
             [
              0.4444444444444444,
              "#bd3786"
             ],
             [
              0.5555555555555556,
              "#d8576b"
             ],
             [
              0.6666666666666666,
              "#ed7953"
             ],
             [
              0.7777777777777778,
              "#fb9f3a"
             ],
             [
              0.8888888888888888,
              "#fdca26"
             ],
             [
              1,
              "#f0f921"
             ]
            ],
            "type": "heatmapgl"
           }
          ],
          "histogram": [
           {
            "marker": {
             "colorbar": {
              "outlinewidth": 0,
              "ticks": ""
             }
            },
            "type": "histogram"
           }
          ],
          "histogram2d": [
           {
            "colorbar": {
             "outlinewidth": 0,
             "ticks": ""
            },
            "colorscale": [
             [
              0,
              "#0d0887"
             ],
             [
              0.1111111111111111,
              "#46039f"
             ],
             [
              0.2222222222222222,
              "#7201a8"
             ],
             [
              0.3333333333333333,
              "#9c179e"
             ],
             [
              0.4444444444444444,
              "#bd3786"
             ],
             [
              0.5555555555555556,
              "#d8576b"
             ],
             [
              0.6666666666666666,
              "#ed7953"
             ],
             [
              0.7777777777777778,
              "#fb9f3a"
             ],
             [
              0.8888888888888888,
              "#fdca26"
             ],
             [
              1,
              "#f0f921"
             ]
            ],
            "type": "histogram2d"
           }
          ],
          "histogram2dcontour": [
           {
            "colorbar": {
             "outlinewidth": 0,
             "ticks": ""
            },
            "colorscale": [
             [
              0,
              "#0d0887"
             ],
             [
              0.1111111111111111,
              "#46039f"
             ],
             [
              0.2222222222222222,
              "#7201a8"
             ],
             [
              0.3333333333333333,
              "#9c179e"
             ],
             [
              0.4444444444444444,
              "#bd3786"
             ],
             [
              0.5555555555555556,
              "#d8576b"
             ],
             [
              0.6666666666666666,
              "#ed7953"
             ],
             [
              0.7777777777777778,
              "#fb9f3a"
             ],
             [
              0.8888888888888888,
              "#fdca26"
             ],
             [
              1,
              "#f0f921"
             ]
            ],
            "type": "histogram2dcontour"
           }
          ],
          "mesh3d": [
           {
            "colorbar": {
             "outlinewidth": 0,
             "ticks": ""
            },
            "type": "mesh3d"
           }
          ],
          "parcoords": [
           {
            "line": {
             "colorbar": {
              "outlinewidth": 0,
              "ticks": ""
             }
            },
            "type": "parcoords"
           }
          ],
          "scatter": [
           {
            "marker": {
             "colorbar": {
              "outlinewidth": 0,
              "ticks": ""
             }
            },
            "type": "scatter"
           }
          ],
          "scatter3d": [
           {
            "line": {
             "colorbar": {
              "outlinewidth": 0,
              "ticks": ""
             }
            },
            "marker": {
             "colorbar": {
              "outlinewidth": 0,
              "ticks": ""
             }
            },
            "type": "scatter3d"
           }
          ],
          "scattercarpet": [
           {
            "marker": {
             "colorbar": {
              "outlinewidth": 0,
              "ticks": ""
             }
            },
            "type": "scattercarpet"
           }
          ],
          "scattergeo": [
           {
            "marker": {
             "colorbar": {
              "outlinewidth": 0,
              "ticks": ""
             }
            },
            "type": "scattergeo"
           }
          ],
          "scattergl": [
           {
            "marker": {
             "colorbar": {
              "outlinewidth": 0,
              "ticks": ""
             }
            },
            "type": "scattergl"
           }
          ],
          "scattermapbox": [
           {
            "marker": {
             "colorbar": {
              "outlinewidth": 0,
              "ticks": ""
             }
            },
            "type": "scattermapbox"
           }
          ],
          "scatterpolar": [
           {
            "marker": {
             "colorbar": {
              "outlinewidth": 0,
              "ticks": ""
             }
            },
            "type": "scatterpolar"
           }
          ],
          "scatterpolargl": [
           {
            "marker": {
             "colorbar": {
              "outlinewidth": 0,
              "ticks": ""
             }
            },
            "type": "scatterpolargl"
           }
          ],
          "scatterternary": [
           {
            "marker": {
             "colorbar": {
              "outlinewidth": 0,
              "ticks": ""
             }
            },
            "type": "scatterternary"
           }
          ],
          "surface": [
           {
            "colorbar": {
             "outlinewidth": 0,
             "ticks": ""
            },
            "colorscale": [
             [
              0,
              "#0d0887"
             ],
             [
              0.1111111111111111,
              "#46039f"
             ],
             [
              0.2222222222222222,
              "#7201a8"
             ],
             [
              0.3333333333333333,
              "#9c179e"
             ],
             [
              0.4444444444444444,
              "#bd3786"
             ],
             [
              0.5555555555555556,
              "#d8576b"
             ],
             [
              0.6666666666666666,
              "#ed7953"
             ],
             [
              0.7777777777777778,
              "#fb9f3a"
             ],
             [
              0.8888888888888888,
              "#fdca26"
             ],
             [
              1,
              "#f0f921"
             ]
            ],
            "type": "surface"
           }
          ],
          "table": [
           {
            "cells": {
             "fill": {
              "color": "#EBF0F8"
             },
             "line": {
              "color": "white"
             }
            },
            "header": {
             "fill": {
              "color": "#C8D4E3"
             },
             "line": {
              "color": "white"
             }
            },
            "type": "table"
           }
          ]
         },
         "layout": {
          "annotationdefaults": {
           "arrowcolor": "#2a3f5f",
           "arrowhead": 0,
           "arrowwidth": 1
          },
          "colorscale": {
           "diverging": [
            [
             0,
             "#8e0152"
            ],
            [
             0.1,
             "#c51b7d"
            ],
            [
             0.2,
             "#de77ae"
            ],
            [
             0.3,
             "#f1b6da"
            ],
            [
             0.4,
             "#fde0ef"
            ],
            [
             0.5,
             "#f7f7f7"
            ],
            [
             0.6,
             "#e6f5d0"
            ],
            [
             0.7,
             "#b8e186"
            ],
            [
             0.8,
             "#7fbc41"
            ],
            [
             0.9,
             "#4d9221"
            ],
            [
             1,
             "#276419"
            ]
           ],
           "sequential": [
            [
             0,
             "#0d0887"
            ],
            [
             0.1111111111111111,
             "#46039f"
            ],
            [
             0.2222222222222222,
             "#7201a8"
            ],
            [
             0.3333333333333333,
             "#9c179e"
            ],
            [
             0.4444444444444444,
             "#bd3786"
            ],
            [
             0.5555555555555556,
             "#d8576b"
            ],
            [
             0.6666666666666666,
             "#ed7953"
            ],
            [
             0.7777777777777778,
             "#fb9f3a"
            ],
            [
             0.8888888888888888,
             "#fdca26"
            ],
            [
             1,
             "#f0f921"
            ]
           ],
           "sequentialminus": [
            [
             0,
             "#0d0887"
            ],
            [
             0.1111111111111111,
             "#46039f"
            ],
            [
             0.2222222222222222,
             "#7201a8"
            ],
            [
             0.3333333333333333,
             "#9c179e"
            ],
            [
             0.4444444444444444,
             "#bd3786"
            ],
            [
             0.5555555555555556,
             "#d8576b"
            ],
            [
             0.6666666666666666,
             "#ed7953"
            ],
            [
             0.7777777777777778,
             "#fb9f3a"
            ],
            [
             0.8888888888888888,
             "#fdca26"
            ],
            [
             1,
             "#f0f921"
            ]
           ]
          },
          "colorway": [
           "#636efa",
           "#EF553B",
           "#00cc96",
           "#ab63fa",
           "#FFA15A",
           "#19d3f3",
           "#FF6692",
           "#B6E880",
           "#FF97FF",
           "#FECB52"
          ],
          "font": {
           "color": "#2a3f5f"
          },
          "geo": {
           "bgcolor": "white",
           "lakecolor": "white",
           "landcolor": "#E5ECF6",
           "showlakes": true,
           "showland": true,
           "subunitcolor": "white"
          },
          "hoverlabel": {
           "align": "left"
          },
          "hovermode": "closest",
          "mapbox": {
           "style": "light"
          },
          "paper_bgcolor": "white",
          "plot_bgcolor": "#E5ECF6",
          "polar": {
           "angularaxis": {
            "gridcolor": "white",
            "linecolor": "white",
            "ticks": ""
           },
           "bgcolor": "#E5ECF6",
           "radialaxis": {
            "gridcolor": "white",
            "linecolor": "white",
            "ticks": ""
           }
          },
          "scene": {
           "xaxis": {
            "backgroundcolor": "#E5ECF6",
            "gridcolor": "white",
            "gridwidth": 2,
            "linecolor": "white",
            "showbackground": true,
            "ticks": "",
            "zerolinecolor": "white"
           },
           "yaxis": {
            "backgroundcolor": "#E5ECF6",
            "gridcolor": "white",
            "gridwidth": 2,
            "linecolor": "white",
            "showbackground": true,
            "ticks": "",
            "zerolinecolor": "white"
           },
           "zaxis": {
            "backgroundcolor": "#E5ECF6",
            "gridcolor": "white",
            "gridwidth": 2,
            "linecolor": "white",
            "showbackground": true,
            "ticks": "",
            "zerolinecolor": "white"
           }
          },
          "shapedefaults": {
           "line": {
            "color": "#2a3f5f"
           }
          },
          "ternary": {
           "aaxis": {
            "gridcolor": "white",
            "linecolor": "white",
            "ticks": ""
           },
           "baxis": {
            "gridcolor": "white",
            "linecolor": "white",
            "ticks": ""
           },
           "bgcolor": "#E5ECF6",
           "caxis": {
            "gridcolor": "white",
            "linecolor": "white",
            "ticks": ""
           }
          },
          "title": {
           "x": 0.05
          },
          "xaxis": {
           "automargin": true,
           "gridcolor": "white",
           "linecolor": "white",
           "ticks": "",
           "zerolinecolor": "white",
           "zerolinewidth": 2
          },
          "yaxis": {
           "automargin": true,
           "gridcolor": "white",
           "linecolor": "white",
           "ticks": "",
           "zerolinecolor": "white",
           "zerolinewidth": 2
          }
         }
        },
        "xaxis": {
         "anchor": "y",
         "domain": [
          0,
          0.98
         ],
         "title": {
          "text": "SPECIALITE"
         }
        },
        "yaxis": {
         "anchor": "x",
         "domain": [
          0,
          1
         ],
         "title": {
          "text": "DEPASSEMENTS"
         }
        }
       }
      },
      "text/html": [
       "<div>\n",
       "        \n",
       "        \n",
       "            <div id=\"8170bc7b-dd18-461b-a6a6-9be7b51ad395\" class=\"plotly-graph-div\" style=\"height:600px; width:100%;\"></div>\n",
       "            <script type=\"text/javascript\">\n",
       "                require([\"plotly\"], function(Plotly) {\n",
       "                    window.PLOTLYENV=window.PLOTLYENV || {};\n",
       "                    \n",
       "                if (document.getElementById(\"8170bc7b-dd18-461b-a6a6-9be7b51ad395\")) {\n",
       "                    Plotly.newPlot(\n",
       "                        '8170bc7b-dd18-461b-a6a6-9be7b51ad395',\n",
       "                        [{\"alignmentgroup\": \"True\", \"hoverlabel\": {\"namelength\": 0}, \"hovertemplate\": \"SPECIALITE=%{x}<br>DEPASSEMENTS=%{y}\", \"legendgroup\": \"\", \"marker\": {\"color\": \"#636efa\"}, \"name\": \"\", \"offsetgroup\": \"\", \"orientation\": \"v\", \"showlegend\": false, \"textposition\": \"auto\", \"type\": \"bar\", \"x\": [\"03- Pathologie cardio-vasculaire\", \"37- Anatomo-cyto-pathologie\", \"01- OMNIPRATICIENS\", \"72- M\\u00e9decine nucl\\u00e9aire\", \"01- M\\u00e9decine g\\u00e9n\\u00e9rale\", \"93- SOS M\\u00e9decins\", \"38- M\\u00e9decins biologistes\", \"57- G\\u00e9riatrie\", \"35- N\\u00e9phrologie\", \"86- Thermalisme et M\\u00e9decine G\\u00e9n\\u00e9rale\"], \"xaxis\": \"x\", \"y\": [4.3669498464635215, 3.7947720260278968, 2.632550844634852, 1.6747908484189202, 1.6284180106243444, 1.1926146633709909, 0.9891872498779585, 0.749335477285831, 0.6066678335163561, 0.09217638631280033], \"yaxis\": \"y\"}],\n",
       "                        {\"barmode\": \"relative\", \"height\": 600, \"legend\": {\"tracegroupgap\": 0}, \"margin\": {\"t\": 60}, \"template\": {\"data\": {\"bar\": [{\"error_x\": {\"color\": \"#2a3f5f\"}, \"error_y\": {\"color\": \"#2a3f5f\"}, \"marker\": {\"line\": {\"color\": \"#E5ECF6\", \"width\": 0.5}}, \"type\": \"bar\"}], \"barpolar\": [{\"marker\": {\"line\": {\"color\": \"#E5ECF6\", \"width\": 0.5}}, \"type\": \"barpolar\"}], \"carpet\": [{\"aaxis\": {\"endlinecolor\": \"#2a3f5f\", \"gridcolor\": \"white\", \"linecolor\": \"white\", \"minorgridcolor\": \"white\", \"startlinecolor\": \"#2a3f5f\"}, \"baxis\": {\"endlinecolor\": \"#2a3f5f\", \"gridcolor\": \"white\", \"linecolor\": \"white\", \"minorgridcolor\": \"white\", \"startlinecolor\": \"#2a3f5f\"}, \"type\": \"carpet\"}], \"choropleth\": [{\"colorbar\": {\"outlinewidth\": 0, \"ticks\": \"\"}, \"type\": \"choropleth\"}], \"contour\": [{\"colorbar\": {\"outlinewidth\": 0, \"ticks\": \"\"}, \"colorscale\": [[0.0, \"#0d0887\"], [0.1111111111111111, \"#46039f\"], [0.2222222222222222, \"#7201a8\"], [0.3333333333333333, \"#9c179e\"], [0.4444444444444444, \"#bd3786\"], [0.5555555555555556, \"#d8576b\"], [0.6666666666666666, \"#ed7953\"], [0.7777777777777778, \"#fb9f3a\"], [0.8888888888888888, \"#fdca26\"], [1.0, \"#f0f921\"]], \"type\": \"contour\"}], \"contourcarpet\": [{\"colorbar\": {\"outlinewidth\": 0, \"ticks\": \"\"}, \"type\": \"contourcarpet\"}], \"heatmap\": [{\"colorbar\": {\"outlinewidth\": 0, \"ticks\": \"\"}, \"colorscale\": [[0.0, \"#0d0887\"], [0.1111111111111111, \"#46039f\"], [0.2222222222222222, \"#7201a8\"], [0.3333333333333333, \"#9c179e\"], [0.4444444444444444, \"#bd3786\"], [0.5555555555555556, \"#d8576b\"], [0.6666666666666666, \"#ed7953\"], [0.7777777777777778, \"#fb9f3a\"], [0.8888888888888888, \"#fdca26\"], [1.0, \"#f0f921\"]], \"type\": \"heatmap\"}], \"heatmapgl\": [{\"colorbar\": {\"outlinewidth\": 0, \"ticks\": \"\"}, \"colorscale\": [[0.0, \"#0d0887\"], [0.1111111111111111, \"#46039f\"], [0.2222222222222222, \"#7201a8\"], [0.3333333333333333, \"#9c179e\"], [0.4444444444444444, \"#bd3786\"], [0.5555555555555556, \"#d8576b\"], [0.6666666666666666, \"#ed7953\"], [0.7777777777777778, \"#fb9f3a\"], [0.8888888888888888, \"#fdca26\"], [1.0, \"#f0f921\"]], \"type\": \"heatmapgl\"}], \"histogram\": [{\"marker\": {\"colorbar\": {\"outlinewidth\": 0, \"ticks\": \"\"}}, \"type\": \"histogram\"}], \"histogram2d\": [{\"colorbar\": {\"outlinewidth\": 0, \"ticks\": \"\"}, \"colorscale\": [[0.0, \"#0d0887\"], [0.1111111111111111, \"#46039f\"], [0.2222222222222222, \"#7201a8\"], [0.3333333333333333, \"#9c179e\"], [0.4444444444444444, \"#bd3786\"], [0.5555555555555556, \"#d8576b\"], [0.6666666666666666, \"#ed7953\"], [0.7777777777777778, \"#fb9f3a\"], [0.8888888888888888, \"#fdca26\"], [1.0, \"#f0f921\"]], \"type\": \"histogram2d\"}], \"histogram2dcontour\": [{\"colorbar\": {\"outlinewidth\": 0, \"ticks\": \"\"}, \"colorscale\": [[0.0, \"#0d0887\"], [0.1111111111111111, \"#46039f\"], [0.2222222222222222, \"#7201a8\"], [0.3333333333333333, \"#9c179e\"], [0.4444444444444444, \"#bd3786\"], [0.5555555555555556, \"#d8576b\"], [0.6666666666666666, \"#ed7953\"], [0.7777777777777778, \"#fb9f3a\"], [0.8888888888888888, \"#fdca26\"], [1.0, \"#f0f921\"]], \"type\": \"histogram2dcontour\"}], \"mesh3d\": [{\"colorbar\": {\"outlinewidth\": 0, \"ticks\": \"\"}, \"type\": \"mesh3d\"}], \"parcoords\": [{\"line\": {\"colorbar\": {\"outlinewidth\": 0, \"ticks\": \"\"}}, \"type\": \"parcoords\"}], \"scatter\": [{\"marker\": {\"colorbar\": {\"outlinewidth\": 0, \"ticks\": \"\"}}, \"type\": \"scatter\"}], \"scatter3d\": [{\"line\": {\"colorbar\": {\"outlinewidth\": 0, \"ticks\": \"\"}}, \"marker\": {\"colorbar\": {\"outlinewidth\": 0, \"ticks\": \"\"}}, \"type\": \"scatter3d\"}], \"scattercarpet\": [{\"marker\": {\"colorbar\": {\"outlinewidth\": 0, \"ticks\": \"\"}}, \"type\": \"scattercarpet\"}], \"scattergeo\": [{\"marker\": {\"colorbar\": {\"outlinewidth\": 0, \"ticks\": \"\"}}, \"type\": \"scattergeo\"}], \"scattergl\": [{\"marker\": {\"colorbar\": {\"outlinewidth\": 0, \"ticks\": \"\"}}, \"type\": \"scattergl\"}], \"scattermapbox\": [{\"marker\": {\"colorbar\": {\"outlinewidth\": 0, \"ticks\": \"\"}}, \"type\": \"scattermapbox\"}], \"scatterpolar\": [{\"marker\": {\"colorbar\": {\"outlinewidth\": 0, \"ticks\": \"\"}}, \"type\": \"scatterpolar\"}], \"scatterpolargl\": [{\"marker\": {\"colorbar\": {\"outlinewidth\": 0, \"ticks\": \"\"}}, \"type\": \"scatterpolargl\"}], \"scatterternary\": [{\"marker\": {\"colorbar\": {\"outlinewidth\": 0, \"ticks\": \"\"}}, \"type\": \"scatterternary\"}], \"surface\": [{\"colorbar\": {\"outlinewidth\": 0, \"ticks\": \"\"}, \"colorscale\": [[0.0, \"#0d0887\"], [0.1111111111111111, \"#46039f\"], [0.2222222222222222, \"#7201a8\"], [0.3333333333333333, \"#9c179e\"], [0.4444444444444444, \"#bd3786\"], [0.5555555555555556, \"#d8576b\"], [0.6666666666666666, \"#ed7953\"], [0.7777777777777778, \"#fb9f3a\"], [0.8888888888888888, \"#fdca26\"], [1.0, \"#f0f921\"]], \"type\": \"surface\"}], \"table\": [{\"cells\": {\"fill\": {\"color\": \"#EBF0F8\"}, \"line\": {\"color\": \"white\"}}, \"header\": {\"fill\": {\"color\": \"#C8D4E3\"}, \"line\": {\"color\": \"white\"}}, \"type\": \"table\"}]}, \"layout\": {\"annotationdefaults\": {\"arrowcolor\": \"#2a3f5f\", \"arrowhead\": 0, \"arrowwidth\": 1}, \"colorscale\": {\"diverging\": [[0, \"#8e0152\"], [0.1, \"#c51b7d\"], [0.2, \"#de77ae\"], [0.3, \"#f1b6da\"], [0.4, \"#fde0ef\"], [0.5, \"#f7f7f7\"], [0.6, \"#e6f5d0\"], [0.7, \"#b8e186\"], [0.8, \"#7fbc41\"], [0.9, \"#4d9221\"], [1, \"#276419\"]], \"sequential\": [[0.0, \"#0d0887\"], [0.1111111111111111, \"#46039f\"], [0.2222222222222222, \"#7201a8\"], [0.3333333333333333, \"#9c179e\"], [0.4444444444444444, \"#bd3786\"], [0.5555555555555556, \"#d8576b\"], [0.6666666666666666, \"#ed7953\"], [0.7777777777777778, \"#fb9f3a\"], [0.8888888888888888, \"#fdca26\"], [1.0, \"#f0f921\"]], \"sequentialminus\": [[0.0, \"#0d0887\"], [0.1111111111111111, \"#46039f\"], [0.2222222222222222, \"#7201a8\"], [0.3333333333333333, \"#9c179e\"], [0.4444444444444444, \"#bd3786\"], [0.5555555555555556, \"#d8576b\"], [0.6666666666666666, \"#ed7953\"], [0.7777777777777778, \"#fb9f3a\"], [0.8888888888888888, \"#fdca26\"], [1.0, \"#f0f921\"]]}, \"colorway\": [\"#636efa\", \"#EF553B\", \"#00cc96\", \"#ab63fa\", \"#FFA15A\", \"#19d3f3\", \"#FF6692\", \"#B6E880\", \"#FF97FF\", \"#FECB52\"], \"font\": {\"color\": \"#2a3f5f\"}, \"geo\": {\"bgcolor\": \"white\", \"lakecolor\": \"white\", \"landcolor\": \"#E5ECF6\", \"showlakes\": true, \"showland\": true, \"subunitcolor\": \"white\"}, \"hoverlabel\": {\"align\": \"left\"}, \"hovermode\": \"closest\", \"mapbox\": {\"style\": \"light\"}, \"paper_bgcolor\": \"white\", \"plot_bgcolor\": \"#E5ECF6\", \"polar\": {\"angularaxis\": {\"gridcolor\": \"white\", \"linecolor\": \"white\", \"ticks\": \"\"}, \"bgcolor\": \"#E5ECF6\", \"radialaxis\": {\"gridcolor\": \"white\", \"linecolor\": \"white\", \"ticks\": \"\"}}, \"scene\": {\"xaxis\": {\"backgroundcolor\": \"#E5ECF6\", \"gridcolor\": \"white\", \"gridwidth\": 2, \"linecolor\": \"white\", \"showbackground\": true, \"ticks\": \"\", \"zerolinecolor\": \"white\"}, \"yaxis\": {\"backgroundcolor\": \"#E5ECF6\", \"gridcolor\": \"white\", \"gridwidth\": 2, \"linecolor\": \"white\", \"showbackground\": true, \"ticks\": \"\", \"zerolinecolor\": \"white\"}, \"zaxis\": {\"backgroundcolor\": \"#E5ECF6\", \"gridcolor\": \"white\", \"gridwidth\": 2, \"linecolor\": \"white\", \"showbackground\": true, \"ticks\": \"\", \"zerolinecolor\": \"white\"}}, \"shapedefaults\": {\"line\": {\"color\": \"#2a3f5f\"}}, \"ternary\": {\"aaxis\": {\"gridcolor\": \"white\", \"linecolor\": \"white\", \"ticks\": \"\"}, \"baxis\": {\"gridcolor\": \"white\", \"linecolor\": \"white\", \"ticks\": \"\"}, \"bgcolor\": \"#E5ECF6\", \"caxis\": {\"gridcolor\": \"white\", \"linecolor\": \"white\", \"ticks\": \"\"}}, \"title\": {\"x\": 0.05}, \"xaxis\": {\"automargin\": true, \"gridcolor\": \"white\", \"linecolor\": \"white\", \"ticks\": \"\", \"zerolinecolor\": \"white\", \"zerolinewidth\": 2}, \"yaxis\": {\"automargin\": true, \"gridcolor\": \"white\", \"linecolor\": \"white\", \"ticks\": \"\", \"zerolinecolor\": \"white\", \"zerolinewidth\": 2}}}, \"xaxis\": {\"anchor\": \"y\", \"domain\": [0.0, 0.98], \"title\": {\"text\": \"SPECIALITE\"}}, \"yaxis\": {\"anchor\": \"x\", \"domain\": [0.0, 1.0], \"title\": {\"text\": \"DEPASSEMENTS\"}}},\n",
       "                        {\"responsive\": true}\n",
       "                    ).then(function(){\n",
       "                            \n",
       "var gd = document.getElementById('8170bc7b-dd18-461b-a6a6-9be7b51ad395');\n",
       "var x = new MutationObserver(function (mutations, observer) {{\n",
       "        var display = window.getComputedStyle(gd).display;\n",
       "        if (!display || display === 'none') {{\n",
       "            console.log([gd, 'removed!']);\n",
       "            Plotly.purge(gd);\n",
       "            observer.disconnect();\n",
       "        }}\n",
       "}});\n",
       "\n",
       "// Listen for the removal of the full notebook cells\n",
       "var notebookContainer = gd.closest('#notebook-container');\n",
       "if (notebookContainer) {{\n",
       "    x.observe(notebookContainer, {childList: true});\n",
       "}}\n",
       "\n",
       "// Listen for the clearing of the current output cell\n",
       "var outputEl = gd.closest('.output');\n",
       "if (outputEl) {{\n",
       "    x.observe(outputEl, {childList: true});\n",
       "}}\n",
       "\n",
       "                        })\n",
       "                };\n",
       "                });\n",
       "            </script>\n",
       "        </div>"
      ]
     },
     "metadata": {},
     "output_type": "display_data"
    }
   ],
   "source": [
    "fig = px.bar(df_spe_rate_sorted.tail(10).reset_index(), x='SPECIALITE', y='DEPASSEMENTS')\n",
    "fig.show()"
   ]
  },
  {
   "cell_type": "code",
   "execution_count": 77,
   "metadata": {
    "ExecuteTime": {
     "end_time": "2019-11-06T22:19:03.611796Z",
     "start_time": "2019-11-06T22:19:03.590772Z"
    },
    "scrolled": true
   },
   "outputs": [
    {
     "data": {
      "text/html": [
       "<div>\n",
       "<style scoped>\n",
       "    .dataframe tbody tr th:only-of-type {\n",
       "        vertical-align: middle;\n",
       "    }\n",
       "\n",
       "    .dataframe tbody tr th {\n",
       "        vertical-align: top;\n",
       "    }\n",
       "\n",
       "    .dataframe thead th {\n",
       "        text-align: right;\n",
       "    }\n",
       "</style>\n",
       "<table border=\"1\" class=\"dataframe\">\n",
       "  <thead>\n",
       "    <tr style=\"text-align: right;\">\n",
       "      <th></th>\n",
       "      <th>SPECIALITE</th>\n",
       "      <th>DEPARTEMENT</th>\n",
       "      <th>EFFECTIFS</th>\n",
       "      <th>HONORAIRES_SANS_DEP</th>\n",
       "      <th>DEPASSEMENTS</th>\n",
       "      <th>FRAIS_DEPLMT</th>\n",
       "      <th>TOTAL_HONORAIRES</th>\n",
       "      <th>CAT</th>\n",
       "      <th>POPULATION</th>\n",
       "    </tr>\n",
       "  </thead>\n",
       "  <tbody>\n",
       "    <tr>\n",
       "      <td>0</td>\n",
       "      <td>02- Anesthésie-réanimation chirurgicale</td>\n",
       "      <td>01- Ain</td>\n",
       "      <td>17</td>\n",
       "      <td>4675795</td>\n",
       "      <td>2548194</td>\n",
       "      <td>0</td>\n",
       "      <td>7223990</td>\n",
       "      <td>specialistes</td>\n",
       "      <td>643906.0</td>\n",
       "    </tr>\n",
       "    <tr>\n",
       "      <td>1</td>\n",
       "      <td>02- Anesthésie-réanimation chirurgicale</td>\n",
       "      <td>02- Aisne</td>\n",
       "      <td>18</td>\n",
       "      <td>5196860</td>\n",
       "      <td>388808</td>\n",
       "      <td>0</td>\n",
       "      <td>5585668</td>\n",
       "      <td>specialistes</td>\n",
       "      <td>533679.0</td>\n",
       "    </tr>\n",
       "    <tr>\n",
       "      <td>2</td>\n",
       "      <td>02- Anesthésie-réanimation chirurgicale</td>\n",
       "      <td>03- Allier</td>\n",
       "      <td>17</td>\n",
       "      <td>4738207</td>\n",
       "      <td>530489</td>\n",
       "      <td>0</td>\n",
       "      <td>5268697</td>\n",
       "      <td>specialistes</td>\n",
       "      <td>337439.0</td>\n",
       "    </tr>\n",
       "    <tr>\n",
       "      <td>5</td>\n",
       "      <td>02- Anesthésie-réanimation chirurgicale</td>\n",
       "      <td>06- Alpes-Maritimes</td>\n",
       "      <td>108</td>\n",
       "      <td>25614553</td>\n",
       "      <td>11165710</td>\n",
       "      <td>0</td>\n",
       "      <td>36780264</td>\n",
       "      <td>specialistes</td>\n",
       "      <td>1083217.0</td>\n",
       "    </tr>\n",
       "    <tr>\n",
       "      <td>6</td>\n",
       "      <td>02- Anesthésie-réanimation chirurgicale</td>\n",
       "      <td>07- Ardèche</td>\n",
       "      <td>21</td>\n",
       "      <td>5613968</td>\n",
       "      <td>798986</td>\n",
       "      <td>0</td>\n",
       "      <td>6412955</td>\n",
       "      <td>specialistes</td>\n",
       "      <td>325985.0</td>\n",
       "    </tr>\n",
       "    <tr>\n",
       "      <td>...</td>\n",
       "      <td>...</td>\n",
       "      <td>...</td>\n",
       "      <td>...</td>\n",
       "      <td>...</td>\n",
       "      <td>...</td>\n",
       "      <td>...</td>\n",
       "      <td>...</td>\n",
       "      <td>...</td>\n",
       "      <td>...</td>\n",
       "    </tr>\n",
       "    <tr>\n",
       "      <td>13092</td>\n",
       "      <td>36- Chirurgiens-dentistes, spécialistes O.D.F.</td>\n",
       "      <td>92- Hauts-de-Seine</td>\n",
       "      <td>84</td>\n",
       "      <td>11335296</td>\n",
       "      <td>33706544</td>\n",
       "      <td>0</td>\n",
       "      <td>45041841</td>\n",
       "      <td>dentistes</td>\n",
       "      <td>1604826.0</td>\n",
       "    </tr>\n",
       "    <tr>\n",
       "      <td>13093</td>\n",
       "      <td>36- Chirurgiens-dentistes, spécialistes O.D.F.</td>\n",
       "      <td>93- Seine-St-Denis</td>\n",
       "      <td>31</td>\n",
       "      <td>4764196</td>\n",
       "      <td>10755229</td>\n",
       "      <td>0</td>\n",
       "      <td>15519425</td>\n",
       "      <td>dentistes</td>\n",
       "      <td>1622936.0</td>\n",
       "    </tr>\n",
       "    <tr>\n",
       "      <td>13094</td>\n",
       "      <td>36- Chirurgiens-dentistes, spécialistes O.D.F.</td>\n",
       "      <td>94- Val-de-Marne</td>\n",
       "      <td>45</td>\n",
       "      <td>6401482</td>\n",
       "      <td>16523542</td>\n",
       "      <td>0</td>\n",
       "      <td>22925025</td>\n",
       "      <td>dentistes</td>\n",
       "      <td>1384124.0</td>\n",
       "    </tr>\n",
       "    <tr>\n",
       "      <td>13095</td>\n",
       "      <td>36- Chirurgiens-dentistes, spécialistes O.D.F.</td>\n",
       "      <td>95- Val-d'Oise</td>\n",
       "      <td>26</td>\n",
       "      <td>5353708</td>\n",
       "      <td>13496683</td>\n",
       "      <td>0</td>\n",
       "      <td>18850392</td>\n",
       "      <td>dentistes</td>\n",
       "      <td>1229569.0</td>\n",
       "    </tr>\n",
       "    <tr>\n",
       "      <td>13100</td>\n",
       "      <td>36- Chirurgiens-dentistes, spécialistes O.D.F.</td>\n",
       "      <td>974- Réunion</td>\n",
       "      <td>18</td>\n",
       "      <td>4017097</td>\n",
       "      <td>6318516</td>\n",
       "      <td>0</td>\n",
       "      <td>10335613</td>\n",
       "      <td>dentistes</td>\n",
       "      <td>857816.0</td>\n",
       "    </tr>\n",
       "  </tbody>\n",
       "</table>\n",
       "<p>1762 rows × 9 columns</p>\n",
       "</div>"
      ],
      "text/plain": [
       "                                           SPECIALITE          DEPARTEMENT  \\\n",
       "0             02- Anesthésie-réanimation chirurgicale              01- Ain   \n",
       "1             02- Anesthésie-réanimation chirurgicale            02- Aisne   \n",
       "2             02- Anesthésie-réanimation chirurgicale           03- Allier   \n",
       "5             02- Anesthésie-réanimation chirurgicale  06- Alpes-Maritimes   \n",
       "6             02- Anesthésie-réanimation chirurgicale          07- Ardèche   \n",
       "...                                               ...                  ...   \n",
       "13092  36- Chirurgiens-dentistes, spécialistes O.D.F.   92- Hauts-de-Seine   \n",
       "13093  36- Chirurgiens-dentistes, spécialistes O.D.F.   93- Seine-St-Denis   \n",
       "13094  36- Chirurgiens-dentistes, spécialistes O.D.F.     94- Val-de-Marne   \n",
       "13095  36- Chirurgiens-dentistes, spécialistes O.D.F.       95- Val-d'Oise   \n",
       "13100  36- Chirurgiens-dentistes, spécialistes O.D.F.         974- Réunion   \n",
       "\n",
       "       EFFECTIFS  HONORAIRES_SANS_DEP  DEPASSEMENTS  FRAIS_DEPLMT  \\\n",
       "0             17              4675795       2548194             0   \n",
       "1             18              5196860        388808             0   \n",
       "2             17              4738207        530489             0   \n",
       "5            108             25614553      11165710             0   \n",
       "6             21              5613968        798986             0   \n",
       "...          ...                  ...           ...           ...   \n",
       "13092         84             11335296      33706544             0   \n",
       "13093         31              4764196      10755229             0   \n",
       "13094         45              6401482      16523542             0   \n",
       "13095         26              5353708      13496683             0   \n",
       "13100         18              4017097       6318516             0   \n",
       "\n",
       "       TOTAL_HONORAIRES           CAT  POPULATION  \n",
       "0               7223990  specialistes    643906.0  \n",
       "1               5585668  specialistes    533679.0  \n",
       "2               5268697  specialistes    337439.0  \n",
       "5              36780264  specialistes   1083217.0  \n",
       "6               6412955  specialistes    325985.0  \n",
       "...                 ...           ...         ...  \n",
       "13092          45041841     dentistes   1604826.0  \n",
       "13093          15519425     dentistes   1622936.0  \n",
       "13094          22925025     dentistes   1384124.0  \n",
       "13095          18850392     dentistes   1229569.0  \n",
       "13100          10335613     dentistes    857816.0  \n",
       "\n",
       "[1762 rows x 9 columns]"
      ]
     },
     "execution_count": 77,
     "metadata": {},
     "output_type": "execute_result"
    }
   ],
   "source": [
    "df"
   ]
  },
  {
   "cell_type": "markdown",
   "metadata": {},
   "source": [
    "### Quelle catégorie de professionnels de santé a le taux de dépassements d'honoraire le plus élevé  par département "
   ]
  },
  {
   "cell_type": "code",
   "execution_count": 78,
   "metadata": {
    "ExecuteTime": {
     "end_time": "2019-11-06T22:19:04.828022Z",
     "start_time": "2019-11-06T22:19:04.804499Z"
    }
   },
   "outputs": [
    {
     "data": {
      "text/html": [
       "<div>\n",
       "<style scoped>\n",
       "    .dataframe tbody tr th:only-of-type {\n",
       "        vertical-align: middle;\n",
       "    }\n",
       "\n",
       "    .dataframe tbody tr th {\n",
       "        vertical-align: top;\n",
       "    }\n",
       "\n",
       "    .dataframe thead th {\n",
       "        text-align: right;\n",
       "    }\n",
       "</style>\n",
       "<table border=\"1\" class=\"dataframe\">\n",
       "  <thead>\n",
       "    <tr style=\"text-align: right;\">\n",
       "      <th></th>\n",
       "      <th></th>\n",
       "      <th>EFFECTIFS</th>\n",
       "      <th>HONORAIRES_SANS_DEP</th>\n",
       "      <th>DEPASSEMENTS</th>\n",
       "      <th>FRAIS_DEPLMT</th>\n",
       "      <th>TOTAL_HONORAIRES</th>\n",
       "      <th>POPULATION</th>\n",
       "    </tr>\n",
       "    <tr>\n",
       "      <th>DEPARTEMENT</th>\n",
       "      <th>CAT</th>\n",
       "      <th></th>\n",
       "      <th></th>\n",
       "      <th></th>\n",
       "      <th></th>\n",
       "      <th></th>\n",
       "      <th></th>\n",
       "    </tr>\n",
       "  </thead>\n",
       "  <tbody>\n",
       "    <tr>\n",
       "      <td>75- Paris (Ville)</td>\n",
       "      <td>dentistes</td>\n",
       "      <td>0.000454</td>\n",
       "      <td>38.365060</td>\n",
       "      <td>61.634938</td>\n",
       "      <td>0.000002</td>\n",
       "      <td>100.0</td>\n",
       "      <td>0.878174</td>\n",
       "    </tr>\n",
       "    <tr>\n",
       "      <td>78- Yvelines</td>\n",
       "      <td>dentistes</td>\n",
       "      <td>0.000347</td>\n",
       "      <td>41.321295</td>\n",
       "      <td>58.678657</td>\n",
       "      <td>0.000048</td>\n",
       "      <td>100.0</td>\n",
       "      <td>1.229802</td>\n",
       "    </tr>\n",
       "    <tr>\n",
       "      <td>92- Hauts-de-Seine</td>\n",
       "      <td>dentistes</td>\n",
       "      <td>0.000367</td>\n",
       "      <td>41.697712</td>\n",
       "      <td>58.302287</td>\n",
       "      <td>0.000000</td>\n",
       "      <td>100.0</td>\n",
       "      <td>1.096513</td>\n",
       "    </tr>\n",
       "    <tr>\n",
       "      <td>95- Val-d'Oise</td>\n",
       "      <td>dentistes</td>\n",
       "      <td>0.000295</td>\n",
       "      <td>42.628159</td>\n",
       "      <td>57.371839</td>\n",
       "      <td>0.000001</td>\n",
       "      <td>100.0</td>\n",
       "      <td>1.420283</td>\n",
       "    </tr>\n",
       "    <tr>\n",
       "      <td>38- Isère</td>\n",
       "      <td>dentistes</td>\n",
       "      <td>0.000339</td>\n",
       "      <td>42.750305</td>\n",
       "      <td>57.249682</td>\n",
       "      <td>0.000013</td>\n",
       "      <td>100.0</td>\n",
       "      <td>1.273858</td>\n",
       "    </tr>\n",
       "    <tr>\n",
       "      <td>91- Essonne</td>\n",
       "      <td>dentistes</td>\n",
       "      <td>0.000344</td>\n",
       "      <td>43.209079</td>\n",
       "      <td>56.790919</td>\n",
       "      <td>0.000001</td>\n",
       "      <td>100.0</td>\n",
       "      <td>1.494307</td>\n",
       "    </tr>\n",
       "    <tr>\n",
       "      <td>73- Savoie</td>\n",
       "      <td>dentistes</td>\n",
       "      <td>0.000370</td>\n",
       "      <td>43.247954</td>\n",
       "      <td>56.752045</td>\n",
       "      <td>0.000000</td>\n",
       "      <td>100.0</td>\n",
       "      <td>1.211038</td>\n",
       "    </tr>\n",
       "    <tr>\n",
       "      <td>01- Ain</td>\n",
       "      <td>dentistes</td>\n",
       "      <td>0.000378</td>\n",
       "      <td>43.749606</td>\n",
       "      <td>56.250394</td>\n",
       "      <td>0.000000</td>\n",
       "      <td>100.0</td>\n",
       "      <td>1.517828</td>\n",
       "    </tr>\n",
       "    <tr>\n",
       "      <td>77- Seine-et-Marne</td>\n",
       "      <td>dentistes</td>\n",
       "      <td>0.000323</td>\n",
       "      <td>43.797754</td>\n",
       "      <td>56.202245</td>\n",
       "      <td>0.000000</td>\n",
       "      <td>100.0</td>\n",
       "      <td>1.520886</td>\n",
       "    </tr>\n",
       "    <tr>\n",
       "      <td>94- Val-de-Marne</td>\n",
       "      <td>dentistes</td>\n",
       "      <td>0.000371</td>\n",
       "      <td>44.229944</td>\n",
       "      <td>55.770056</td>\n",
       "      <td>0.000000</td>\n",
       "      <td>100.0</td>\n",
       "      <td>1.443967</td>\n",
       "    </tr>\n",
       "  </tbody>\n",
       "</table>\n",
       "</div>"
      ],
      "text/plain": [
       "                              EFFECTIFS  HONORAIRES_SANS_DEP  DEPASSEMENTS  \\\n",
       "DEPARTEMENT        CAT                                                       \n",
       "75- Paris (Ville)  dentistes   0.000454            38.365060     61.634938   \n",
       "78- Yvelines       dentistes   0.000347            41.321295     58.678657   \n",
       "92- Hauts-de-Seine dentistes   0.000367            41.697712     58.302287   \n",
       "95- Val-d'Oise     dentistes   0.000295            42.628159     57.371839   \n",
       "38- Isère          dentistes   0.000339            42.750305     57.249682   \n",
       "91- Essonne        dentistes   0.000344            43.209079     56.790919   \n",
       "73- Savoie         dentistes   0.000370            43.247954     56.752045   \n",
       "01- Ain            dentistes   0.000378            43.749606     56.250394   \n",
       "77- Seine-et-Marne dentistes   0.000323            43.797754     56.202245   \n",
       "94- Val-de-Marne   dentistes   0.000371            44.229944     55.770056   \n",
       "\n",
       "                              FRAIS_DEPLMT  TOTAL_HONORAIRES  POPULATION  \n",
       "DEPARTEMENT        CAT                                                    \n",
       "75- Paris (Ville)  dentistes      0.000002             100.0    0.878174  \n",
       "78- Yvelines       dentistes      0.000048             100.0    1.229802  \n",
       "92- Hauts-de-Seine dentistes      0.000000             100.0    1.096513  \n",
       "95- Val-d'Oise     dentistes      0.000001             100.0    1.420283  \n",
       "38- Isère          dentistes      0.000013             100.0    1.273858  \n",
       "91- Essonne        dentistes      0.000001             100.0    1.494307  \n",
       "73- Savoie         dentistes      0.000000             100.0    1.211038  \n",
       "01- Ain            dentistes      0.000000             100.0    1.517828  \n",
       "77- Seine-et-Marne dentistes      0.000000             100.0    1.520886  \n",
       "94- Val-de-Marne   dentistes      0.000000             100.0    1.443967  "
      ]
     },
     "execution_count": 78,
     "metadata": {},
     "output_type": "execute_result"
    }
   ],
   "source": [
    "df_dep_cat = df.groupby(['DEPARTEMENT', 'CAT']).sum().sort_values(by = \"EFFECTIFS\", ascending=False)\n",
    "df_dep_cat_eff =df_dep_cat.div(df_dep_cat.EFFECTIFS, axis=0).sort_values(by = \"EFFECTIFS\", ascending=False)\n",
    "df_dep_cat_eff.div(df_dep_cat_eff.TOTAL_HONORAIRES*0.01, axis=0).sort_values(by = \"DEPASSEMENTS\", ascending=False).head(10)"
   ]
  },
  {
   "cell_type": "code",
   "execution_count": 91,
   "metadata": {
    "ExecuteTime": {
     "end_time": "2019-11-06T22:22:12.790963Z",
     "start_time": "2019-11-06T22:22:12.769905Z"
    }
   },
   "outputs": [
    {
     "data": {
      "text/html": [
       "<div>\n",
       "<style scoped>\n",
       "    .dataframe tbody tr th:only-of-type {\n",
       "        vertical-align: middle;\n",
       "    }\n",
       "\n",
       "    .dataframe tbody tr th {\n",
       "        vertical-align: top;\n",
       "    }\n",
       "\n",
       "    .dataframe thead th {\n",
       "        text-align: right;\n",
       "    }\n",
       "</style>\n",
       "<table border=\"1\" class=\"dataframe\">\n",
       "  <thead>\n",
       "    <tr style=\"text-align: right;\">\n",
       "      <th></th>\n",
       "      <th>EFFECTIFS</th>\n",
       "      <th>HONORAIRES_SANS_DEP</th>\n",
       "      <th>DEPASSEMENTS</th>\n",
       "      <th>FRAIS_DEPLMT</th>\n",
       "      <th>TOTAL_HONORAIRES</th>\n",
       "    </tr>\n",
       "    <tr>\n",
       "      <th>DEPARTEMENT</th>\n",
       "      <th></th>\n",
       "      <th></th>\n",
       "      <th></th>\n",
       "      <th></th>\n",
       "      <th></th>\n",
       "    </tr>\n",
       "  </thead>\n",
       "  <tbody>\n",
       "    <tr>\n",
       "      <td>01- Ain</td>\n",
       "      <td>1.0</td>\n",
       "      <td>158044.743350</td>\n",
       "      <td>44205.532710</td>\n",
       "      <td>341.906542</td>\n",
       "      <td>202592.189792</td>\n",
       "    </tr>\n",
       "    <tr>\n",
       "      <td>64- Pyrénées-Atlantiques</td>\n",
       "      <td>1.0</td>\n",
       "      <td>156804.344404</td>\n",
       "      <td>33060.633935</td>\n",
       "      <td>482.778339</td>\n",
       "      <td>190347.763538</td>\n",
       "    </tr>\n",
       "    <tr>\n",
       "      <td>74- Haute-Savoie</td>\n",
       "      <td>1.0</td>\n",
       "      <td>139576.262144</td>\n",
       "      <td>42720.202328</td>\n",
       "      <td>246.997190</td>\n",
       "      <td>182543.466881</td>\n",
       "    </tr>\n",
       "    <tr>\n",
       "      <td>73- Savoie</td>\n",
       "      <td>1.0</td>\n",
       "      <td>142584.830357</td>\n",
       "      <td>37860.476648</td>\n",
       "      <td>324.097527</td>\n",
       "      <td>180769.410714</td>\n",
       "    </tr>\n",
       "    <tr>\n",
       "      <td>72- Sarthe</td>\n",
       "      <td>1.0</td>\n",
       "      <td>198741.358459</td>\n",
       "      <td>37209.950586</td>\n",
       "      <td>261.415410</td>\n",
       "      <td>236212.734506</td>\n",
       "    </tr>\n",
       "    <tr>\n",
       "      <td>...</td>\n",
       "      <td>...</td>\n",
       "      <td>...</td>\n",
       "      <td>...</td>\n",
       "      <td>...</td>\n",
       "      <td>...</td>\n",
       "    </tr>\n",
       "    <tr>\n",
       "      <td>31- Haute-Garonne</td>\n",
       "      <td>1.0</td>\n",
       "      <td>159932.820504</td>\n",
       "      <td>29709.625511</td>\n",
       "      <td>237.549557</td>\n",
       "      <td>189880.000681</td>\n",
       "    </tr>\n",
       "    <tr>\n",
       "      <td>30- Gard</td>\n",
       "      <td>1.0</td>\n",
       "      <td>167902.258427</td>\n",
       "      <td>30037.501457</td>\n",
       "      <td>215.174782</td>\n",
       "      <td>198154.942572</td>\n",
       "    </tr>\n",
       "    <tr>\n",
       "      <td>2B- Haute-Corse</td>\n",
       "      <td>1.0</td>\n",
       "      <td>167554.448485</td>\n",
       "      <td>23664.977778</td>\n",
       "      <td>5218.238384</td>\n",
       "      <td>196437.680808</td>\n",
       "    </tr>\n",
       "    <tr>\n",
       "      <td>2A- Corse-du-Sud</td>\n",
       "      <td>1.0</td>\n",
       "      <td>163755.629870</td>\n",
       "      <td>29280.389610</td>\n",
       "      <td>3997.554113</td>\n",
       "      <td>197033.588745</td>\n",
       "    </tr>\n",
       "    <tr>\n",
       "      <td>976- Mayotte</td>\n",
       "      <td>1.0</td>\n",
       "      <td>189473.475410</td>\n",
       "      <td>13181.606557</td>\n",
       "      <td>112.721311</td>\n",
       "      <td>202767.819672</td>\n",
       "    </tr>\n",
       "  </tbody>\n",
       "</table>\n",
       "<p>101 rows × 5 columns</p>\n",
       "</div>"
      ],
      "text/plain": [
       "                          EFFECTIFS  HONORAIRES_SANS_DEP  DEPASSEMENTS  \\\n",
       "DEPARTEMENT                                                              \n",
       "01- Ain                         1.0        158044.743350  44205.532710   \n",
       "64- Pyrénées-Atlantiques        1.0        156804.344404  33060.633935   \n",
       "74- Haute-Savoie                1.0        139576.262144  42720.202328   \n",
       "73- Savoie                      1.0        142584.830357  37860.476648   \n",
       "72- Sarthe                      1.0        198741.358459  37209.950586   \n",
       "...                             ...                  ...           ...   \n",
       "31- Haute-Garonne               1.0        159932.820504  29709.625511   \n",
       "30- Gard                        1.0        167902.258427  30037.501457   \n",
       "2B- Haute-Corse                 1.0        167554.448485  23664.977778   \n",
       "2A- Corse-du-Sud                1.0        163755.629870  29280.389610   \n",
       "976- Mayotte                    1.0        189473.475410  13181.606557   \n",
       "\n",
       "                          FRAIS_DEPLMT  TOTAL_HONORAIRES  \n",
       "DEPARTEMENT                                               \n",
       "01- Ain                     341.906542     202592.189792  \n",
       "64- Pyrénées-Atlantiques    482.778339     190347.763538  \n",
       "74- Haute-Savoie            246.997190     182543.466881  \n",
       "73- Savoie                  324.097527     180769.410714  \n",
       "72- Sarthe                  261.415410     236212.734506  \n",
       "...                                ...               ...  \n",
       "31- Haute-Garonne           237.549557     189880.000681  \n",
       "30- Gard                    215.174782     198154.942572  \n",
       "2B- Haute-Corse            5218.238384     196437.680808  \n",
       "2A- Corse-du-Sud           3997.554113     197033.588745  \n",
       "976- Mayotte                112.721311     202767.819672  \n",
       "\n",
       "[101 rows x 5 columns]"
      ]
     },
     "execution_count": 91,
     "metadata": {},
     "output_type": "execute_result"
    }
   ],
   "source": [
    "df.groupby(['DEPARTEMENT']).sum().div(df.groupby(['DEPARTEMENT']).sum().EFFECTIFS, axis=0).sort_values(by = \"EFFECTIFS\", ascending=False)"
   ]
  },
  {
   "cell_type": "markdown",
   "metadata": {
    "ExecuteTime": {
     "end_time": "2019-11-06T22:41:03.786743Z",
     "start_time": "2019-11-06T22:41:03.782745Z"
    }
   },
   "source": [
    "## Correlation entre densité population, professionnels de santé et dépassemnts par département "
   ]
  },
  {
   "cell_type": "code",
   "execution_count": 168,
   "metadata": {
    "ExecuteTime": {
     "end_time": "2019-11-06T23:30:31.536040Z",
     "start_time": "2019-11-06T23:30:31.350317Z"
    }
   },
   "outputs": [],
   "source": [
    "df_dep_effectif = df[[\"DEPARTEMENT\",\"EFFECTIFS\", \"DEPASSEMENTS\"]].groupby(['DEPARTEMENT']).agg({'EFFECTIFS': 'sum', 'DEPASSEMENTS': 'mean'}).reset_index()\n",
    "# Add population data\n",
    "demo_data = pd.read_excel ('estim-pop-dep-sexe-gca-1975-2019.xls', sheet_name='2017',header=4 )\n",
    "demo_data = demo_data.rename(columns={\"Unnamed: 0\": \"dep_num\", \"Unnamed: 1\": \"dep_name\"})\n",
    "demo_data['dep_num'] = demo_data['dep_num'].astype(str)\n",
    "department_pop = demo_data.set_index(\"dep_num\")[\"Total\"].to_dict()\n",
    "df_dep_effectif['POPULATION'] = df_dep_effectif['DEPARTEMENT'].apply(lambda dep: department_pop[dep.split(\"-\")[0]])"
   ]
  },
  {
   "cell_type": "code",
   "execution_count": 169,
   "metadata": {
    "ExecuteTime": {
     "end_time": "2019-11-06T23:30:38.028589Z",
     "start_time": "2019-11-06T23:30:38.022610Z"
    }
   },
   "outputs": [],
   "source": [
    "df_dep_effectif['densite'] = df_dep_effectif.apply(lambda row: row['EFFECTIFS']/(row['POPULATION']/100000), axis = 1)"
   ]
  },
  {
   "cell_type": "code",
   "execution_count": 170,
   "metadata": {
    "ExecuteTime": {
     "end_time": "2019-11-06T23:30:38.519789Z",
     "start_time": "2019-11-06T23:30:38.514769Z"
    }
   },
   "outputs": [],
   "source": [
    "from sklearn.linear_model import LinearRegression\n",
    "import numpy as np\n",
    "model = LinearRegression()\n",
    "model.fit(np.array(df_dep_effectif[\"densite\"].to_list()).reshape(-1, 1), df_dep_effectif['DEPASSEMENTS']);"
   ]
  },
  {
   "cell_type": "code",
   "execution_count": 171,
   "metadata": {
    "ExecuteTime": {
     "end_time": "2019-11-06T23:30:38.970696Z",
     "start_time": "2019-11-06T23:30:38.965708Z"
    }
   },
   "outputs": [
    {
     "name": "stdout",
     "output_type": "stream",
     "text": [
      "Régression linéaire entre la densité des médecins, la population par département et les dépassement d'honoraire : depassemnt = 18082.04 * densité medecin -1576146.831 \n",
      "R^2 = 0.336 \n"
     ]
    }
   ],
   "source": [
    "print(\"Régression linéaire entre la densité des médecins, la population par département et les dépassement d'honoraire : depassemnt = %.2f * densité medecin %.3f \" \\\n",
    "      % (model.coef_[0], model.intercept_))\n",
    "print(\"R^2 = %.3f \" % (model.score(np.array(df_dep_effectif[\"densite\"].to_list()).reshape(-1, 1), df_dep_effectif['DEPASSEMENTS'])))"
   ]
  },
  {
   "cell_type": "markdown",
   "metadata": {},
   "source": [
    "On observe une corrélation plutot faible entre la densité de professionnels de santé et la pratique du dépassemnt d'honoraire"
   ]
  },
  {
   "cell_type": "code",
   "execution_count": 72,
   "metadata": {
    "ExecuteTime": {
     "end_time": "2019-11-04T21:13:26.587182Z",
     "start_time": "2019-11-04T21:13:26.581186Z"
    }
   },
   "outputs": [
    {
     "data": {
      "text/plain": [
       "0.6605511898547921"
      ]
     },
     "execution_count": 72,
     "metadata": {},
     "output_type": "execute_result"
    }
   ],
   "source": [
    "df.groupby(['DEPARTEMENT']).sum().sort_values(by = \"EFFECTIFS\", ascending=False)\n",
    "par nb habitant"
   ]
  }
 ],
 "metadata": {
  "kernelspec": {
   "display_name": "Python 3",
   "language": "python",
   "name": "python3"
  },
  "language_info": {
   "codemirror_mode": {
    "name": "ipython",
    "version": 3
   },
   "file_extension": ".py",
   "mimetype": "text/x-python",
   "name": "python",
   "nbconvert_exporter": "python",
   "pygments_lexer": "ipython3",
   "version": "3.6.9"
  }
 },
 "nbformat": 4,
 "nbformat_minor": 2
}
